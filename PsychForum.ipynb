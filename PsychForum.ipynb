{
  "nbformat": 4,
  "nbformat_minor": 0,
  "metadata": {
    "colab": {
      "name": "Day2_CCN_Training_SOLUTION.ipynb",
      "provenance": [],
      "collapsed_sections": [],
      "toc_visible": true,
      "machine_shape": "hm",
      "include_colab_link": true
    },
    "kernelspec": {
      "name": "python3",
      "display_name": "Python 3"
    },
    "accelerator": "GPU"
  },
  "cells": [
    {
      "cell_type": "markdown",
      "metadata": {
        "id": "view-in-github",
        "colab_type": "text"
      },
      "source": [
        "<a href=\"https://colab.research.google.com/github/hsscholte/psyForum/blob/master/PsychForum.ipynb\" target=\"_parent\"><img src=\"https://colab.research.google.com/assets/colab-badge.svg\" alt=\"Open In Colab\"/></a>"
      ]
    },
    {
      "cell_type": "markdown",
      "metadata": {
        "id": "rDbCH-zG4IvJ",
        "colab_type": "text"
      },
      "source": [
        "#Psyforum Tutorial 1: Training a deep neural network (v1.4)\n",
        "Lynn Sörensen & H.Steven Scholte\n",
        "\n",
        "### Welcome! \n",
        "In this tutorial you will learn how to train a convolutional deep neural network (DCNN) on a simple object recognition task.\n",
        "\n",
        "You will \n",
        "* build a Resnet model and look at its architecture <br/>\n",
        "* train it on CIFAR10 <br/>\n",
        "* ...with different learning schedules and observe the effects <br/>\n",
        "\n",
        "next, you will\n",
        "* design your own model and training scheme to get an optimal classification on a task. \n",
        "\n",
        "This tutorial is also going to get you acquainted with a dataset and a model architecture that will be used in a later tutorial. \n",
        "\n",
        "#### Some extra information:\n",
        "There are different types of exercises throughout this tutorial, including:\n",
        "\n",
        "- <font color='darkorange'><b>ToDos</b></font> : short programming exercises \n",
        "- <font color='cornflowerblue'><b>ToThinks</b></font>: questions about the (preceding) text/material\n",
        "\n",
        "Sometimes, you also encounter <font color='limegreen'><b>Tips and Tricks</b></font>, which may contain advice, more information on a specific topic, or links to relevant websites or material.\n",
        "\n",
        "#### GPU support\n",
        "Don't forget to change your runtime type to GPU accelerator if you want to train these model. Click on `Runtime` above this notebook in the Colab environment and then on `Change Runtime Type`. Set Hardware accelerator to `GPU`.\n",
        "\n",
        "\n"
      ]
    },
    {
      "cell_type": "markdown",
      "metadata": {
        "id": "ikPkQ_8eKRf7",
        "colab_type": "text"
      },
      "source": [
        "### Let's start!\n",
        "\n",
        "With importing the necessary packages:"
      ]
    },
    {
      "cell_type": "code",
      "metadata": {
        "id": "MOtWQVH34e9I",
        "colab_type": "code",
        "outputId": "157ad3f5-b6e3-41bb-98e4-a441770bb0f9",
        "colab": {
          "base_uri": "https://localhost:8080/",
          "height": 80
        }
      },
      "source": [
        "import keras\n",
        "from keras.layers import Dense, Conv2D, BatchNormalization, Activation\n",
        "from keras.layers import AveragePooling2D, Input, Flatten\n",
        "from keras.models import Model\n",
        "from keras.datasets import cifar10\n",
        "import matplotlib.pyplot as plt\n",
        "import numpy as np\n",
        "import pickle\n",
        "from sklearn.model_selection import train_test_split\n",
        "\n"
      ],
      "execution_count": 1,
      "outputs": [
        {
          "output_type": "stream",
          "text": [
            "Using TensorFlow backend.\n"
          ],
          "name": "stderr"
        },
        {
          "output_type": "display_data",
          "data": {
            "text/html": [
              "<p style=\"color: red;\">\n",
              "The default version of TensorFlow in Colab will soon switch to TensorFlow 2.x.<br>\n",
              "We recommend you <a href=\"https://www.tensorflow.org/guide/migrate\" target=\"_blank\">upgrade</a> now \n",
              "or ensure your notebook will continue to use TensorFlow 1.x via the <code>%tensorflow_version 1.x</code> magic:\n",
              "<a href=\"https://colab.research.google.com/notebooks/tensorflow_version.ipynb\" target=\"_blank\">more info</a>.</p>\n"
            ],
            "text/plain": [
              "<IPython.core.display.HTML object>"
            ]
          },
          "metadata": {
            "tags": []
          }
        }
      ]
    },
    {
      "cell_type": "markdown",
      "metadata": {
        "id": "HBO77imOswz1",
        "colab_type": "text"
      },
      "source": [
        "And connect our google drive!"
      ]
    },
    {
      "cell_type": "code",
      "metadata": {
        "id": "xPOCjy-cs1xo",
        "colab_type": "code",
        "colab": {
          "base_uri": "https://localhost:8080/",
          "height": 122
        },
        "outputId": "b8a2cd9f-8240-4d70-cdf9-25e037f8bace"
      },
      "source": [
        "from google.colab import drive\n",
        "\n",
        "drive.mount('/gdrive', force_remount=True)"
      ],
      "execution_count": 2,
      "outputs": [
        {
          "output_type": "stream",
          "text": [
            "Go to this URL in a browser: https://accounts.google.com/o/oauth2/auth?client_id=947318989803-6bn6qk8qdgf4n4g3pfee6491hc0brc4i.apps.googleusercontent.com&redirect_uri=urn%3aietf%3awg%3aoauth%3a2.0%3aoob&response_type=code&scope=email%20https%3a%2f%2fwww.googleapis.com%2fauth%2fdocs.test%20https%3a%2f%2fwww.googleapis.com%2fauth%2fdrive%20https%3a%2f%2fwww.googleapis.com%2fauth%2fdrive.photos.readonly%20https%3a%2f%2fwww.googleapis.com%2fauth%2fpeopleapi.readonly\n",
            "\n",
            "Enter your authorization code:\n",
            "··········\n",
            "Mounted at /gdrive\n"
          ],
          "name": "stdout"
        }
      ]
    },
    {
      "cell_type": "markdown",
      "metadata": {
        "id": "uz5hRTSFjE7Z",
        "colab_type": "text"
      },
      "source": [
        "And lets create a directory in your gdrive to store the models"
      ]
    },
    {
      "cell_type": "code",
      "metadata": {
        "id": "h4WDh6LUjFRN",
        "colab_type": "code",
        "colab": {
          "base_uri": "https://localhost:8080/",
          "height": 34
        },
        "outputId": "e70bb1d8-1675-4791-ab0f-89e21826a7ed"
      },
      "source": [
        "mkdir \"/gdrive/My Drive/PsyForum\""
      ],
      "execution_count": 3,
      "outputs": [
        {
          "output_type": "stream",
          "text": [
            "mkdir: cannot create directory ‘/gdrive/My Drive/PsyForum’: File exists\n"
          ],
          "name": "stdout"
        }
      ]
    },
    {
      "cell_type": "markdown",
      "metadata": {
        "id": "_GS2we05FD-m",
        "colab_type": "text"
      },
      "source": [
        "And define some useful functions for later!"
      ]
    },
    {
      "cell_type": "code",
      "metadata": {
        "id": "SgB0UCVlE7XW",
        "colab_type": "code",
        "colab": {}
      },
      "source": [
        "def save_pickle(obj, name):\n",
        "    try:\n",
        "        filename = open(name + \".pickle\",\"wb\")\n",
        "        pickle.dump(obj, filename)\n",
        "        filename.close()\n",
        "        return(True)\n",
        "    except:\n",
        "        return(False)\n",
        "\n",
        "\n",
        "def load_pickle(filename):\n",
        "    return pickle.load(open(filename, \"rb\"))\n",
        "  \n",
        "def plot_training(history, title=None):\n",
        "  epochs = len(history.history['loss'])\n",
        "  if 'lr' in history.history:\n",
        "    fig, ax = plt.subplots(1, 3, figsize=(20,5))\n",
        "    ax = ax.flatten()\n",
        "    ax[0].plot(np.arange(epochs), np.transpose([history.history['loss'], history.history['val_loss']]))\n",
        "    ax[0].set_xlabel('epochs')\n",
        "    ax[0].set_ylabel('loss')\n",
        "    ax[0].set_ylim([0,3])\n",
        "    ax[0].legend(['training', 'validation'])\n",
        "\n",
        "    ax[1].plot(np.arange(epochs), np.transpose([history.history['acc'], history.history['val_acc']]))\n",
        "    ax[1].set_xlabel('epochs')\n",
        "    ax[1].set_ylabel('accuracy')\n",
        "    ax[1].set_ylim([0,1])\n",
        "    ax[1].legend(['training', 'validation'])\n",
        "    \n",
        "    ax[2].plot(np.arange(epochs), history.history['lr'])\n",
        "    ax[2].set_xlabel('epochs')\n",
        "    ax[2].set_ylabel('learning rate')\n",
        "    #ax[2].set_ylim([0,1])\n",
        "  else:\n",
        "    fig, ax = plt.subplots(1, 2, figsize=(15,5))\n",
        "    ax = ax.flatten()\n",
        "    ax[0].plot(np.arange(epochs), np.transpose([history.history['loss'], history.history['val_loss']]))\n",
        "    ax[0].set_xlabel('epochs')\n",
        "    ax[0].set_ylabel('loss')\n",
        "    ax[0].set_ylim([0,3])\n",
        "\n",
        "    ax[1].plot(np.arange(epochs), np.transpose([history.history['acc'], history.history['val_acc']]))\n",
        "    ax[1].set_xlabel('epochs')\n",
        "    ax[1].set_ylabel('accuracy')\n",
        "    ax[1].set_ylim([0,1])\n",
        "    fig.legend(['training', 'validation'])\n",
        "  if title:\n",
        "    fig.suptitle(title)\n",
        "  fig.show()\n"
      ],
      "execution_count": 0,
      "outputs": []
    },
    {
      "cell_type": "markdown",
      "metadata": {
        "id": "43fLIj0Io043",
        "colab_type": "text"
      },
      "source": [
        "**bold text**## Part 1: Train a network on a simple object recognition task with different training schemes\n",
        "In this part of the tutorial, you will be training a DCNN to solve object categorization on [CIFAR10](https://www.cs.toronto.edu/~kriz/cifar.html). We will use this dataset because it is relatively quick to train and still allows you to observe interesting behavior. The specific version of ResNet is based on [ResNetCifar10](http://www.pabloruizruiz10.com/resources/CNNs/ResNet-on-CIFAR10.pdf).\n",
        "\n",
        "The logic of this part of the tutorial will be that you observe that effects of different choices (e.g. learning rate, data augmentation) that you make when you decide to train a DCNN from scratch. Training a DCNN can be tricky and the interaction between different decisions difficult to anticipate. \n",
        "\n",
        "Our goal for the first part is to replicate the training from the Resnet paper, one of the most successful architectures that is still widely used to day, despite its relatively old age for the deep learning community. To do this, we will be adding component by component to our training and obeserve in how it helps. \n",
        "\n",
        "So let's get started!\n",
        "\n",
        "For all of the following experiments, we need:\n",
        "* A stimulus set - CIFAR10\n",
        "* A ResNet architecture\n",
        "\n",
        "\n"
      ]
    },
    {
      "cell_type": "markdown",
      "metadata": {
        "id": "ZX1kPWpL-EZV",
        "colab_type": "text"
      },
      "source": [
        "### 1.1 Stimulus set: CIFAR10\n",
        "The CIFAR10 dataset contains 60,000 32x32 color images in 10 different classes. The 10 different classes represent airplanes, cars, birds, cats, deer, dogs, frogs, horses, ships, and trucks. There are 6,000 images of each class.\n",
        "\n",
        "This dataset is a standard benchmark in the Computer vision community to benchmark new architecture and training regimes.\n",
        "\n",
        "<font color='darkorange'><b>ToDo:</b></font> Fill in the missing parts in the code below by replacing the 'FILL'.\n",
        "Check out the objects. Plot a couple of examples for every category."
      ]
    },
    {
      "cell_type": "code",
      "metadata": {
        "id": "3fqRiZRuveso",
        "colab_type": "code",
        "colab": {
          "base_uri": "https://localhost:8080/",
          "height": 609
        },
        "outputId": "5164d217-2cbb-4fa6-a012-61ed728950bf"
      },
      "source": [
        "# Load the CIFAR10 data.\n",
        "(x_train, y_train), (x_test, y_test) = cifar10.load_data()\n",
        "# How many classes are there?\n",
        "num_classes = 10\n",
        "\n",
        "# Plots some examples here.\n",
        "num_examples = 5\n",
        "fig, ax = plt.subplots(num_examples, num_classes, figsize=(20,10))\n",
        "for c in range(num_classes):\n",
        "  class_idx = np.where(y_train == c)[0] # for a given class\n",
        "  for e in range(num_examples): #pick some random examples from the training set\n",
        "    # ax[e,c].imshow(FILL) \n",
        "    ax[e,c].imshow(x_train[class_idx[np.random.randint(len(class_idx))],:,:,:]) \n",
        "    ax[e,c].axis('off')\n",
        "\n",
        "\n"
      ],
      "execution_count": 5,
      "outputs": [
        {
          "output_type": "stream",
          "text": [
            "Downloading data from https://www.cs.toronto.edu/~kriz/cifar-10-python.tar.gz\n",
            "170500096/170498071 [==============================] - 11s 0us/step\n"
          ],
          "name": "stdout"
        },
        {
          "output_type": "display_data",
          "data": {
            "image/png": "[encoded data removed]",
            "text/plain": [
              "<Figure size 1440x720 with 50 Axes>"
            ]
          },
          "metadata": {
            "tags": []
          }
        }
      ]
    },
    {
      "cell_type": "markdown",
      "metadata": {
        "id": "B_37UZjxozgb",
        "colab_type": "text"
      },
      "source": [
        "### 1.2 Data preparation\n",
        "Humans and networks need different inputs and labels. Comparable to the range of light intensities that we are able to perceive, we need to transfer the images into a space where the networks can easily compute on them. This means, we will have to convert our images to have values between 0 and 1. \n",
        "\n",
        "<font color='cornflowerblue'><b>ToThink:</b></font> Why do you think the network can deal better with inputs between 0-1?\n",
        "\n",
        "\n"
      ]
    },
    {
      "cell_type": "markdown",
      "metadata": {
        "id": "mWbID3V6W3Ut",
        "colab_type": "text"
      },
      "source": [
        "ANSWER: Inputs in a bounded range allow the network to learn and find weights that are not too extreme. Since we're going to be multiplying (weights) and adding to (biases) these initial inputs in order to cause activations that we then backpropogate with the gradients to train the model.\n",
        "\n",
        "We'd like in this process for each feature to have a similar range so that our gradients don't go out of control."
      ]
    },
    {
      "cell_type": "markdown",
      "metadata": {
        "id": "dlXgBC83W79h",
        "colab_type": "text"
      },
      "source": [
        "\n",
        "<font color='darkorange'><b>ToDo:</b></font> Fill in the missing parts in the code below by replacing the 'FILL'."
      ]
    },
    {
      "cell_type": "code",
      "metadata": {
        "id": "RgimuKrpvMQn",
        "colab_type": "code",
        "colab": {}
      },
      "source": [
        "# Input image dimensions.\n",
        "input_shape = x_train.shape[1:]\n",
        "\n",
        "# Normalize data.\n",
        "x_train = x_train.astype('float32') / 255\n",
        "x_test = x_test.astype('float32') / 255\n"
      ],
      "execution_count": 0,
      "outputs": []
    },
    {
      "cell_type": "markdown",
      "metadata": {
        "id": "nyEbtKrQV9nb",
        "colab_type": "text"
      },
      "source": [
        "While we have an easy time understanding the label 'bird', we need to express categories as numbers for the network. The next step will be to also express the labels of the target category as a 1-hot-vector. This just means that you have a vector with zeros corresponding to all labels and you put a 1 for the right target category. Fortunately, Keras has a nice set of 'utils' to help us with that. For example keras.utils.to_categorical converts a class vector of integers to a binary class matrix.\n"
      ]
    },
    {
      "cell_type": "code",
      "metadata": {
        "id": "32-d2bDKWcxn",
        "colab_type": "code",
        "colab": {}
      },
      "source": [
        "# Convert class vectors to binary class matrices.\n",
        "y_train = keras.utils.to_categorical(y_train, num_classes)\n",
        "y_test = keras.utils.to_categorical(y_test, num_classes)"
      ],
      "execution_count": 0,
      "outputs": []
    },
    {
      "cell_type": "markdown",
      "metadata": {
        "id": "HxOFtA-kTR6F",
        "colab_type": "text"
      },
      "source": [
        "### 1.3 Validation set\n",
        "\n",
        "As a last step, we'll set aside some of our training data as a validation dataset. This allows us to estimate how well our current model performs without touching the test set. \n",
        "\n",
        "<font color='cornflowerblue'><b>ToThink:</b></font> Do you recall why it is useful to have a validation set?\n",
        "\n"
      ]
    },
    {
      "cell_type": "markdown",
      "metadata": {
        "id": "oCwURA1GXDyE",
        "colab_type": "text"
      },
      "source": [
        "ANSWER: A validation set gives you an estimate of how well your current solution of weights will generalize to the test set."
      ]
    },
    {
      "cell_type": "code",
      "metadata": {
        "id": "PQcAGnSlfZiL",
        "colab_type": "code",
        "colab": {
          "base_uri": "https://localhost:8080/",
          "height": 119
        },
        "outputId": "0b7a05ff-4397-49f3-d870-a7a15766f5df"
      },
      "source": [
        "# We take here 10% of our training set as a validation set. \n",
        "x_train, x_val, y_train, y_val = train_test_split(x_train, y_train, test_size=0.25, random_state=3) # 30k train, 10k val\n",
        "\n",
        "print('x_train shape:', x_train.shape)\n",
        "print(x_train.shape[0], 'train samples')\n",
        "print('y_train shape:', y_train.shape)\n",
        "\n",
        "print('x_val shape:', x_val.shape)\n",
        "print(x_val.shape[0], 'val samples')\n",
        "print('y_val shape:', y_val.shape)\n",
        "\n",
        "\n",
        "\n"
      ],
      "execution_count": 8,
      "outputs": [
        {
          "output_type": "stream",
          "text": [
            "x_train shape: (37500, 32, 32, 3)\n",
            "37500 train samples\n",
            "y_train shape: (37500, 10)\n",
            "x_val shape: (12500, 32, 32, 3)\n",
            "12500 val samples\n",
            "y_val shape: (12500, 10)\n"
          ],
          "name": "stdout"
        }
      ]
    },
    {
      "cell_type": "markdown",
      "metadata": {
        "id": "1DHCdacIw6_i",
        "colab_type": "text"
      },
      "source": [
        "\n",
        "<font color='limegreen'><b>Tips and Tricks</b></font>: Here we use a function from sklearn, this is one way to do it. Keras also allows you to make a validation set on the fly with an argument validationSplit in the [ImageDataGenerator class](https://keras.io/preprocessing/image/)."
      ]
    },
    {
      "cell_type": "markdown",
      "metadata": {
        "id": "05ZrFhPCi1wF",
        "colab_type": "text"
      },
      "source": [
        "Notice that we also still have a test set that we obtained when we loaded cifar10. Below we inspect its dimensions:"
      ]
    },
    {
      "cell_type": "code",
      "metadata": {
        "id": "TcB7V8Qsi2Ng",
        "colab_type": "code",
        "colab": {
          "base_uri": "https://localhost:8080/",
          "height": 68
        },
        "outputId": "b458806e-e33f-4b9b-d64e-6cc1e8b50ce8"
      },
      "source": [
        "print('x_test shape:', x_test.shape)\n",
        "print(x_test.shape[0], 'test samples')\n",
        "print('y_test shape:', y_test.shape)"
      ],
      "execution_count": 9,
      "outputs": [
        {
          "output_type": "stream",
          "text": [
            "x_test shape: (10000, 32, 32, 3)\n",
            "10000 test samples\n",
            "y_test shape: (10000, 10)\n"
          ],
          "name": "stdout"
        }
      ]
    },
    {
      "cell_type": "markdown",
      "metadata": {
        "id": "xF3yfVvvjRqS",
        "colab_type": "text"
      },
      "source": [
        "<font color='cornflowerblue'><b>ToThink:</b></font> Why do you think we have 3 datasets, train, validate and test?"
      ]
    },
    {
      "cell_type": "markdown",
      "metadata": {
        "id": "tSKk4wW-Blo9",
        "colab_type": "text"
      },
      "source": [
        "### 1.4 Resnet architecture\n",
        "\n",
        "Now let's move on to the Resnet architecture. Since the images of CIFAR10 are only 32x32x3, the network to classify them cannot be too deep (remember the effect of convolution and pooling operations). For that reason, the authors of Resnet made a mini-version tailored to CIFAR10. The most important differences to the Resnet-version used on Imagenet (224x224x3 images) is the amount of blocks and the depth of the filters. Also, to somewhat reduce the performance we have made the network slightly smaller. \n",
        "\n",
        "<font color='darkorange'><b>ToDo:</b></font> Go over the definitions below and make sure to understand how it works."
      ]
    },
    {
      "cell_type": "code",
      "metadata": {
        "id": "SswcBKvjBGqN",
        "colab_type": "code",
        "colab": {}
      },
      "source": [
        "# Below you can see the definition of a resnet block. \n",
        "\n",
        "def resnet_layer(inputs,\n",
        "                 num_filters=16,\n",
        "                 kernel_size=3,\n",
        "                 strides=1,\n",
        "                 activation='relu',\n",
        "                 batch_normalization=True,\n",
        "                 conv_first=True):\n",
        "    \"\"\"2D Convolution-Batch Normalization-Activation stack builder\n",
        "\n",
        "    # Arguments\n",
        "        inputs (tensor): input tensor from input image or previous layer\n",
        "        num_filters (int): Conv2D number of filters\n",
        "        kernel_size (int): Conv2D square kernel dimensions\n",
        "        strides (int): Conv2D square stride dimensions\n",
        "        activation (string): activation name\n",
        "        batch_normalization (bool): whether to include batch normalization\n",
        "        conv_first (bool): conv-bn-activation (True) or\n",
        "            bn-activation-conv (False)\n",
        "\n",
        "    # Returns\n",
        "        x (tensor): tensor as input to the next layer\n",
        "    \"\"\"\n",
        "    # This is how you defince a 2D convolutional layer. \n",
        "    # At this point this is just a pre-defined function and not a layer yet!\n",
        "    conv = Conv2D(num_filters,\n",
        "                  kernel_size=kernel_size,\n",
        "                  strides=strides,\n",
        "                  padding='same',\n",
        "                  kernel_initializer='he_normal',\n",
        "                  kernel_regularizer= keras.regularizers.l2(1e-4))\n",
        "    # This is where we start to chain the layers together.\n",
        "    x = inputs # any block will start with the inputs given to this function.\n",
        "    if conv_first: # This if-else statement refers to that there are two-ways of constructing the Resnet-block.\n",
        "        x = conv(x) # Append the conv function from above to the input. \n",
        "        if batch_normalization:\n",
        "            x = BatchNormalization()(x) # Here we add the Batchnormalization in the same way. \n",
        "        if activation is not None:\n",
        "            x = Activation(activation)(x) # And similarly for the Activation function.\n",
        "    else:\n",
        "        if batch_normalization:\n",
        "            x = BatchNormalization()(x)\n",
        "        if activation is not None:\n",
        "            x = Activation(activation)(x)\n",
        "        x = conv(x)\n",
        "    return x\n",
        "  \n",
        "  # These operations will be repeated many times and as result \n"
      ],
      "execution_count": 0,
      "outputs": []
    },
    {
      "cell_type": "code",
      "metadata": {
        "id": "lZ1chexLFGwI",
        "colab_type": "code",
        "colab": {}
      },
      "source": [
        "# and this is how the model is put together.\n",
        "  \n",
        "def resnet_v1(input_shape, depth=8, num_classes=10):\n",
        "    \"\"\"ResNet Version 1 Model builder [a]\n",
        "    Adapted from https://keras.io/examples/cifar10_resnet/\n",
        "    Stacks of 2 x (3 x 3) Conv2D-BN-ReLU\n",
        "    Last ReLU is after the shortcut connection.\n",
        "    At the beginning of each stage, the feature map size is halved (downsampled)\n",
        "    by a convolutional layer with strides=2, while the number of filters is\n",
        "    doubled. Within each stage, the layers have the same number filters and the\n",
        "    same number of filters.\n",
        "    Features maps sizes:\n",
        "    stage 0: 32x32, 16\n",
        "    stage 1: 16x16, 32\n",
        "    stage 2:  8x8,  64\n",
        "    The Number of parameters is approx the same as Table 6 of [a]:\n",
        "    ResNet10 0.14M\n",
        "    ResNet20 0.27M\n",
        "    ResNet32 0.46M\n",
        "    ResNet44 0.66M\n",
        "    ResNet56 0.85M\n",
        "    ResNet110 1.7M\n",
        "\n",
        "    # Arguments\n",
        "        input_shape (tensor): shape of input image tensor (dim1,dim2,channels)\n",
        "        depth (int): number of core convolutional layers\n",
        "        num_classes (int): number of classes (CIFAR10 has 10)\n",
        "\n",
        "    # Returns\n",
        "        model (Model): Keras model instance\n",
        "    \"\"\"\n",
        "    # if (depth - 2) % 6 != 0:\n",
        "    #    raise ValueError('depth should be 6n+2 (eg 20, 32, 44 in [a])')\n",
        "    # Start model definition.\n",
        "    num_filters = 16\n",
        "    num_res_blocks = int((depth - 2) / 6)\n",
        "\n",
        "    inputs = Input(shape=input_shape)\n",
        "    x = resnet_layer(inputs=inputs) \n",
        "    # Instantiate the stack of residual units\n",
        "    for stack in range(3):\n",
        "        for res_block in range(num_res_blocks):\n",
        "            strides = 1\n",
        "            if stack > 0 and res_block == 0:  # first layer but not first stack\n",
        "                strides = 2  # downsample\n",
        "            # This defines the first branch in which all the weight layer are. \n",
        "            y = resnet_layer(inputs=x, \n",
        "                             num_filters=num_filters,\n",
        "                             strides=strides)\n",
        "            y = resnet_layer(inputs=y, \n",
        "                             num_filters=num_filters,\n",
        "                             activation=None)\n",
        "            if stack > 0 and res_block == 0:  # first layer but not first stack\n",
        "                # linear projection residual shortcut connection to match\n",
        "                # changed dims\n",
        "                x = resnet_layer(inputs=x,\n",
        "                                 num_filters=num_filters,\n",
        "                                 kernel_size=1,\n",
        "                                 strides=strides,\n",
        "                                 activation=None,\n",
        "                                 batch_normalization=False)\n",
        "            x = keras.layers.add([x, y]) # Here the first branch is added to the residual.\n",
        "            x = Activation('relu')(x)\n",
        "        num_filters *= 2\n",
        "\n",
        "    # Add classifier on top.\n",
        "    # v1 does not use BN after last shortcut connection-ReLU\n",
        "    x = AveragePooling2D(pool_size=8)(x)\n",
        "    y = Flatten()(x)\n",
        "    outputs = Dense(num_classes,\n",
        "                    activation='softmax',\n",
        "                    kernel_initializer='he_normal')(y)\n",
        "\n",
        "    # Instantiate model.\n",
        "    model = Model(inputs=inputs, outputs=outputs)\n",
        "    return model\n",
        "  "
      ],
      "execution_count": 0,
      "outputs": []
    },
    {
      "cell_type": "markdown",
      "metadata": {
        "id": "IoPY3mU-7U8L",
        "colab_type": "text"
      },
      "source": [
        "<font color='darkorange'><b>ToDo:</b></font> Build the model with the functions above (by using the default settings!)\n"
      ]
    },
    {
      "cell_type": "code",
      "metadata": {
        "id": "53LDH0lE7RK5",
        "colab_type": "code",
        "colab": {
          "base_uri": "https://localhost:8080/",
          "height": 1000
        },
        "outputId": "dde1de9b-0a97-4ffb-90b5-672a69b3d59e"
      },
      "source": [
        "# Build the model\n",
        "model = resnet_v1(input_shape=input_shape)\n",
        "\n",
        "# ... and show the architecture\n",
        "model.summary()"
      ],
      "execution_count": 12,
      "outputs": [
        {
          "output_type": "stream",
          "text": [
            "WARNING:tensorflow:From /usr/local/lib/python3.6/dist-packages/keras/backend/tensorflow_backend.py:66: The name tf.get_default_graph is deprecated. Please use tf.compat.v1.get_default_graph instead.\n",
            "\n",
            "WARNING:tensorflow:From /usr/local/lib/python3.6/dist-packages/keras/backend/tensorflow_backend.py:541: The name tf.placeholder is deprecated. Please use tf.compat.v1.placeholder instead.\n",
            "\n",
            "WARNING:tensorflow:From /usr/local/lib/python3.6/dist-packages/keras/backend/tensorflow_backend.py:4479: The name tf.truncated_normal is deprecated. Please use tf.random.truncated_normal instead.\n",
            "\n",
            "WARNING:tensorflow:From /usr/local/lib/python3.6/dist-packages/keras/backend/tensorflow_backend.py:190: The name tf.get_default_session is deprecated. Please use tf.compat.v1.get_default_session instead.\n",
            "\n",
            "WARNING:tensorflow:From /usr/local/lib/python3.6/dist-packages/keras/backend/tensorflow_backend.py:197: The name tf.ConfigProto is deprecated. Please use tf.compat.v1.ConfigProto instead.\n",
            "\n",
            "WARNING:tensorflow:From /usr/local/lib/python3.6/dist-packages/keras/backend/tensorflow_backend.py:203: The name tf.Session is deprecated. Please use tf.compat.v1.Session instead.\n",
            "\n",
            "WARNING:tensorflow:From /usr/local/lib/python3.6/dist-packages/keras/backend/tensorflow_backend.py:207: The name tf.global_variables is deprecated. Please use tf.compat.v1.global_variables instead.\n",
            "\n",
            "WARNING:tensorflow:From /usr/local/lib/python3.6/dist-packages/keras/backend/tensorflow_backend.py:216: The name tf.is_variable_initialized is deprecated. Please use tf.compat.v1.is_variable_initialized instead.\n",
            "\n",
            "WARNING:tensorflow:From /usr/local/lib/python3.6/dist-packages/keras/backend/tensorflow_backend.py:223: The name tf.variables_initializer is deprecated. Please use tf.compat.v1.variables_initializer instead.\n",
            "\n",
            "WARNING:tensorflow:From /usr/local/lib/python3.6/dist-packages/keras/backend/tensorflow_backend.py:2041: The name tf.nn.fused_batch_norm is deprecated. Please use tf.compat.v1.nn.fused_batch_norm instead.\n",
            "\n",
            "WARNING:tensorflow:From /usr/local/lib/python3.6/dist-packages/keras/backend/tensorflow_backend.py:148: The name tf.placeholder_with_default is deprecated. Please use tf.compat.v1.placeholder_with_default instead.\n",
            "\n",
            "WARNING:tensorflow:From /usr/local/lib/python3.6/dist-packages/keras/backend/tensorflow_backend.py:4271: The name tf.nn.avg_pool is deprecated. Please use tf.nn.avg_pool2d instead.\n",
            "\n",
            "Model: \"model_1\"\n",
            "__________________________________________________________________________________________________\n",
            "Layer (type)                    Output Shape         Param #     Connected to                     \n",
            "==================================================================================================\n",
            "input_1 (InputLayer)            (None, 32, 32, 3)    0                                            \n",
            "__________________________________________________________________________________________________\n",
            "conv2d_1 (Conv2D)               (None, 32, 32, 16)   448         input_1[0][0]                    \n",
            "__________________________________________________________________________________________________\n",
            "batch_normalization_1 (BatchNor (None, 32, 32, 16)   64          conv2d_1[0][0]                   \n",
            "__________________________________________________________________________________________________\n",
            "activation_1 (Activation)       (None, 32, 32, 16)   0           batch_normalization_1[0][0]      \n",
            "__________________________________________________________________________________________________\n",
            "conv2d_2 (Conv2D)               (None, 32, 32, 16)   2320        activation_1[0][0]               \n",
            "__________________________________________________________________________________________________\n",
            "batch_normalization_2 (BatchNor (None, 32, 32, 16)   64          conv2d_2[0][0]                   \n",
            "__________________________________________________________________________________________________\n",
            "activation_2 (Activation)       (None, 32, 32, 16)   0           batch_normalization_2[0][0]      \n",
            "__________________________________________________________________________________________________\n",
            "conv2d_3 (Conv2D)               (None, 32, 32, 16)   2320        activation_2[0][0]               \n",
            "__________________________________________________________________________________________________\n",
            "batch_normalization_3 (BatchNor (None, 32, 32, 16)   64          conv2d_3[0][0]                   \n",
            "__________________________________________________________________________________________________\n",
            "add_1 (Add)                     (None, 32, 32, 16)   0           activation_1[0][0]               \n",
            "                                                                 batch_normalization_3[0][0]      \n",
            "__________________________________________________________________________________________________\n",
            "activation_3 (Activation)       (None, 32, 32, 16)   0           add_1[0][0]                      \n",
            "__________________________________________________________________________________________________\n",
            "conv2d_4 (Conv2D)               (None, 16, 16, 32)   4640        activation_3[0][0]               \n",
            "__________________________________________________________________________________________________\n",
            "batch_normalization_4 (BatchNor (None, 16, 16, 32)   128         conv2d_4[0][0]                   \n",
            "__________________________________________________________________________________________________\n",
            "activation_4 (Activation)       (None, 16, 16, 32)   0           batch_normalization_4[0][0]      \n",
            "__________________________________________________________________________________________________\n",
            "conv2d_5 (Conv2D)               (None, 16, 16, 32)   9248        activation_4[0][0]               \n",
            "__________________________________________________________________________________________________\n",
            "conv2d_6 (Conv2D)               (None, 16, 16, 32)   544         activation_3[0][0]               \n",
            "__________________________________________________________________________________________________\n",
            "batch_normalization_5 (BatchNor (None, 16, 16, 32)   128         conv2d_5[0][0]                   \n",
            "__________________________________________________________________________________________________\n",
            "add_2 (Add)                     (None, 16, 16, 32)   0           conv2d_6[0][0]                   \n",
            "                                                                 batch_normalization_5[0][0]      \n",
            "__________________________________________________________________________________________________\n",
            "activation_5 (Activation)       (None, 16, 16, 32)   0           add_2[0][0]                      \n",
            "__________________________________________________________________________________________________\n",
            "conv2d_7 (Conv2D)               (None, 8, 8, 64)     18496       activation_5[0][0]               \n",
            "__________________________________________________________________________________________________\n",
            "batch_normalization_6 (BatchNor (None, 8, 8, 64)     256         conv2d_7[0][0]                   \n",
            "__________________________________________________________________________________________________\n",
            "activation_6 (Activation)       (None, 8, 8, 64)     0           batch_normalization_6[0][0]      \n",
            "__________________________________________________________________________________________________\n",
            "conv2d_8 (Conv2D)               (None, 8, 8, 64)     36928       activation_6[0][0]               \n",
            "__________________________________________________________________________________________________\n",
            "conv2d_9 (Conv2D)               (None, 8, 8, 64)     2112        activation_5[0][0]               \n",
            "__________________________________________________________________________________________________\n",
            "batch_normalization_7 (BatchNor (None, 8, 8, 64)     256         conv2d_8[0][0]                   \n",
            "__________________________________________________________________________________________________\n",
            "add_3 (Add)                     (None, 8, 8, 64)     0           conv2d_9[0][0]                   \n",
            "                                                                 batch_normalization_7[0][0]      \n",
            "__________________________________________________________________________________________________\n",
            "activation_7 (Activation)       (None, 8, 8, 64)     0           add_3[0][0]                      \n",
            "__________________________________________________________________________________________________\n",
            "average_pooling2d_1 (AveragePoo (None, 1, 1, 64)     0           activation_7[0][0]               \n",
            "__________________________________________________________________________________________________\n",
            "flatten_1 (Flatten)             (None, 64)           0           average_pooling2d_1[0][0]        \n",
            "__________________________________________________________________________________________________\n",
            "dense_1 (Dense)                 (None, 10)           650         flatten_1[0][0]                  \n",
            "==================================================================================================\n",
            "Total params: 78,666\n",
            "Trainable params: 78,186\n",
            "Non-trainable params: 480\n",
            "__________________________________________________________________________________________________\n"
          ],
          "name": "stdout"
        }
      ]
    },
    {
      "cell_type": "markdown",
      "metadata": {
        "id": "gQPtUnh2EuDi",
        "colab_type": "text"
      },
      "source": [
        "Voilà, your model!\n",
        "So what is going on inside of a Resnet-Model?\n",
        "\n",
        "![alt text](https://miro.medium.com/max/1140/1*D0F3UitQ2l5Q0Ak-tjEdJg.png) \n",
        "\n",
        "Above the same operations are shown as a graphic. x refers to the current end of the model, that can be any layer. A weight later would a Conv2D layer. relu refers to the activation function. In our case, this is also integrated in the Conv2D layer (see the activation argument in the resnet layer function). \n",
        "\n",
        "<font color='cornflowerblue'><b>ToThink:</b></font>  Can you see how this schematic fits with the model.summary output? \n",
        "How many of these blocks are there in total? Follow the Add operation!\n",
        "\n"
      ]
    },
    {
      "cell_type": "markdown",
      "metadata": {
        "id": "L7Rzhun7Y2vd",
        "colab_type": "text"
      },
      "source": [
        "ANSWER: There are 3 blocks in total."
      ]
    },
    {
      "cell_type": "markdown",
      "metadata": {
        "id": "33EadtfRY7Fm",
        "colab_type": "text"
      },
      "source": [
        "There are range of different resnet types with varying depths! The depths in the name is determined by the amount of Convolutional and Dense layers.\n",
        "\n",
        "<font color='cornflowerblue'><b>ToThink:</b></font> In the current case, how many convolutional and dense layers are there respectively?\n",
        "\n"
      ]
    },
    {
      "cell_type": "markdown",
      "metadata": {
        "id": "BBiHVndvY7UH",
        "colab_type": "text"
      },
      "source": [
        "ANSWER: There are 9 convolutional and 1 dense layer, making it a 10 layer network."
      ]
    },
    {
      "cell_type": "markdown",
      "metadata": {
        "id": "s6ljLZF_8jIB",
        "colab_type": "text"
      },
      "source": [
        "<font color='limegreen'><b>Tips and Tricks</b></font>: There is a range of models available provided by Keras with pretrained weights on ImageNet that are easy to use such as VGG or Inception. For more info see [here](https://keras.io/applications/#available-models)."
      ]
    },
    {
      "cell_type": "markdown",
      "metadata": {
        "id": "6qU2GpeiKHKU",
        "colab_type": "text"
      },
      "source": [
        "### 1.5 Training options\n",
        "\n",
        "Our model currently has random weights, that means, it has not been trained to do any task. Let's see what that means. For example if we have it classify the CIFAR10 training set.\n",
        "\n",
        "#### 1.5.0 model.compile\n",
        "Before a freshly assembled model can be trained or tested, it first needs to be compiled. That means we add our loss function (e.g. categorical_crossentropy), a training optimizer (remember stochastic gradient descent!) and a metric to compare between the model answer and the true answer (accuracy).\n",
        "\n",
        "\n",
        "<font color='darkorange'><b>ToDo:</b></font> Check out https://keras.io/optimizers/ for an overview of all available optimizers and their defaults. Set up the compile function with categorical crossentropy, stochastic gradient descent and accuracy as a metric!\n"
      ]
    },
    {
      "cell_type": "code",
      "metadata": {
        "id": "xZefbvyGBDV7",
        "colab_type": "code",
        "colab": {
          "base_uri": "https://localhost:8080/",
          "height": 156
        },
        "outputId": "882be37c-dd22-4a8e-886d-ab66ea5d7170"
      },
      "source": [
        "sgd = keras.optimizers.SGD() # select optimizer\n",
        "model.compile(loss='categorical_crossentropy',optimizer=sgd,metrics=['acc'])  # select way of calculating loss and expressing accuracy\n",
        "scores = model.evaluate(x_train, y_train, verbose=1) # evaluate model\n",
        "\n",
        "print('Training loss:', scores[0])\n",
        "print('Training accuracy:', scores[1])"
      ],
      "execution_count": 13,
      "outputs": [
        {
          "output_type": "stream",
          "text": [
            "WARNING:tensorflow:From /usr/local/lib/python3.6/dist-packages/keras/optimizers.py:793: The name tf.train.Optimizer is deprecated. Please use tf.compat.v1.train.Optimizer instead.\n",
            "\n",
            "WARNING:tensorflow:From /usr/local/lib/python3.6/dist-packages/keras/backend/tensorflow_backend.py:3576: The name tf.log is deprecated. Please use tf.math.log instead.\n",
            "\n",
            "37500/37500 [==============================] - 10s 266us/step\n",
            "Training loss: 3.696129176152547\n",
            "Training accuracy: 0.0994933333381017\n"
          ],
          "name": "stdout"
        }
      ]
    },
    {
      "cell_type": "markdown",
      "metadata": {
        "id": "-N4g0xdnO6WA",
        "colab_type": "text"
      },
      "source": [
        "<font color='cornflowerblue'><b>ToThink:</b></font> What does the training loss mean? Is the training accuracy like you would expect and if so, why? \n",
        "\n"
      ]
    },
    {
      "cell_type": "markdown",
      "metadata": {
        "colab_type": "text",
        "id": "R1oOHGHnBql5"
      },
      "source": [
        "#### 1.5.1 Training with standard gradient descent and a large batch size\n",
        "Now let's start with teaching the model the task of distinguishing the 10 different object categories in CIFAR10. \n",
        "\n",
        "In the lecture, we have seen that a big part of successful training is choosing the right batch size, gradient update & learning rate at the right moment in time. Below, we are going to train our model in different ways and change this part in our training. \n",
        "\n",
        "As a result of how we set up our model above (model.compile ...), we accepted the default parameters of the SGD optimizer. The gradient updates will follow the steepest gradient throughout our entire training. \n",
        "\n",
        "<font color='cornflowerblue'><b>ToThink:</b></font> Do you think this is a good strategy?\n",
        "\n"
      ]
    },
    {
      "cell_type": "markdown",
      "metadata": {
        "colab_type": "text",
        "id": "ScXzG44VBqmA"
      },
      "source": [
        "ANSWER: In general, there is nothing wrong about accepting the default values. Yet the basic concept of gradient descent is great but there might be some smarter ways to selet these values. Figuring out which these are, in such a way that the model is not overfitted is a central skill."
      ]
    },
    {
      "cell_type": "markdown",
      "metadata": {
        "colab_type": "text",
        "id": "q0pTAoXDBuL7"
      },
      "source": [
        "<font color='darkorange'><b>ToDo:</b></font> Can you set up the training below with the model.fit() function? Remember, we set aside a validation dataset, to evaluate how well our model will generalize to the test set! Choose a batch-size of 5000 and run it for 30 epochs!\n",
        "\n",
        "<font color='limegreen'><b>Tips and Tricks</b></font>: In the snippet of code there is already a modelcheckpoint set up for you. This will safe the currently best-performing model automatically. "
      ]
    },
    {
      "cell_type": "code",
      "metadata": {
        "colab_type": "code",
        "id": "cYtbK7VXBzuZ",
        "colab": {
          "base_uri": "https://localhost:8080/",
          "height": 1000
        },
        "outputId": "464a1fbd-7869-43d4-b8a9-ae75cc0ac3ed"
      },
      "source": [
        "epochs = 30\n",
        "batch_size = 5000\n",
        "\n",
        "# Training of the model\n",
        "history_151 = model.fit(x_train, y_train, batch_size=batch_size, epochs=epochs, validation_data=(x_val, y_val), shuffle=True)\n",
        "\n",
        "# Save the outcomes\n",
        "model.save_weights('/gdrive/My Drive/PsyForum/weights_151.h5')\n",
        "save_pickle(history_151, '/gdrive/My Drive/PsyForum/history_151')"
      ],
      "execution_count": 14,
      "outputs": [
        {
          "output_type": "stream",
          "text": [
            "WARNING:tensorflow:From /usr/local/lib/python3.6/dist-packages/tensorflow_core/python/ops/math_grad.py:1424: where (from tensorflow.python.ops.array_ops) is deprecated and will be removed in a future version.\n",
            "Instructions for updating:\n",
            "Use tf.where in 2.0, which has the same broadcast rule as np.where\n",
            "WARNING:tensorflow:From /usr/local/lib/python3.6/dist-packages/keras/backend/tensorflow_backend.py:1033: The name tf.assign_add is deprecated. Please use tf.compat.v1.assign_add instead.\n",
            "\n",
            "WARNING:tensorflow:From /usr/local/lib/python3.6/dist-packages/keras/backend/tensorflow_backend.py:1020: The name tf.assign is deprecated. Please use tf.compat.v1.assign instead.\n",
            "\n",
            "Train on 37500 samples, validate on 12500 samples\n",
            "Epoch 1/30\n",
            "37500/37500 [==============================] - 5s 146us/step - loss: 2.9064 - acc: 0.1150 - val_loss: 2.6214 - val_acc: 0.1213\n",
            "Epoch 2/30\n",
            "37500/37500 [==============================] - 3s 73us/step - loss: 2.4975 - acc: 0.1415 - val_loss: 2.4141 - val_acc: 0.1529\n",
            "Epoch 3/30\n",
            "37500/37500 [==============================] - 3s 73us/step - loss: 2.3348 - acc: 0.1760 - val_loss: 2.3123 - val_acc: 0.1674\n",
            "Epoch 4/30\n",
            "37500/37500 [==============================] - 3s 73us/step - loss: 2.2570 - acc: 0.1978 - val_loss: 2.2566 - val_acc: 0.1861\n",
            "Epoch 5/30\n",
            "37500/37500 [==============================] - 3s 73us/step - loss: 2.2155 - acc: 0.2157 - val_loss: 2.2202 - val_acc: 0.2032\n",
            "Epoch 6/30\n",
            "37500/37500 [==============================] - 3s 73us/step - loss: 2.1900 - acc: 0.2284 - val_loss: 2.1962 - val_acc: 0.2179\n",
            "Epoch 7/30\n",
            "37500/37500 [==============================] - 3s 73us/step - loss: 2.1717 - acc: 0.2362 - val_loss: 2.1779 - val_acc: 0.2241\n",
            "Epoch 8/30\n",
            "37500/37500 [==============================] - 3s 73us/step - loss: 2.1568 - acc: 0.2406 - val_loss: 2.1633 - val_acc: 0.2303\n",
            "Epoch 9/30\n",
            "37500/37500 [==============================] - 3s 73us/step - loss: 2.1443 - acc: 0.2467 - val_loss: 2.1513 - val_acc: 0.2354\n",
            "Epoch 10/30\n",
            "37500/37500 [==============================] - 3s 73us/step - loss: 2.1327 - acc: 0.2509 - val_loss: 2.1411 - val_acc: 0.2400\n",
            "Epoch 11/30\n",
            "37500/37500 [==============================] - 3s 73us/step - loss: 2.1222 - acc: 0.2554 - val_loss: 2.1319 - val_acc: 0.2445\n",
            "Epoch 12/30\n",
            "37500/37500 [==============================] - 3s 73us/step - loss: 2.1124 - acc: 0.2591 - val_loss: 2.1238 - val_acc: 0.2507\n",
            "Epoch 13/30\n",
            "37500/37500 [==============================] - 3s 73us/step - loss: 2.1032 - acc: 0.2636 - val_loss: 2.1164 - val_acc: 0.2546\n",
            "Epoch 14/30\n",
            "37500/37500 [==============================] - 3s 73us/step - loss: 2.0943 - acc: 0.2670 - val_loss: 2.1086 - val_acc: 0.2570\n",
            "Epoch 15/30\n",
            "37500/37500 [==============================] - 3s 73us/step - loss: 2.0859 - acc: 0.2694 - val_loss: 2.1017 - val_acc: 0.2607\n",
            "Epoch 16/30\n",
            "37500/37500 [==============================] - 3s 73us/step - loss: 2.0778 - acc: 0.2722 - val_loss: 2.0948 - val_acc: 0.2638\n",
            "Epoch 17/30\n",
            "37500/37500 [==============================] - 3s 73us/step - loss: 2.0699 - acc: 0.2746 - val_loss: 2.0882 - val_acc: 0.2663\n",
            "Epoch 18/30\n",
            "37500/37500 [==============================] - 3s 73us/step - loss: 2.0624 - acc: 0.2782 - val_loss: 2.0813 - val_acc: 0.2670\n",
            "Epoch 19/30\n",
            "37500/37500 [==============================] - 3s 73us/step - loss: 2.0552 - acc: 0.2804 - val_loss: 2.0745 - val_acc: 0.2706\n",
            "Epoch 20/30\n",
            "37500/37500 [==============================] - 3s 73us/step - loss: 2.0482 - acc: 0.2831 - val_loss: 2.0683 - val_acc: 0.2722\n",
            "Epoch 21/30\n",
            "37500/37500 [==============================] - 3s 73us/step - loss: 2.0412 - acc: 0.2856 - val_loss: 2.0616 - val_acc: 0.2737\n",
            "Epoch 22/30\n",
            "37500/37500 [==============================] - 3s 73us/step - loss: 2.0346 - acc: 0.2878 - val_loss: 2.0551 - val_acc: 0.2770\n",
            "Epoch 23/30\n",
            "37500/37500 [==============================] - 3s 73us/step - loss: 2.0282 - acc: 0.2907 - val_loss: 2.0485 - val_acc: 0.2788\n",
            "Epoch 24/30\n",
            "37500/37500 [==============================] - 3s 73us/step - loss: 2.0220 - acc: 0.2926 - val_loss: 2.0433 - val_acc: 0.2781\n",
            "Epoch 25/30\n",
            "37500/37500 [==============================] - 3s 73us/step - loss: 2.0160 - acc: 0.2948 - val_loss: 2.0375 - val_acc: 0.2819\n",
            "Epoch 26/30\n",
            "37500/37500 [==============================] - 3s 73us/step - loss: 2.0101 - acc: 0.2968 - val_loss: 2.0320 - val_acc: 0.2834\n",
            "Epoch 27/30\n",
            "37500/37500 [==============================] - 3s 73us/step - loss: 2.0042 - acc: 0.2976 - val_loss: 2.0257 - val_acc: 0.2844\n",
            "Epoch 28/30\n",
            "37500/37500 [==============================] - 3s 73us/step - loss: 1.9985 - acc: 0.3001 - val_loss: 2.0200 - val_acc: 0.2878\n",
            "Epoch 29/30\n",
            "37500/37500 [==============================] - 3s 73us/step - loss: 1.9932 - acc: 0.3015 - val_loss: 2.0147 - val_acc: 0.2901\n",
            "Epoch 30/30\n",
            "37500/37500 [==============================] - 3s 73us/step - loss: 1.9879 - acc: 0.3030 - val_loss: 2.0095 - val_acc: 0.2916\n"
          ],
          "name": "stdout"
        },
        {
          "output_type": "error",
          "ename": "OSError",
          "evalue": "ignored",
          "traceback": [
            "\u001b[0;31m---------------------------------------------------------------------------\u001b[0m",
            "\u001b[0;31mOSError\u001b[0m                                   Traceback (most recent call last)",
            "\u001b[0;32m<ipython-input-14-f1e3c90c5c08>\u001b[0m in \u001b[0;36m<module>\u001b[0;34m()\u001b[0m\n\u001b[1;32m      6\u001b[0m \u001b[0;34m\u001b[0m\u001b[0m\n\u001b[1;32m      7\u001b[0m \u001b[0;31m# Save the outcomes\u001b[0m\u001b[0;34m\u001b[0m\u001b[0;34m\u001b[0m\u001b[0;34m\u001b[0m\u001b[0m\n\u001b[0;32m----> 8\u001b[0;31m \u001b[0mmodel\u001b[0m\u001b[0;34m.\u001b[0m\u001b[0msave_weights\u001b[0m\u001b[0;34m(\u001b[0m\u001b[0;34m'/gdrive/My Drive/CCN2019/weights_151.h5'\u001b[0m\u001b[0;34m)\u001b[0m\u001b[0;34m\u001b[0m\u001b[0;34m\u001b[0m\u001b[0m\n\u001b[0m\u001b[1;32m      9\u001b[0m \u001b[0msave_pickle\u001b[0m\u001b[0;34m(\u001b[0m\u001b[0mhistory_151\u001b[0m\u001b[0;34m,\u001b[0m \u001b[0;34m'/gdrive/My Drive/CCN2019/history_151'\u001b[0m\u001b[0;34m)\u001b[0m\u001b[0;34m\u001b[0m\u001b[0;34m\u001b[0m\u001b[0m\n",
            "\u001b[0;32m/usr/local/lib/python3.6/dist-packages/keras/engine/saving.py\u001b[0m in \u001b[0;36msave_wrapper\u001b[0;34m(obj, filepath, overwrite, *args, **kwargs)\u001b[0m\n\u001b[1;32m    413\u001b[0m                 \u001b[0mos\u001b[0m\u001b[0;34m.\u001b[0m\u001b[0mremove\u001b[0m\u001b[0;34m(\u001b[0m\u001b[0mtmp_filepath\u001b[0m\u001b[0;34m)\u001b[0m\u001b[0;34m\u001b[0m\u001b[0;34m\u001b[0m\u001b[0m\n\u001b[1;32m    414\u001b[0m         \u001b[0;32melse\u001b[0m\u001b[0;34m:\u001b[0m\u001b[0;34m\u001b[0m\u001b[0;34m\u001b[0m\u001b[0m\n\u001b[0;32m--> 415\u001b[0;31m             \u001b[0msave_function\u001b[0m\u001b[0;34m(\u001b[0m\u001b[0mobj\u001b[0m\u001b[0;34m,\u001b[0m \u001b[0mfilepath\u001b[0m\u001b[0;34m,\u001b[0m \u001b[0moverwrite\u001b[0m\u001b[0;34m,\u001b[0m \u001b[0;34m*\u001b[0m\u001b[0margs\u001b[0m\u001b[0;34m,\u001b[0m \u001b[0;34m**\u001b[0m\u001b[0mkwargs\u001b[0m\u001b[0;34m)\u001b[0m\u001b[0;34m\u001b[0m\u001b[0;34m\u001b[0m\u001b[0m\n\u001b[0m\u001b[1;32m    416\u001b[0m \u001b[0;34m\u001b[0m\u001b[0m\n\u001b[1;32m    417\u001b[0m     \u001b[0;32mreturn\u001b[0m \u001b[0msave_wrapper\u001b[0m\u001b[0;34m\u001b[0m\u001b[0;34m\u001b[0m\u001b[0m\n",
            "\u001b[0;32m/usr/local/lib/python3.6/dist-packages/keras/engine/network.py\u001b[0m in \u001b[0;36msave_weights\u001b[0;34m(self, filepath, overwrite)\u001b[0m\n\u001b[1;32m   1168\u001b[0m             \u001b[0;32mif\u001b[0m \u001b[0;32mnot\u001b[0m \u001b[0mproceed\u001b[0m\u001b[0;34m:\u001b[0m\u001b[0;34m\u001b[0m\u001b[0;34m\u001b[0m\u001b[0m\n\u001b[1;32m   1169\u001b[0m                 \u001b[0;32mreturn\u001b[0m\u001b[0;34m\u001b[0m\u001b[0;34m\u001b[0m\u001b[0m\n\u001b[0;32m-> 1170\u001b[0;31m         \u001b[0;32mwith\u001b[0m \u001b[0mh5py\u001b[0m\u001b[0;34m.\u001b[0m\u001b[0mFile\u001b[0m\u001b[0;34m(\u001b[0m\u001b[0mfilepath\u001b[0m\u001b[0;34m,\u001b[0m \u001b[0;34m'w'\u001b[0m\u001b[0;34m)\u001b[0m \u001b[0;32mas\u001b[0m \u001b[0mf\u001b[0m\u001b[0;34m:\u001b[0m\u001b[0;34m\u001b[0m\u001b[0;34m\u001b[0m\u001b[0m\n\u001b[0m\u001b[1;32m   1171\u001b[0m             \u001b[0msaving\u001b[0m\u001b[0;34m.\u001b[0m\u001b[0msave_weights_to_hdf5_group\u001b[0m\u001b[0;34m(\u001b[0m\u001b[0mf\u001b[0m\u001b[0;34m,\u001b[0m \u001b[0mself\u001b[0m\u001b[0;34m.\u001b[0m\u001b[0mlayers\u001b[0m\u001b[0;34m)\u001b[0m\u001b[0;34m\u001b[0m\u001b[0;34m\u001b[0m\u001b[0m\n\u001b[1;32m   1172\u001b[0m             \u001b[0mf\u001b[0m\u001b[0;34m.\u001b[0m\u001b[0mflush\u001b[0m\u001b[0;34m(\u001b[0m\u001b[0;34m)\u001b[0m\u001b[0;34m\u001b[0m\u001b[0;34m\u001b[0m\u001b[0m\n",
            "\u001b[0;32m/usr/local/lib/python3.6/dist-packages/h5py/_hl/files.py\u001b[0m in \u001b[0;36m__init__\u001b[0;34m(self, name, mode, driver, libver, userblock_size, swmr, **kwds)\u001b[0m\n\u001b[1;32m    310\u001b[0m             \u001b[0;32mwith\u001b[0m \u001b[0mphil\u001b[0m\u001b[0;34m:\u001b[0m\u001b[0;34m\u001b[0m\u001b[0;34m\u001b[0m\u001b[0m\n\u001b[1;32m    311\u001b[0m                 \u001b[0mfapl\u001b[0m \u001b[0;34m=\u001b[0m \u001b[0mmake_fapl\u001b[0m\u001b[0;34m(\u001b[0m\u001b[0mdriver\u001b[0m\u001b[0;34m,\u001b[0m \u001b[0mlibver\u001b[0m\u001b[0;34m,\u001b[0m \u001b[0;34m**\u001b[0m\u001b[0mkwds\u001b[0m\u001b[0;34m)\u001b[0m\u001b[0;34m\u001b[0m\u001b[0;34m\u001b[0m\u001b[0m\n\u001b[0;32m--> 312\u001b[0;31m                 \u001b[0mfid\u001b[0m \u001b[0;34m=\u001b[0m \u001b[0mmake_fid\u001b[0m\u001b[0;34m(\u001b[0m\u001b[0mname\u001b[0m\u001b[0;34m,\u001b[0m \u001b[0mmode\u001b[0m\u001b[0;34m,\u001b[0m \u001b[0muserblock_size\u001b[0m\u001b[0;34m,\u001b[0m \u001b[0mfapl\u001b[0m\u001b[0;34m,\u001b[0m \u001b[0mswmr\u001b[0m\u001b[0;34m=\u001b[0m\u001b[0mswmr\u001b[0m\u001b[0;34m)\u001b[0m\u001b[0;34m\u001b[0m\u001b[0;34m\u001b[0m\u001b[0m\n\u001b[0m\u001b[1;32m    313\u001b[0m \u001b[0;34m\u001b[0m\u001b[0m\n\u001b[1;32m    314\u001b[0m                 \u001b[0;32mif\u001b[0m \u001b[0mswmr_support\u001b[0m\u001b[0;34m:\u001b[0m\u001b[0;34m\u001b[0m\u001b[0;34m\u001b[0m\u001b[0m\n",
            "\u001b[0;32m/usr/local/lib/python3.6/dist-packages/h5py/_hl/files.py\u001b[0m in \u001b[0;36mmake_fid\u001b[0;34m(name, mode, userblock_size, fapl, fcpl, swmr)\u001b[0m\n\u001b[1;32m    146\u001b[0m         \u001b[0mfid\u001b[0m \u001b[0;34m=\u001b[0m \u001b[0mh5f\u001b[0m\u001b[0;34m.\u001b[0m\u001b[0mcreate\u001b[0m\u001b[0;34m(\u001b[0m\u001b[0mname\u001b[0m\u001b[0;34m,\u001b[0m \u001b[0mh5f\u001b[0m\u001b[0;34m.\u001b[0m\u001b[0mACC_EXCL\u001b[0m\u001b[0;34m,\u001b[0m \u001b[0mfapl\u001b[0m\u001b[0;34m=\u001b[0m\u001b[0mfapl\u001b[0m\u001b[0;34m,\u001b[0m \u001b[0mfcpl\u001b[0m\u001b[0;34m=\u001b[0m\u001b[0mfcpl\u001b[0m\u001b[0;34m)\u001b[0m\u001b[0;34m\u001b[0m\u001b[0;34m\u001b[0m\u001b[0m\n\u001b[1;32m    147\u001b[0m     \u001b[0;32melif\u001b[0m \u001b[0mmode\u001b[0m \u001b[0;34m==\u001b[0m \u001b[0;34m'w'\u001b[0m\u001b[0;34m:\u001b[0m\u001b[0;34m\u001b[0m\u001b[0;34m\u001b[0m\u001b[0m\n\u001b[0;32m--> 148\u001b[0;31m         \u001b[0mfid\u001b[0m \u001b[0;34m=\u001b[0m \u001b[0mh5f\u001b[0m\u001b[0;34m.\u001b[0m\u001b[0mcreate\u001b[0m\u001b[0;34m(\u001b[0m\u001b[0mname\u001b[0m\u001b[0;34m,\u001b[0m \u001b[0mh5f\u001b[0m\u001b[0;34m.\u001b[0m\u001b[0mACC_TRUNC\u001b[0m\u001b[0;34m,\u001b[0m \u001b[0mfapl\u001b[0m\u001b[0;34m=\u001b[0m\u001b[0mfapl\u001b[0m\u001b[0;34m,\u001b[0m \u001b[0mfcpl\u001b[0m\u001b[0;34m=\u001b[0m\u001b[0mfcpl\u001b[0m\u001b[0;34m)\u001b[0m\u001b[0;34m\u001b[0m\u001b[0;34m\u001b[0m\u001b[0m\n\u001b[0m\u001b[1;32m    149\u001b[0m     \u001b[0;32melif\u001b[0m \u001b[0mmode\u001b[0m \u001b[0;34m==\u001b[0m \u001b[0;34m'a'\u001b[0m\u001b[0;34m:\u001b[0m\u001b[0;34m\u001b[0m\u001b[0;34m\u001b[0m\u001b[0m\n\u001b[1;32m    150\u001b[0m         \u001b[0;31m# Open in append mode (read/write).\u001b[0m\u001b[0;34m\u001b[0m\u001b[0;34m\u001b[0m\u001b[0;34m\u001b[0m\u001b[0m\n",
            "\u001b[0;32mh5py/_objects.pyx\u001b[0m in \u001b[0;36mh5py._objects.with_phil.wrapper\u001b[0;34m()\u001b[0m\n",
            "\u001b[0;32mh5py/_objects.pyx\u001b[0m in \u001b[0;36mh5py._objects.with_phil.wrapper\u001b[0;34m()\u001b[0m\n",
            "\u001b[0;32mh5py/h5f.pyx\u001b[0m in \u001b[0;36mh5py.h5f.create\u001b[0;34m()\u001b[0m\n",
            "\u001b[0;31mOSError\u001b[0m: Unable to create file (unable to open file: name = '/gdrive/My Drive/CCN2019/weights_151.h5', errno = 2, error message = 'No such file or directory', flags = 13, o_flags = 242)"
          ]
        }
      ]
    },
    {
      "cell_type": "markdown",
      "metadata": {
        "colab_type": "text",
        "id": "-gfPV2y-k_AR"
      },
      "source": [
        "The history object contains an overview of the training. With that you can inspect how the training went. "
      ]
    },
    {
      "cell_type": "code",
      "metadata": {
        "colab_type": "code",
        "id": "32f1LYtnk_AV",
        "colab": {}
      },
      "source": [
        "plot_training(history_151, title='1.5.1 Training with a static learning rate, large batch size')"
      ],
      "execution_count": 0,
      "outputs": []
    },
    {
      "cell_type": "markdown",
      "metadata": {
        "colab_type": "text",
        "id": "hr9CDkiAlMkG"
      },
      "source": [
        "So what do we see here? Neither the performance on the training or validation set increased in an impressive maner. \n",
        "\n",
        "<font color='cornflowerblue'><b>ToThink:</b></font> This is an effect of the large batch size. Why?\n",
        "\n",
        "\n",
        "\n",
        "\n",
        "\n"
      ]
    },
    {
      "cell_type": "markdown",
      "metadata": {
        "id": "kAKPaNAIEZNb",
        "colab_type": "text"
      },
      "source": [
        "#### 1.5.2 Training with standard gradient descent and a small batch size\n"
      ]
    },
    {
      "cell_type": "markdown",
      "metadata": {
        "id": "qtZjbmaDZ26P",
        "colab_type": "text"
      },
      "source": [
        "<font color='darkorange'><b>ToDo:</b></font> We will now reduce our batchsize to 36 and evaluate the performance again. Keep, for once, 50 epochs (and get some coffee)."
      ]
    },
    {
      "cell_type": "code",
      "metadata": {
        "id": "RYjBUHIJRWzI",
        "colab_type": "code",
        "colab": {}
      },
      "source": [
        "# epochs = FILL\n",
        "# batch_size = FILL\n",
        "epochs = 50\n",
        "batch_size = 36\n",
        "\n",
        "# Training of the model\n",
        "model.compile(loss='categorical_crossentropy',optimizer=sgd,metrics=['acc']) \n",
        "\n",
        "# history_152 = model.fit(FILL, shuffle=True)  \n",
        "history_152 = model.fit(x_train, y_train, batch_size=batch_size, epochs=epochs, validation_data=(x_val, y_val), shuffle=True)\n",
        "\n",
        "# Save the outcomes\n",
        "model.save_weights('/gdrive/My Drive/CCN2019/weights_152.h5')\n",
        "save_pickle(history_152, '/gdrive/My Drive/CCN2019/history_152')\n"
      ],
      "execution_count": 0,
      "outputs": []
    },
    {
      "cell_type": "markdown",
      "metadata": {
        "id": "gpzWYTQZVkBo",
        "colab_type": "text"
      },
      "source": [
        "The history object contains an overview of the training. With that you can inspect how the training went. "
      ]
    },
    {
      "cell_type": "code",
      "metadata": {
        "id": "l2J0s9yK1aBy",
        "colab_type": "code",
        "colab": {}
      },
      "source": [
        "plot_training(history_152, title='1.5.2 Training with a static learning rate, small batch size')"
      ],
      "execution_count": 0,
      "outputs": []
    },
    {
      "cell_type": "markdown",
      "metadata": {
        "id": "EXfpNB0Mqxt3",
        "colab_type": "text"
      },
      "source": [
        "So what do we see here? While the model continued to fit the training set (contrary to 1.5.1). The corresponding measures on the validation improved substantially less, and also sometimes deteriorated. \n",
        "\n",
        "<font color='cornflowerblue'><b>ToThink:</b></font> Which scenario from the lecture could this correspond to? For later epochs, is the learning rate too small, too big, way too big or equal to the optimal learning rate?\n",
        "\n",
        "\n",
        "\n",
        "\n",
        "\n",
        "\n"
      ]
    },
    {
      "cell_type": "markdown",
      "metadata": {
        "id": "yZbk0U9lbSRn",
        "colab_type": "text"
      },
      "source": [
        "ANSWER: For later epochs, this corresponds to choosing a too big learning rate since the training actually doesn't improve the performance over time. The big jumps in the loss also indicate that it is making too big steps after a single epoch."
      ]
    },
    {
      "cell_type": "markdown",
      "metadata": {
        "id": "Y14HclqC33lZ",
        "colab_type": "text"
      },
      "source": [
        "#### 1.5.3 Training with momentum\n",
        "\n",
        "This went *ok*. But we can do better! Do you remember the difficult landscape from the lecture? There might be smarter ways how we can travel through this landscape! \n",
        "\n",
        "<font color='cornflowerblue'><b>ToThink:</b></font> Can you describe in your own words, how we traveled the landscape in the last training? What does the learning rate mean in this analogy?\n",
        "\n",
        "\n",
        "\n",
        "\n"
      ]
    },
    {
      "cell_type": "markdown",
      "metadata": {
        "id": "rMKdHAt_bd_h",
        "colab_type": "text"
      },
      "source": [
        "ANSWER: In the last training, we have always taken the same step size and followed the steepest slope. The learning rate corresponds to the size of the update, so a distance in the landscape. "
      ]
    },
    {
      "cell_type": "markdown",
      "metadata": {
        "id": "rPmc08JUbcdB",
        "colab_type": "text"
      },
      "source": [
        "A start could be that we develop a better decision rule for which direction to follow. This means that it might not always be the best idea to follow the currently steepest gradient. \n",
        "\n",
        "This is exactly what training stochastic gradient descent with momentum does! The intuition behind is that when there was a certain direction that continuously had a gradient to learn from, this direction gains more weight. This can be imagined like a ball rolling downhill.\n",
        "\n",
        "<font color='darkorange'><b>ToDo:</b></font> Can you set up a new model, compile it with a Nesterov-momentum of 0.9? You can keep all the other parameters the same. Train the model and see how it compares to the other training?"
      ]
    },
    {
      "cell_type": "code",
      "metadata": {
        "id": "zUq8I_SSPh6h",
        "colab_type": "code",
        "colab": {}
      },
      "source": [
        "epochs = 50\n",
        "batch_size = 36\n",
        " \n",
        "# model_153 = FILL\n",
        "# sgd_custom = keras.optimizers.SGD(FILL) \n",
        "# model_153.compile(FILL)\n",
        "  \n",
        "model_153 = resnet_v1(input_shape=input_shape)\n",
        "sgd_custom = keras.optimizers.SGD(lr=0.01, momentum=0.9, nesterov=True) \n",
        "model_153.compile(loss='categorical_crossentropy',optimizer=sgd_custom,metrics=['accuracy'])\n",
        "\n",
        "# history_153 = model.fit(FILL, shuffle=True)  \n",
        "history_153 = model_153.fit(x_train, y_train, batch_size=batch_size, epochs=epochs, validation_data=(x_val, y_val), shuffle=True)\n",
        "\n",
        "# Save the outcomes\n",
        "model.save_weights('/gdrive/My Drive/CCN2019/weights_153.h5')\n",
        "save_pickle(history_153, '/gdrive/My Drive/CCN2019/history_153')"
      ],
      "execution_count": 0,
      "outputs": []
    },
    {
      "cell_type": "code",
      "metadata": {
        "id": "pwlmqSwT1mBd",
        "colab_type": "code",
        "colab": {}
      },
      "source": [
        "plot_training(history_153, title='1.5.3 Training with Nesterov-momentum')\n"
      ],
      "execution_count": 0,
      "outputs": []
    },
    {
      "cell_type": "markdown",
      "metadata": {
        "id": "dv_OdzzHcNqb",
        "colab_type": "text"
      },
      "source": [
        "This went a bit better. Do you remember the adaptive optimizers from the lecture (such as Adam, Adagrad and RMSprop)? These can be a great option as well when you don't know the right hyperparameters yet.\n",
        "\n",
        "Please check out [this website](https://cs231n.github.io/neural-networks-3/#loss) for a insightful description as well as the list of keras optimizers mentioned above."
      ]
    },
    {
      "cell_type": "markdown",
      "metadata": {
        "id": "WRwfDKYjhFCm",
        "colab_type": "text"
      },
      "source": [
        "So taken together, we've seen that adding momentum helps your model to train and optimize.  \n",
        "\n"
      ]
    },
    {
      "cell_type": "markdown",
      "metadata": {
        "id": "f6RPGFsmdgWe",
        "colab_type": "text"
      },
      "source": [
        "#### 1.5.4 Training with learning rate decay\n",
        "\n",
        "Above we saw that we can deal with the bumpy loss landscapes in more optimal ways by using an optimizer to compute the best gradients to follow. However, these gradients are ultimately still bound to the specified learning rate (e.g. 0.01) for performing the update on the weights. Now we are going to explore some ways in which we can adapt the learning rate over time.\n",
        "\n",
        "A sensible way to start could be to reduce the learning rate at every iteration a little bit. This is refferd to as learning rate decay. \n",
        "\n",
        "<font color='darkorange'><b>ToDo:</b></font> Can you set up a new model with learning rate decay with an initial learning rate of 0.01 and a decay of 1e-6? Again, you can keep all the other parameters the same. Train the model and see how it compares to the other training?\n",
        "\n",
        "\n"
      ]
    },
    {
      "cell_type": "code",
      "metadata": {
        "id": "7LlrYg3W7HCc",
        "colab_type": "code",
        "colab": {}
      },
      "source": [
        "# to realise: lr *= (1. / (1. + self.decay * self.iterations))\n",
        "epochs = 50\n",
        "batch_size = 36\n",
        "\n",
        "# model_154 = FILL\n",
        "# sgd_custom = keras.optimizers.SGD(FILL) \n",
        "# model_154.compile(FILL)\n",
        "# history_154 = model_153.fit(FILL, shuffle=True)\n",
        "\n",
        "model_154 = resnet_v1(input_shape=input_shape)\n",
        "sgd_decay = keras.optimizers.SGD(lr=0.01, decay=1e-6, momentum=0.9, nesterov=True) \n",
        "model_154.compile(loss='categorical_crossentropy',optimizer=sgd_decay,metrics=['accuracy'])\n",
        "history_154 = model_154.fit(x_train, y_train,batch_size=batch_size,epochs=epochs,validation_data=(x_val, y_val),shuffle=True)\n",
        "\n",
        "# Save the outcomes\n",
        "model.save_weights('/gdrive/My Drive/CCN2019/weights_154.h5')\n",
        "save_pickle(history_154, '/gdrive/My Drive/CCN2019/history_154')"
      ],
      "execution_count": 0,
      "outputs": []
    },
    {
      "cell_type": "code",
      "metadata": {
        "id": "WtqVx62Lkt2T",
        "colab_type": "code",
        "colab": {}
      },
      "source": [
        "history_154.history['lr'] =  0.01 *  (1. / (1. + 1e-6 * np.arange(1,epochs+1))) \n",
        "plot_training(history_154, title='1.5.4 Training with learning rate decay')\n",
        "\n"
      ],
      "execution_count": 0,
      "outputs": []
    },
    {
      "cell_type": "markdown",
      "metadata": {
        "id": "IthRF3bI8pVr",
        "colab_type": "text"
      },
      "source": [
        "<font color='cornflowerblue'><b>ToThink:</b></font> How does the reduction in learning rate compare to the other scenarios with a fixed learning rate? "
      ]
    },
    {
      "cell_type": "markdown",
      "metadata": {
        "id": "Gdl-dvzVOoTW",
        "colab_type": "text"
      },
      "source": [
        "ANSWER: Based on the training history, we see that they were less strong fluctuations at later epochs of the training. "
      ]
    },
    {
      "cell_type": "markdown",
      "metadata": {
        "id": "DY1PxF-i6kNx",
        "colab_type": "text"
      },
      "source": [
        "#### 1.5.5 Training with a fixed learning rate schedule\n",
        "\n",
        "As we discussed in the lecture, learning rate is one of the crucial hyperparameters, which is subject to optimization. If you in turn would like to replicate another paper, they sometimes mention a learning rate schedule that is optimized for this specific architecture and dataset. \n",
        "\n",
        "<font color='darkorange'><b>ToDo:</b></font> Can you come up with your own learning rate schedule below? Again, you can keep all the other parameters the same. Once, you are done, look at the provided training outcomes!"
      ]
    },
    {
      "cell_type": "code",
      "metadata": {
        "id": "MXHmRxiF-uWw",
        "colab_type": "code",
        "colab": {}
      },
      "source": [
        "epochs = 50\n",
        "batch_size = 36\n",
        "\n",
        "# model_155 = FILL\n",
        "model_155 = resnet_v1(input_shape=input_shape)\n",
        "\n",
        "# We stick to a common optimizer\n",
        "sgd = keras.optimizers.SGD(lr=0.01, momentum=0.9, nesterov=True) \n",
        "  \n",
        "# def step_decay(epoch): \n",
        "#if epoch  < FILL:\n",
        "#lrate=0.1\n",
        "#elif epoch < FILL:\n",
        "#lrate = 0.01\n",
        "#else:\n",
        "# lrate = 0.001\n",
        "#  return lrate\n",
        "\n",
        "def step_decay(epoch): \n",
        "  if epoch  < 10:\n",
        "    lrate=0.1\n",
        "  elif epoch < 30:\n",
        "    lrate = 0.01\n",
        "  else:\n",
        "    lrate = 0.001\n",
        "  return lrate\n",
        "\n",
        "# and we hand the function to the training with acallback.\n",
        "lr_reducer = keras.callbacks.LearningRateScheduler(step_decay)\n",
        "\n",
        "model_155.compile(loss='categorical_crossentropy',optimizer=sgd,metrics=['accuracy'])\n",
        "history_155 = model_155.fit(x_train, y_train,batch_size=batch_size,epochs=epochs,validation_data=(x_val, y_val),shuffle=True, callbacks = [lr_reducer])\n",
        "\n",
        "model_155.save_weights('/gdrive/My Drive/CCN2019/weights_155.h5')\n",
        "save_pickle(history_155, '/gdrive/My Drive/CCN2019/history_155')    "
      ],
      "execution_count": 0,
      "outputs": []
    },
    {
      "cell_type": "code",
      "metadata": {
        "id": "W8sYgwxIndg0",
        "colab_type": "code",
        "colab": {}
      },
      "source": [
        "plot_training(history_155, title='1.5.5 Training with a fixed learning rate schedule')\n"
      ],
      "execution_count": 0,
      "outputs": []
    },
    {
      "cell_type": "markdown",
      "metadata": {
        "id": "6YUGsn6E4-fM",
        "colab_type": "text"
      },
      "source": [
        "<font color='cornflowerblue'><b>ToThink:</b></font> Can you tell from the plot at which epochs the learning rate was changed?"
      ]
    },
    {
      "cell_type": "markdown",
      "metadata": {
        "id": "5vTlkgJF5Fgk",
        "colab_type": "text"
      },
      "source": [
        "ANSWER: Based on the dips and the third plot, you can see that it was changed in the 10th and 30th epoch."
      ]
    },
    {
      "cell_type": "markdown",
      "metadata": {
        "id": "HwokFvBT9k9g",
        "colab_type": "text"
      },
      "source": [
        "<font color='darkorange'><b>ToDo:</b></font> Plot all our training histories in one plot!\n",
        "\n",
        "\n",
        "\n"
      ]
    },
    {
      "cell_type": "code",
      "metadata": {
        "id": "oZe5zLr583LA",
        "colab_type": "code",
        "colab": {}
      },
      "source": [
        "# load_pickle('/gdrive/My Drive/CCN2019/history_151.pickle')\n",
        "# load_pickle('/gdrive/My Drive/CCN2019/history_152.pickle')\n",
        "# load_pickle('/gdrive/My Drive/CCN2019/history_153.pickle')\n",
        "# load_pickle('/gdrive/My Drive/CCN2019/history_154.pickle')\n",
        "# load_pickle('/gdrive/My Drive/CCN2019/history_155.pickle')\n",
        "\n",
        "plot_training(history_151, title='1.5.1 Training with large batch size and a fixed learning rate schedule')\n",
        "plot_training(history_152, title='1.5.2 Training with small batch size and a fixed learning rate schedule')\n",
        "plot_training(history_153, title='1.5.3 Training momentum')\n",
        "plot_training(history_154, title='1.5.4 Training learning rate decay')\n",
        "plot_training(history_155, title='1.5.5 Training fixed learning rate schedule')\n",
        "\n"
      ],
      "execution_count": 0,
      "outputs": []
    },
    {
      "cell_type": "markdown",
      "metadata": {
        "colab_type": "text",
        "id": "DCpuAbhB5IkP"
      },
      "source": [
        "<font color='cornflowerblue'><b>ToThink:</b></font> Which one worked the best?"
      ]
    },
    {
      "cell_type": "markdown",
      "metadata": {
        "id": "EAvqMmncd8dF",
        "colab_type": "text"
      },
      "source": [
        "ANSWER: Based on the comparison, the fixed training schedule seemed to have worked best. This is likely due to the fact that this schedule had a late phase with a very small learing rate, which allowed for very fine adjustments and that this was lacking in the other trainings. Also, this fixed schedule was based on the data-set making it a hyper parameter that has been optimized. "
      ]
    },
    {
      "cell_type": "markdown",
      "metadata": {
        "id": "mw29PHj34jEl",
        "colab_type": "text"
      },
      "source": [
        "### Part 1: Interim conclusion\n",
        "All of the examples above show that while keeping everything else the same, choosing the right hyperparameters can make a world of a difference. Usually, it pays off to invest some time and closely study the original papers and their chosen hyperparameters such as their optimization setup. Most likely, they have been optimized for this specific dataset and architecture!\n",
        "\n",
        "Up next, we will have a look at another remedy against overfitting on your training set!\n",
        "\n",
        "\n",
        "\n"
      ]
    },
    {
      "cell_type": "markdown",
      "metadata": {
        "id": "Ox1nqOGisEx8",
        "colab_type": "text"
      },
      "source": [
        "### 3.1 Pre-trained ResNet18 on ImageNet\n",
        "\n"
      ]
    },
    {
      "cell_type": "code",
      "metadata": {
        "id": "aJ2vyTPqr7Cc",
        "colab_type": "code",
        "colab": {}
      },
      "source": [
        "# First we have to download a package containing a range of DCNNs trained on Imagenet\n",
        "!pip install -U image-classifiers==0.2.2 #git+https://github.com/qubvel/classification_models.git\n",
        "# The we load the remaining packages\n",
        "import classification_models\n",
        "from classification_models.resnet import ResNet18"
      ],
      "execution_count": 0,
      "outputs": []
    },
    {
      "cell_type": "code",
      "metadata": {
        "id": "ngTT1ZEGx078",
        "colab_type": "code",
        "colab": {}
      },
      "source": [
        "# Then we can assemble the model and load the weights. \n",
        "# Thanks to this package this is very easy.\n",
        "model = ResNet18((224, 224, 3), weights='imagenet')\n",
        "model.summary()"
      ],
      "execution_count": 0,
      "outputs": []
    },
    {
      "cell_type": "markdown",
      "metadata": {
        "id": "As7K9AIpx4kU",
        "colab_type": "text"
      },
      "source": [
        "<font color='cornflowerblue'><b>ToThink:</b></font> How does this Resnet18 compare to the other one? What do they have in common, what is different? \n",
        "\n",
        "*Hint*: Think about the size of the input images! <br/>\n",
        "*Hint*: Look at the channel depth (last dimension of every layer) and how this changes with network depth.\n"
      ]
    },
    {
      "cell_type": "markdown",
      "metadata": {
        "id": "iRtXH7a_yDWc",
        "colab_type": "text"
      },
      "source": [
        "### 3.2 5-category dataset\n",
        "We are going to fine-tune this Resnet18 to distinguish between 5 categories: bird, cat, fire hydrant, frisbee and suitcase.\n",
        "\n",
        "#### The dataset\n",
        "This dataset was assembled as a part of a project on whether recurrent processing solves the problem of object segmentation during object recognition in humans and deep neural networks. You might wonder now, how can you adress this question with feedforward neural network? The background of this is, that recurrent computations in the brain are argued to represent a very deep feedforward computation that is folded up over time. Noor therefore uses deep neural networks of varying depth and examines how well the network can deal with object segmentation. She is going to tell you much more about that this tomorrow morning.\n",
        "\n",
        "For now, we will finetune a Resnet18 on these object categories to prepare the networks for tomorrow's experiments!\n",
        "\n",
        "As a start, let's build a function that loads in the data from all the directories!"
      ]
    },
    {
      "cell_type": "code",
      "metadata": {
        "id": "oOYHL5eHyfLn",
        "colab_type": "code",
        "colab": {}
      },
      "source": [
        "# Let's load in the images\n",
        "\n",
        "img_dir = '/gdrive/My Drive/image_cat/' # this assumes that you have loaded in the dataset in your local google drive folder.\n",
        "train_dir = img_dir + 'train/'\n",
        "img_generator =  ImageDataGenerator().flow_from_directory(train_dir, \n",
        "                                                          target_size=(224, 224),\n",
        "                                                          batch_size=256,\n",
        "                                                          class_mode='categorical',\n",
        "                                                          shuffle=True)\n",
        "examples = next(img_generator)\n"
      ],
      "execution_count": 0,
      "outputs": []
    },
    {
      "cell_type": "markdown",
      "metadata": {
        "id": "6PbX5sX-zvos",
        "colab_type": "text"
      },
      "source": [
        "<font color='darkorange'><b>ToDo:</b></font> Have a look at the new dataset!"
      ]
    },
    {
      "cell_type": "code",
      "metadata": {
        "id": "Q4QfJjnJzzEA",
        "colab_type": "code",
        "colab": {}
      },
      "source": [
        "FILL"
      ],
      "execution_count": 0,
      "outputs": []
    },
    {
      "cell_type": "code",
      "metadata": {
        "id": "Xh4hMQu8DHtm",
        "colab_type": "code",
        "colab": {}
      },
      "source": [
        "## SOLUTION\n",
        "import numpy as np\n",
        "import matplotlib.pyplot as plt\n",
        "examples = next(img_generator)\n",
        "\n",
        "# How many classes are there?\n",
        "num_classes = 5 \n",
        "# and look at it.\n",
        "num_examples = 5\n",
        "cats = ['Bird','Cat', 'Fire Hydrant', 'Frisbee', 'Suitcase']\n",
        "\n",
        "fig, ax = plt.subplots(num_examples, num_classes, figsize=(12,10))\n",
        "for c in range(num_classes):\n",
        "  class_idx = np.where(np.where(examples[1] == 1)[1] == c)[0]# for a given class\n",
        "\n",
        "  for e in range(num_examples): #pick some random examples from the training set\n",
        "    ax[e,c].imshow(examples[0][class_idx[np.random.randint(0, len(class_idx)-1)],:,:,:]/255.) # We have to rescale the original images in order to display them. \n",
        "    ax[e,c].axis('off')\n",
        "    if e == 0:\n",
        "      ax[e,c].set_title(cats[c])\n",
        "\n",
        "fig.tight_layout()"
      ],
      "execution_count": 0,
      "outputs": []
    },
    {
      "cell_type": "markdown",
      "metadata": {
        "id": "YeC0h0l3z8Lq",
        "colab_type": "text"
      },
      "source": [
        "<font color='limegreen'><b>Tips and Tricks</b></font>: \n",
        "Different researchers perfom different kind of data preprocessing during their training of Imagenet. This makes that there is usually a custom preprocessing associated to the trained weights that shifts the values of the image in the expected range. If you do not transform your images that way, the network will not be able to recognize your images because it wasn't trained in this space.\n",
        "\n",
        "Some researchers subtract the mean value of each color channel (cf. 2.2), some other also normalize it by dividing by the standard deviation of the training set. \n",
        "\n",
        "In our case, the network accepts value from 0-255 and this also happens to be the format in which we load the images in!"
      ]
    },
    {
      "cell_type": "markdown",
      "metadata": {
        "id": "zCJcgkSE1Ki7",
        "colab_type": "text"
      },
      "source": [
        "### 3.3 Test it on naive Resnet18 familiar with Imagenet\n",
        "\n",
        "<font color='darkorange'><b>ToDo:</b></font> Find out (on a couple of images) how well the model predicts this dataset without being retrained.If you want you can plot the images and show the predicted labels.\n",
        "\n",
        "<font color='limegreen'><b>Tips and Tricks</b></font>:  You will find the  keras.applications.imagenet_utils.decode_predictions function useful to make sense of the model predictions.\n",
        "\n"
      ]
    },
    {
      "cell_type": "code",
      "metadata": {
        "id": "RsKXvZqI1S9b",
        "colab_type": "code",
        "colab": {}
      },
      "source": [
        "from keras.applications.imagenet_utils import decode_predictions\n",
        "\n",
        "generator_images =  ImageDataGenerator().flow_from_directory(img_dir + 'val/',\n",
        "                                                          target_size=(224,224),\n",
        "                                                          batch_size=5,\n",
        "                                                          class_mode='categorical',\n",
        "                                                          shuffle=True)\n",
        "\n",
        "imgs = FILL \n",
        "\n",
        "y = model.predict(imgs[0])\n",
        "\n",
        "fig, ax = plt.subplots(1, len(imgs[0]), figsize=(12,7))\n",
        "ax = ax.flatten()\n",
        "for c in range(len(imgs[0])):\n",
        "  ax[c].imshow(imgs[0][c]/255.) \n",
        "  ax[c].axis('off')\n",
        "  ax[c].set_title(decode_predictions(y[c,np.newaxis,:])[0][0][1] +'\\n' +  \n",
        "                  str(decode_predictions(y[c,np.newaxis,:])[0][0][2]))"
      ],
      "execution_count": 0,
      "outputs": []
    },
    {
      "cell_type": "code",
      "metadata": {
        "id": "W8TJW4jfDYT9",
        "colab_type": "code",
        "colab": {}
      },
      "source": [
        "# SOLUTION\n",
        "from keras.applications.imagenet_utils import decode_predictions\n",
        "\n",
        "generator_images =  ImageDataGenerator().flow_from_directory(img_dir + 'val/',\n",
        "                                                          target_size=(224,224),\n",
        "                                                          batch_size=5,\n",
        "                                                          class_mode='categorical',\n",
        "                                                          shuffle=True)\n",
        "imgs = next(generator_images)\n",
        "\n",
        "y = model.predict(imgs[0])\n",
        "\n",
        "fig, ax = plt.subplots(1, len(imgs[0]), figsize=(12,7))\n",
        "ax = ax.flatten()\n",
        "for c in range(len(imgs[0])):\n",
        "  ax[c].imshow(imgs[0][c]/255.) \n",
        "  ax[c].axis('off')\n",
        "  ax[c].set_title(decode_predictions(y[c,np.newaxis,:])[0][0][1] +'\\n' +  \n",
        "                  str(decode_predictions(y[c,np.newaxis,:])[0][0][2]))\n"
      ],
      "execution_count": 0,
      "outputs": []
    },
    {
      "cell_type": "markdown",
      "metadata": {
        "id": "-KffSKdG2DKG",
        "colab_type": "text"
      },
      "source": [
        "<font color='cornflowerblue'><b>ToThink:</b></font> What do you see? And what does the network see? Does the network's classification make sense and is it certain of it? Can we learn from it whether our categories of interest are on the picture?"
      ]
    },
    {
      "cell_type": "markdown",
      "metadata": {
        "id": "r4elKZsYJU0z",
        "colab_type": "text"
      },
      "source": [
        "ANSWER: The network does classify objects that are on the provided images, however usually this does not fall in the categories we want to know about! "
      ]
    },
    {
      "cell_type": "markdown",
      "metadata": {
        "id": "ChKCO3xF2OvU",
        "colab_type": "text"
      },
      "source": [
        "### 3.4 Transfer learning with fine-tuning\n",
        "\n",
        "For performing transfer learning, we will like in the last tutorial <br/>\n",
        "* prepare our data for training & testing. <br/>\n",
        "* setup the optimization & learning rate adaptation <br/>\n",
        "* perform the training\n",
        "\n",
        "In addition, we will also customize our architecture to suit the new target categories (5 vs. 1000)\n",
        "\n",
        "There are also some general differences to the first two parts of this tutorial such as the amount of epochs to train on and the chosen learning rate. I'll comment on these differences below.\n"
      ]
    },
    {
      "cell_type": "markdown",
      "metadata": {
        "id": "_QfUqEIk3Ih9",
        "colab_type": "text"
      },
      "source": [
        "#### 3.4.1 Data augmentation\n",
        "\n",
        "Unfortunately, keras cannot perform random cropping while loading images from a directory. For that reason, we have to create a monkey patch to emulate the load_img function. This in bad practice and I would avoid this under all circumstances."
      ]
    },
    {
      "cell_type": "code",
      "metadata": {
        "id": "wYgpJv2T3DLy",
        "colab_type": "code",
        "colab": {}
      },
      "source": [
        "import keras\n",
        "import random\n",
        "def load_and_crop_img(path, grayscale=False, color_mode='rgb', target_size=None,\n",
        "                      interpolation='nearest'):\n",
        "    \"\"\"Wraps keras_preprocessing.image.utils.loag_img() and adds cropping.\n",
        "    Cropping method enumarated in interpolation\n",
        "    # Arguments\n",
        "        path: Path to image file.\n",
        "        color_mode: One of \"grayscale\", \"rgb\", \"rgba\". Default: \"rgb\".\n",
        "            The desired image format.\n",
        "        target_size: Either `None` (default to original size)\n",
        "            or tuple of ints `(img_height, img_width)`.\n",
        "        interpolation: Interpolation and crop methods used to resample and crop the image\n",
        "            if the target size is different from that of the loaded image.\n",
        "            Methods are delimited by \":\" where first part is interpolation and second is crop\n",
        "            e.g. \"lanczos:random\".\n",
        "            Supported interpolation methods are \"nearest\", \"bilinear\", \"bicubic\", \"lanczos\",\n",
        "            \"box\", \"hamming\" By default, \"nearest\" is used.\n",
        "            Supported crop methods are \"none\", \"center\", \"random\".\n",
        "    # Returns\n",
        "        A PIL Image instance.\n",
        "    # Raises\n",
        "        ImportError: if PIL is not available.\n",
        "        ValueError: if interpolation method is not supported.\n",
        "        \n",
        "    This code is adapted from here: https://gist.github.com/rstml/bbd491287efc24133b90d4f7f3663905\n",
        "    \"\"\"\n",
        "\n",
        "    # Decode interpolation string. Allowed Crop methods: none, center, random\n",
        "    interpolation, crop = interpolation.split(\":\") if \":\" in interpolation else (interpolation, \"none\")\n",
        "    \n",
        "    if crop == \"none\":\n",
        "        return keras.preprocessing.image.load_img(path,grayscale=grayscale,\n",
        "                                                  color_mode=color_mode,\n",
        "                                                  target_size=target_size,\n",
        "                                                  interpolation=interpolation)\n",
        "\n",
        "    # Load original size image using Keras\n",
        "    img = keras.preprocessing.image.load_img(path,grayscale=grayscale,\n",
        "                                             color_mode=color_mode,\n",
        "                                             target_size=None,\n",
        "                                             interpolation=interpolation)\n",
        "\n",
        "    if interpolation not in keras.preprocessing.keras_preprocessing.image.utils._PIL_INTERPOLATION_METHODS:\n",
        "        raise ValueError(\n",
        "            'Invalid interpolation method {} specified. Supported '\n",
        "            'methods are {}'.format(interpolation,\n",
        "                                    \", \".join(\n",
        "                                        keras.preprocessing.image.utils._PIL_INTERPOLATION_METHODS.keys())))\n",
        "\n",
        "    resample = keras.preprocessing.keras_preprocessing.image.utils._PIL_INTERPOLATION_METHODS[interpolation]\n",
        "    \n",
        "    # Check whether the shorter side of the image is at least equal to the target_size\n",
        "    # and if so, resample.\n",
        "    if ((img.width - target_size[1]) < 0) | ((img.height-target_size[0]) < 0):\n",
        "      targetW, targetH = target_size[1],target_size[0]\n",
        "      if img.width < img.height:\n",
        "        targetH = round(img.height / img.width * targetW)\n",
        "      else:\n",
        "        targetW = round(img.width / img.height * targetH)\n",
        "\n",
        "      img = img.resize((targetH, targetW), resample= resample)\n",
        "                                             \n",
        "    if crop == 'random':\n",
        "      x, y = random.randint(0, img.width - target_size[1]), random.randint(0,img.height-target_size[0])\n",
        "      img = img.crop((x, y, x+target_size[1], y+target_size[0]))\n",
        "\n",
        "    elif crop == 'center':\n",
        "      x, y = int(round((img.width - target_size[1]) / 2)) , int(round((img.height-target_size[0])/2))\n",
        "      img = img.crop((x, y, x+target_size[1], y+target_size[0]))\n",
        "    else:\n",
        "      raise ValueError('Invalid crop method specified. Supported are None, random and center')\n",
        "                                                                                      \n",
        "    return img\n",
        "  \n",
        " \n",
        "# Swap the loading function to introduce random cropping with a monkey patch.\n",
        "keras.preprocessing.keras_preprocessing.image.iterator.load_img = load_and_crop_img\n",
        "epochs = 40\n",
        "batch_size = 32\n",
        "# And make the image generators                     \n",
        "train_generator =  ImageDataGenerator(horizontal_flip=True).flow_from_directory(img_dir + 'train/',\n",
        "                                                                                         target_size=(224, 224),\n",
        "                                                                                         interpolation='lanczos:random', #--> This is the argument for the hidden function \n",
        "                                                                                         batch_size=batch_size,\n",
        "                                                                                         class_mode='categorical',\n",
        "                                                                                         shuffle=True)\n",
        "                       \n",
        "val_generator =  ImageDataGenerator().flow_from_directory(img_dir + 'val/',\n",
        "                                                          target_size=(224, 224),\n",
        "                                                          interpolation='lanczos:center', #--> This is the argument for the hidden function \n",
        "                                                          batch_size=batch_size,\n",
        "                                                          class_mode='categorical',\n",
        "                                                          shuffle=True)\n",
        "\n",
        "                       \n",
        "                     "
      ],
      "execution_count": 0,
      "outputs": []
    },
    {
      "cell_type": "markdown",
      "metadata": {
        "id": "sN6OxGa83cDl",
        "colab_type": "text"
      },
      "source": [
        "#### 3.4.2 Adapt the architecture\n",
        "As a start we need to get rid of the layers we wish to replace from the old model.\n",
        "In our case this is the last fully-connected layer including its activation function. So basically we shorten the model up until the AveragePooling operation (model.layers[-3]).\n",
        "\n",
        "As a next step, the model should have as a last output a vector of 512 dimensions.\n",
        "We will add our new layer to read out the output to distinguish the 5 categories."
      ]
    },
    {
      "cell_type": "code",
      "metadata": {
        "id": "tAOWAT313gpg",
        "colab_type": "code",
        "colab": {}
      },
      "source": [
        "from keras.models import Model\n",
        "from keras.layers import Dense\n",
        "\n",
        "model_base = Model(inputs = model.input, outputs = model.layers[-3].output)\n",
        "\n",
        "model_340 = Model(inputs=model_base.input, outputs=Dense(num_classes, activation='softmax')(model_base.output))\n"
      ],
      "execution_count": 0,
      "outputs": []
    },
    {
      "cell_type": "markdown",
      "metadata": {
        "id": "FlTJsq5Q4Eiu",
        "colab_type": "text"
      },
      "source": [
        "<font color='darkorange'><b>ToDo:</b></font> Print the model summary and look what has changed! Also have a look at the total number of units!  "
      ]
    },
    {
      "cell_type": "code",
      "metadata": {
        "id": "mRpOPxpjD9gx",
        "colab_type": "code",
        "colab": {}
      },
      "source": [
        "model_340.summary()"
      ],
      "execution_count": 0,
      "outputs": []
    },
    {
      "cell_type": "markdown",
      "metadata": {
        "id": "crBmsK7U4hbs",
        "colab_type": "text"
      },
      "source": [
        "#### 3.4.3 Setup the optimization & learning rate adaptation\n",
        "\n",
        "When we set up the optimizer, we will pick an inital learning rate that is much smaller than training from scratch (0.001 vs. 0.1). Also, we turn the decay from 0.0001 to 0.00001.\n",
        "\n",
        "<font color='cornflowerblue'><b>ToThink:</b></font> Why do you think we are using a smaller learning rate and decay?\n",
        "\n",
        "\n"
      ]
    },
    {
      "cell_type": "markdown",
      "metadata": {
        "colab_type": "text",
        "id": "Lj86OyQ36_MG"
      },
      "source": [
        "ANSWER: The network already learnt a lot in its past training and by using a larger learning rate we reduce the risk that the network will move too far away from its initial weights. We are using a smaller weight decay because our initial learning rate is already very small and if we keep the same increments, we would very quickly end up with something very small. \n"
      ]
    },
    {
      "cell_type": "markdown",
      "metadata": {
        "id": "0Zauh7ENSbV9",
        "colab_type": "text"
      },
      "source": [
        "If you are training a larger model, it pays off to also setup an checkpointer.\n",
        "This is observing the performance on a specified quantity such as validation \n",
        "loss or accuracy and will save the thus far best performing model.\n"
      ]
    },
    {
      "cell_type": "code",
      "metadata": {
        "id": "U4Il-dwH4u_8",
        "colab_type": "code",
        "colab": {}
      },
      "source": [
        "optimizer = keras.optimizers.SGD(lr=0.001, decay=1e-6, momentum=0.9, nesterov=True) \n",
        "model_340.compile(loss='categorical_crossentropy',optimizer=optimizer, metrics=['accuracy'])\n",
        "\n",
        "# This creates a new directory in your drive.\n",
        "%mkdir \"/gdrive/My Drive/CCN2019/transfer1/\"\n"
      ],
      "execution_count": 0,
      "outputs": []
    },
    {
      "cell_type": "markdown",
      "metadata": {
        "id": "gqmFUY8P5JI1",
        "colab_type": "text"
      },
      "source": [
        "#### 3.4.4 Perform the fine-tuning\n",
        "\n"
      ]
    },
    {
      "cell_type": "code",
      "metadata": {
        "id": "3hYCahGc54a_",
        "colab_type": "code",
        "colab": {}
      },
      "source": [
        "history_340 = model_340.fit_generator(train_generator,\n",
        "                                      steps_per_epoch=len(train_generator.labels)//batch_size, \n",
        "                                      epochs=epochs,\n",
        "                                      validation_data=val_generator,\n",
        "                                      validation_steps=len(val_generator.labels)//batch_size,\n",
        "                                      nb_worker=2) # This argument says that two workers in parallel will preprocess the images on the CPU cores\n",
        "\n",
        "model_340.save_weights('/gdrive/My Drive/CCN2019/transfer1/weights_340.h5')\n",
        "save_pickle(history_340, '/gdrive/My Drive/CCN2019/transfer1/history_340')\n"
      ],
      "execution_count": 0,
      "outputs": []
    },
    {
      "cell_type": "markdown",
      "metadata": {
        "id": "rhrnvIJq6ckV",
        "colab_type": "text"
      },
      "source": [
        "We will now plot the training performance! \n",
        "\n"
      ]
    },
    {
      "cell_type": "code",
      "metadata": {
        "id": "1UV_Tg9REdlc",
        "colab_type": "code",
        "colab": {}
      },
      "source": [
        "plot_training(history_340)"
      ],
      "execution_count": 0,
      "outputs": []
    },
    {
      "cell_type": "markdown",
      "metadata": {
        "id": "8B_jV6p5Jz8r",
        "colab_type": "text"
      },
      "source": [
        "<font color='cornflowerblue'><b>ToThink:</b></font> How did the training go? What are the differences to training it from scratch?\n",
        "\n"
      ]
    },
    {
      "cell_type": "markdown",
      "metadata": {
        "id": "YvMfsNhoJ2g6",
        "colab_type": "text"
      },
      "source": [
        "ANSWER: The model learnt within one epoch to classify the validation set at ca. 60% accuracy. This indicates that the pretrained weights already had a lot of useful features to distinguish between the classes. The improvement over time is also much smaller that in the earlier trainings because the learning rate is very small."
      ]
    },
    {
      "cell_type": "markdown",
      "metadata": {
        "id": "a8WVj5GlJ29d",
        "colab_type": "text"
      },
      "source": [
        "<font color='cornflowerblue'><b>ToThinkAdvanced:</b></font> How can the validation accuracy be higher than the training accuracy? Hint: Consider data augmentation"
      ]
    },
    {
      "cell_type": "markdown",
      "metadata": {
        "id": "9i2ISGbWJ3f-",
        "colab_type": "text"
      },
      "source": [
        "ANSWER: The validation dataset is preprocessed with a center crop and the training dataset with a random crop. The pretrained weights have an easier time classifying the center cropped images than the training images, since the central part of the image is usually the most informative. Because of that the model is always better at classifying the validation dataset. However over time the weights are being adjusted to also deal with the random crop, which shows in the increase of training accuracy over the training."
      ]
    },
    {
      "cell_type": "markdown",
      "metadata": {
        "id": "HY6UBcDjU3w6",
        "colab_type": "text"
      },
      "source": [
        "## Part 4: Finding the best AlexNet\n"
      ]
    },
    {
      "cell_type": "markdown",
      "metadata": {
        "id": "MxFyF7wfyqcU",
        "colab_type": "text"
      },
      "source": [
        "Find the best alexnet (performance on the validation set), given the following contraints:\n",
        "\n",
        "only 50 epochs.\n",
        "you cannot change the number of layers of Alexnet\n",
        "you cannot change the Cifar10 set as defined directly below:"
      ]
    },
    {
      "cell_type": "code",
      "metadata": {
        "id": "XCFNxBLjxFhi",
        "colab_type": "code",
        "outputId": "80367eec-dea0-436a-da78-d8ce7918b403",
        "colab": {
          "base_uri": "https://localhost:8080/",
          "height": 51
        }
      },
      "source": [
        "# Reload Cifar10 again\n",
        "(x_train, y_train), (x_test, y_test) = cifar10.load_data()\n",
        "num_classes = 10\n",
        "x_train = x_train.astype('float32') / 255\n",
        "x_test = x_test.astype('float32') / 255\n",
        "y_train = keras.utils.to_categorical(y_train, num_classes)\n",
        "y_test = keras.utils.to_categorical(y_test, num_classes)\n",
        "x_train, x_val, y_train, y_val = train_test_split(x_train, y_train, test_size=0.25, random_state=3) # 30k train, 10k val"
      ],
      "execution_count": 0,
      "outputs": [
        {
          "output_type": "stream",
          "text": [
            "Downloading data from https://www.cs.toronto.edu/~kriz/cifar-10-python.tar.gz\n",
            "170500096/170498071 [==============================] - 3s 0us/step\n"
          ],
          "name": "stdout"
        }
      ]
    },
    {
      "cell_type": "code",
      "metadata": {
        "id": "5vLsYURZaQ9m",
        "colab_type": "code",
        "colab": {}
      },
      "source": [
        "from keras.models import Sequential\n",
        "from keras.layers import Dropout,MaxPool2D\n",
        "\n",
        "# setup AlexNet\n",
        "AlexNet = Sequential()\n",
        "#Layer 1 \n",
        "AlexNet.add( Conv2D(48, kernel_size=(3,3),strides=(1,1), activation='relu', padding='same', input_shape=x_train.shape[1:] ) )\n",
        "AlexNet.add( MaxPool2D(pool_size=(2,2),strides=(2,2)) )\n",
        "#Layer 2\n",
        "AlexNet.add( Conv2D(96, kernel_size=(3,3), activation='relu', padding='same') )\n",
        "AlexNet.add( MaxPool2D(pool_size=(2,2),strides=(2,2)))\n",
        "#Layer 3\n",
        "AlexNet.add( Conv2D(192, kernel_size=(3,3), activation='relu', padding='same') )\n",
        "#Layer 4\n",
        "AlexNet.add( Conv2D(192, kernel_size=(3,3), activation='relu', padding='same') )\n",
        "AlexNet.add( MaxPool2D(pool_size=(2,2),strides=(2,2)) )\n",
        "AlexNet.add(Flatten())\n",
        "#Layer 6\n",
        "AlexNet.add(Dense(512, activation='tanh'))\n",
        "#Layer 7 \n",
        "AlexNet.add(Dense(256, activation='tanh'))\n",
        "#Prediction\n",
        "AlexNet.add(Dense(10, activation='softmax'))\n",
        "AlexNet.summary()\n",
        "\n",
        "sgd = keras.optimizers.SGD()\n",
        "\n",
        "epochs = 50\n",
        "batch_size = 36\n",
        "AlexNet.compile(loss='categorical_crossentropy',optimizer=sgd,metrics=['acc']) \n",
        "hist2 = AlexNet.fit(x_train, y_train,epochs=epochs,batch_size= batch_size,validation_data=(x_val, y_val),shuffle=True)"
      ],
      "execution_count": 0,
      "outputs": []
    }
  ]
}