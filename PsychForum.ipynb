{
  "nbformat": 4,
  "nbformat_minor": 0,
  "metadata": {
    "colab": {
      "name": "Day2_CCN_Training_SOLUTION.ipynb",
      "provenance": [],
      "collapsed_sections": [],
      "toc_visible": true,
      "machine_shape": "hm",
      "include_colab_link": true
    },
    "kernelspec": {
      "name": "python3",
      "display_name": "Python 3"
    },
    "accelerator": "GPU"
  },
  "cells": [
    {
      "cell_type": "markdown",
      "metadata": {
        "id": "view-in-github",
        "colab_type": "text"
      },
      "source": [
        "<a href=\"https://colab.research.google.com/github/hsscholte/psyForum/blob/master/PsychForum.ipynb\" target=\"_parent\"><img src=\"https://colab.research.google.com/assets/colab-badge.svg\" alt=\"Open In Colab\"/></a>"
      ]
    },
    {
      "cell_type": "markdown",
      "metadata": {
        "id": "rDbCH-zG4IvJ",
        "colab_type": "text"
      },
      "source": [
        "#Psyforum Tutorial 1: Training a deep neural network (v1.4)\n",
        "Lynn Sörensen & H.Steven Scholte\n",
        "\n",
        "### Welcome! \n",
        "In this tutorial you will learn how to train a convolutional deep neural network (DCNN) on a simple object recognition task.\n",
        "\n",
        "You will \n",
        "* build a Resnet model and look at its architecture <br/>\n",
        "* train it on CIFAR10 <br/>\n",
        "* ...with different learning schedules and observe the effects <br/>\n",
        "\n",
        "next, you will\n",
        "* design your own model and training scheme to get an optimal classification on a task. \n",
        "\n",
        "This tutorial is also going to get you acquainted with a dataset and a model architecture that will be used in a later tutorial. \n",
        "\n",
        "#### Some extra information:\n",
        "There are different types of exercises throughout this tutorial, including:\n",
        "\n",
        "- <font color='darkorange'><b>ToDos</b></font> : short programming exercises \n",
        "- <font color='cornflowerblue'><b>ToThinks</b></font>: questions about the (preceding) text/material\n",
        "\n",
        "Sometimes, you also encounter <font color='limegreen'><b>Tips and Tricks</b></font>, which may contain advice, more information on a specific topic, or links to relevant websites or material.\n",
        "\n",
        "#### GPU support\n",
        "Don't forget to change your runtime type to GPU accelerator if you want to train these model. Click on `Runtime` above this notebook in the Colab environment and then on `Change Runtime Type`. Set Hardware accelerator to `GPU`.\n",
        "\n",
        "\n"
      ]
    },
    {
      "cell_type": "markdown",
      "metadata": {
        "id": "ikPkQ_8eKRf7",
        "colab_type": "text"
      },
      "source": [
        "### Let's start!\n",
        "\n",
        "With importing the necessary packages:"
      ]
    },
    {
      "cell_type": "code",
      "metadata": {
        "id": "MOtWQVH34e9I",
        "colab_type": "code",
        "outputId": "5f80823b-a24c-4b90-a15b-1a66cb8fca85",
        "colab": {
          "base_uri": "https://localhost:8080/",
          "height": 80
        }
      },
      "source": [
        "import keras\n",
        "from keras.layers import Dense, Conv2D, BatchNormalization, Activation\n",
        "from keras.layers import AveragePooling2D, Input, Flatten\n",
        "from keras.models import Model\n",
        "from keras.datasets import cifar10\n",
        "import matplotlib.pyplot as plt\n",
        "import numpy as np\n",
        "import pickle\n",
        "from sklearn.model_selection import train_test_split\n",
        "\n"
      ],
      "execution_count": 0,
      "outputs": [
        {
          "output_type": "stream",
          "text": [
            "Using TensorFlow backend.\n"
          ],
          "name": "stderr"
        },
        {
          "output_type": "display_data",
          "data": {
            "text/html": [
              "<p style=\"color: red;\">\n",
              "The default version of TensorFlow in Colab will soon switch to TensorFlow 2.x.<br>\n",
              "We recommend you <a href=\"https://www.tensorflow.org/guide/migrate\" target=\"_blank\">upgrade</a> now \n",
              "or ensure your notebook will continue to use TensorFlow 1.x via the <code>%tensorflow_version 1.x</code> magic:\n",
              "<a href=\"https://colab.research.google.com/notebooks/tensorflow_version.ipynb\" target=\"_blank\">more info</a>.</p>\n"
            ],
            "text/plain": [
              "<IPython.core.display.HTML object>"
            ]
          },
          "metadata": {
            "tags": []
          }
        }
      ]
    },
    {
      "cell_type": "markdown",
      "metadata": {
        "id": "HBO77imOswz1",
        "colab_type": "text"
      },
      "source": [
        "And connect our google drive!"
      ]
    },
    {
      "cell_type": "code",
      "metadata": {
        "id": "xPOCjy-cs1xo",
        "colab_type": "code",
        "colab": {}
      },
      "source": [
        "from google.colab import drive\n",
        "\n",
        "drive.mount('/gdrive', force_remount=True)"
      ],
      "execution_count": 0,
      "outputs": []
    },
    {
      "cell_type": "markdown",
      "metadata": {
        "id": "uz5hRTSFjE7Z",
        "colab_type": "text"
      },
      "source": [
        "And lets create a directory in your gdrive to store the models"
      ]
    },
    {
      "cell_type": "code",
      "metadata": {
        "id": "h4WDh6LUjFRN",
        "colab_type": "code",
        "colab": {}
      },
      "source": [
        "mkdir \"/gdrive/My Drive/CCN2019\""
      ],
      "execution_count": 0,
      "outputs": []
    },
    {
      "cell_type": "markdown",
      "metadata": {
        "id": "_GS2we05FD-m",
        "colab_type": "text"
      },
      "source": [
        "And define some useful functions for later!"
      ]
    },
    {
      "cell_type": "code",
      "metadata": {
        "id": "SgB0UCVlE7XW",
        "colab_type": "code",
        "colab": {}
      },
      "source": [
        "def save_pickle(obj, name):\n",
        "    try:\n",
        "        filename = open(name + \".pickle\",\"wb\")\n",
        "        pickle.dump(obj, filename)\n",
        "        filename.close()\n",
        "        return(True)\n",
        "    except:\n",
        "        return(False)\n",
        "\n",
        "\n",
        "def load_pickle(filename):\n",
        "    return pickle.load(open(filename, \"rb\"))\n",
        "  \n",
        "def plot_training(history, title=None):\n",
        "  epochs = len(history.history['loss'])\n",
        "  if 'lr' in history.history:\n",
        "    fig, ax = plt.subplots(1, 3, figsize=(20,5))\n",
        "    ax = ax.flatten()\n",
        "    ax[0].plot(np.arange(epochs), np.transpose([history.history['loss'], history.history['val_loss']]))\n",
        "    ax[0].set_xlabel('epochs')\n",
        "    ax[0].set_ylabel('loss')\n",
        "    ax[0].set_ylim([0,3])\n",
        "    ax[0].legend(['training', 'validation'])\n",
        "\n",
        "    ax[1].plot(np.arange(epochs), np.transpose([history.history['acc'], history.history['val_acc']]))\n",
        "    ax[1].set_xlabel('epochs')\n",
        "    ax[1].set_ylabel('accuracy')\n",
        "    ax[1].set_ylim([0,1])\n",
        "    ax[1].legend(['training', 'validation'])\n",
        "    \n",
        "    ax[2].plot(np.arange(epochs), history.history['lr'])\n",
        "    ax[2].set_xlabel('epochs')\n",
        "    ax[2].set_ylabel('learning rate')\n",
        "    #ax[2].set_ylim([0,1])\n",
        "  else:\n",
        "    fig, ax = plt.subplots(1, 2, figsize=(15,5))\n",
        "    ax = ax.flatten()\n",
        "    ax[0].plot(np.arange(epochs), np.transpose([history.history['loss'], history.history['val_loss']]))\n",
        "    ax[0].set_xlabel('epochs')\n",
        "    ax[0].set_ylabel('loss')\n",
        "    ax[0].set_ylim([0,3])\n",
        "\n",
        "    ax[1].plot(np.arange(epochs), np.transpose([history.history['acc'], history.history['val_acc']]))\n",
        "    ax[1].set_xlabel('epochs')\n",
        "    ax[1].set_ylabel('accuracy')\n",
        "    ax[1].set_ylim([0,1])\n",
        "    fig.legend(['training', 'validation'])\n",
        "  if title:\n",
        "    fig.suptitle(title)\n",
        "  fig.show()\n"
      ],
      "execution_count": 0,
      "outputs": []
    },
    {
      "cell_type": "markdown",
      "metadata": {
        "id": "43fLIj0Io043",
        "colab_type": "text"
      },
      "source": [
        "## Part 1: Train a network on a simple object recognition task with different training schemes\n",
        "In this part of the tutorial, you will be training a DCNN to solve object categorization on [CIFAR10](https://www.cs.toronto.edu/~kriz/cifar.html). We will use this dataset because it is relatively quick to train and still allows you to observe interesting behavior. The specific version of ResNet is based on [ResNetCifar10](http://www.pabloruizruiz10.com/resources/CNNs/ResNet-on-CIFAR10.pdf).\n",
        "\n",
        "The logic of this part of the tutorial will be that you observe that effects of different choices (e.g. learning rate, data augmentation) that you make when you decide to train a DCNN from scratch. Training a DCNN can be tricky and the interaction between different decisions difficult to anticipate. \n",
        "\n",
        "Our goal for the first part is to replicate the training from the Resnet paper, one of the most successful architectures that is still widely used to day, despite its relatively old age for the deep learning community. To do this, we will be adding component by component to our training and obeserve in how it helps. \n",
        "\n",
        "So let's get started!\n",
        "\n",
        "For all of the following experiments, we need:\n",
        "* A stimulus set - CIFAR10\n",
        "* A ResNet architecture\n",
        "\n",
        "\n"
      ]
    },
    {
      "cell_type": "markdown",
      "metadata": {
        "id": "ZX1kPWpL-EZV",
        "colab_type": "text"
      },
      "source": [
        "### 1.1 Stimulus set: CIFAR10\n",
        "The CIFAR10 dataset contains 60,000 32x32 color images in 10 different classes. The 10 different classes represent airplanes, cars, birds, cats, deer, dogs, frogs, horses, ships, and trucks. There are 6,000 images of each class.\n",
        "\n",
        "This dataset is a standard benchmark in the Computer vision community to benchmark new architecture and training regimes.\n",
        "\n",
        "<font color='darkorange'><b>ToDo:</b></font> Fill in the missing parts in the code below by replacing the 'FILL'.\n",
        "Check out the objects. Plot a couple of examples for every category."
      ]
    },
    {
      "cell_type": "code",
      "metadata": {
        "id": "3fqRiZRuveso",
        "colab_type": "code",
        "colab": {}
      },
      "source": [
        "# Load the CIFAR10 data.\n",
        "(x_train, y_train), (x_test, y_test) = cifar10.load_data()\n",
        "# How many classes are there?\n",
        "\n",
        "# num_classes = FILL\n",
        "num_classes = 10\n",
        "\n",
        "# Plots some examples here.\n",
        "num_examples = 5\n",
        "fig, ax = plt.subplots(num_examples, num_classes, figsize=(20,10))\n",
        "for c in range(num_classes):\n",
        "  class_idx = np.where(y_train == c)[0] # for a given class\n",
        "  for e in range(num_examples): #pick some random examples from the training set\n",
        "    # ax[e,c].imshow(FILL) \n",
        "    ax[e,c].imshow(x_train[class_idx[np.random.randint(len(class_idx))],:,:,:]) \n",
        "    ax[e,c].axis('off')\n",
        "\n",
        "\n"
      ],
      "execution_count": 0,
      "outputs": []
    },
    {
      "cell_type": "markdown",
      "metadata": {
        "id": "B_37UZjxozgb",
        "colab_type": "text"
      },
      "source": [
        "### 1.2 Data preparation\n",
        "Humans and networks need different inputs and labels. Comparable to the range of light intensities that we are able to perceive, we need to transfer the images into a space where the networks can easily compute on them. This means, we will have to convert our images to have values between 0 and 1. \n",
        "\n",
        "<font color='cornflowerblue'><b>ToThink:</b></font> Why do you think the network can deal better with inputs between 0-1?\n",
        "\n",
        "\n"
      ]
    },
    {
      "cell_type": "markdown",
      "metadata": {
        "id": "mWbID3V6W3Ut",
        "colab_type": "text"
      },
      "source": [
        "ANSWER: Inputs in a bounded range allow the network to learn and find weights that are not too extreme. Since we're going to be multiplying (weights) and adding to (biases) these initial inputs in order to cause activations that we then backpropogate with the gradients to train the model.\n",
        "\n",
        "We'd like in this process for each feature to have a similar range so that our gradients don't go out of control."
      ]
    },
    {
      "cell_type": "markdown",
      "metadata": {
        "id": "dlXgBC83W79h",
        "colab_type": "text"
      },
      "source": [
        "\n",
        "<font color='darkorange'><b>ToDo:</b></font> Fill in the missing parts in the code below by replacing the 'FILL'."
      ]
    },
    {
      "cell_type": "code",
      "metadata": {
        "id": "RgimuKrpvMQn",
        "colab_type": "code",
        "colab": {}
      },
      "source": [
        "# Input image dimensions.\n",
        "input_shape = x_train.shape[1:]\n",
        "\n",
        "# Normalize data.\n",
        "# x_train = x_train.astype('float32') / FILL\n",
        "# x_test = x_test.astype('float32') / FILL\n",
        "\n",
        "x_train = x_train.astype('float32') / 255\n",
        "x_test = x_test.astype('float32') / 255\n"
      ],
      "execution_count": 0,
      "outputs": []
    },
    {
      "cell_type": "markdown",
      "metadata": {
        "id": "nyEbtKrQV9nb",
        "colab_type": "text"
      },
      "source": [
        "While we have an easy time understanding the label 'bird', we need to express categories as numbers for the network. The next step will be to also express the labels of the target category as a 1-hot-vector. This just means that you have a vector with zeros corresponding to all labels and you put a 1 for the right target category. Fortunately, Keras has a nice set of 'utils' to help us with that. For example keras.utils.to_categorical converts a class vector of integers to a binary class matrix.\n",
        "\n",
        "<font color='darkorange'><b>ToDo:</b></font> Look uo how to use this function and fill in the correct arguements below! "
      ]
    },
    {
      "cell_type": "code",
      "metadata": {
        "id": "32-d2bDKWcxn",
        "colab_type": "code",
        "colab": {}
      },
      "source": [
        "# Convert class vectors to binary class matrices.\n",
        "# y_train = keras.utils.to_categorical(FILL)\n",
        "# y_test = keras.utils.to_categorical(FILL)\n",
        "\n",
        "y_train = keras.utils.to_categorical(y_train, num_classes)\n",
        "y_test = keras.utils.to_categorical(y_test, num_classes)"
      ],
      "execution_count": 0,
      "outputs": []
    },
    {
      "cell_type": "markdown",
      "metadata": {
        "id": "HxOFtA-kTR6F",
        "colab_type": "text"
      },
      "source": [
        "### 1.3 Validation set\n",
        "\n",
        "As a last step, we'll set aside some of our training data as a validation dataset. This allows us to estimate how well our current model performs without touching the test set. \n",
        "\n",
        "<font color='cornflowerblue'><b>ToThink:</b></font> Do you recall why it is useful to have a validation set?\n",
        "\n"
      ]
    },
    {
      "cell_type": "markdown",
      "metadata": {
        "id": "oCwURA1GXDyE",
        "colab_type": "text"
      },
      "source": [
        "ANSWER: A validation set gives you an estimate of how well your current solution of weights will generalize to the test set."
      ]
    },
    {
      "cell_type": "code",
      "metadata": {
        "id": "PQcAGnSlfZiL",
        "colab_type": "code",
        "colab": {}
      },
      "source": [
        "# We take here 10% of our training set as a validation set. \n",
        "\n",
        "x_train, x_val, y_train, y_val = train_test_split(x_train, y_train, test_size=0.25, random_state=3) # 30k train, 10k val\n",
        "\n",
        "print('x_train shape:', x_train.shape)\n",
        "print(x_train.shape[0], 'train samples')\n",
        "print('y_train shape:', y_train.shape)\n",
        "\n",
        "print('x_val shape:', x_val.shape)\n",
        "print(x_val.shape[0], 'val samples')\n",
        "print('y_val shape:', y_val.shape)\n",
        "\n",
        "\n",
        "\n"
      ],
      "execution_count": 0,
      "outputs": []
    },
    {
      "cell_type": "markdown",
      "metadata": {
        "id": "1DHCdacIw6_i",
        "colab_type": "text"
      },
      "source": [
        "\n",
        "<font color='limegreen'><b>Tips and Tricks</b></font>: Here we use a function from sklearn, this is one way to do it. Keras also allows you to make a validation set on the fly with an argument validationSplit in the [ImageDataGenerator class](https://keras.io/preprocessing/image/)."
      ]
    },
    {
      "cell_type": "markdown",
      "metadata": {
        "id": "05ZrFhPCi1wF",
        "colab_type": "text"
      },
      "source": [
        "Notice that we also still have a test set that we obtained when we loaded cifar10. Below we inspect its dimensions:"
      ]
    },
    {
      "cell_type": "code",
      "metadata": {
        "id": "TcB7V8Qsi2Ng",
        "colab_type": "code",
        "colab": {}
      },
      "source": [
        "print('x_test shape:', x_test.shape)\n",
        "print(x_test.shape[0], 'test samples')\n",
        "print('y_test shape:', y_test.shape)"
      ],
      "execution_count": 0,
      "outputs": []
    },
    {
      "cell_type": "markdown",
      "metadata": {
        "id": "xF3yfVvvjRqS",
        "colab_type": "text"
      },
      "source": [
        "<font color='cornflowerblue'><b>ToThink:</b></font> Why do you think we have 3 datasets, train, validate and test?"
      ]
    },
    {
      "cell_type": "markdown",
      "metadata": {
        "id": "tSKk4wW-Blo9",
        "colab_type": "text"
      },
      "source": [
        "### 1.4 Resnet architecture\n",
        "\n",
        "Now let's move on to the Resnet architecture. Since the images of CIFAR10 are only 32x32x3, the network to classify them cannot be too deep (remember the effect of convolution and pooling operations). For that reason, the authors of Resnet made a mini-version tailored to CIFAR10. The most important differences to the Resnet-version used on Imagenet (224x224x3 images) is the amount of blocks and the depth of the filters. Also, to somewhat reduce the performance we have made the network slightly smaller. \n",
        "\n",
        "<font color='darkorange'><b>ToDo:</b></font> Go over the definitions below and make sure to understand how it works."
      ]
    },
    {
      "cell_type": "code",
      "metadata": {
        "id": "SswcBKvjBGqN",
        "colab_type": "code",
        "colab": {}
      },
      "source": [
        "# Below you can see the definition of a resnet block. \n",
        "\n",
        "def resnet_layer(inputs,\n",
        "                 num_filters=16,\n",
        "                 kernel_size=3,\n",
        "                 strides=1,\n",
        "                 activation='relu',\n",
        "                 batch_normalization=True,\n",
        "                 conv_first=True):\n",
        "    \"\"\"2D Convolution-Batch Normalization-Activation stack builder\n",
        "\n",
        "    # Arguments\n",
        "        inputs (tensor): input tensor from input image or previous layer\n",
        "        num_filters (int): Conv2D number of filters\n",
        "        kernel_size (int): Conv2D square kernel dimensions\n",
        "        strides (int): Conv2D square stride dimensions\n",
        "        activation (string): activation name\n",
        "        batch_normalization (bool): whether to include batch normalization\n",
        "        conv_first (bool): conv-bn-activation (True) or\n",
        "            bn-activation-conv (False)\n",
        "\n",
        "    # Returns\n",
        "        x (tensor): tensor as input to the next layer\n",
        "    \"\"\"\n",
        "    # This is how you defince a 2D convolutional layer. \n",
        "    # At this point this is just a pre-defined function and not a layer yet!\n",
        "    conv = Conv2D(num_filters,\n",
        "                  kernel_size=kernel_size,\n",
        "                  strides=strides,\n",
        "                  padding='same',\n",
        "                  kernel_initializer='he_normal',\n",
        "                  kernel_regularizer= keras.regularizers.l2(1e-4))\n",
        "    # This is where we start to chain the layers together.\n",
        "    x = inputs # any block will start with the inputs given to this function.\n",
        "    if conv_first: # This if-else statement refers to that there are two-ways of constructing the Resnet-block.\n",
        "        x = conv(x) # Append the conv function from above to the input. \n",
        "        if batch_normalization:\n",
        "            x = BatchNormalization()(x) # Here we add the Batchnormalization in the same way. \n",
        "        if activation is not None:\n",
        "            x = Activation(activation)(x) # And similarly for the Activation function.\n",
        "    else:\n",
        "        if batch_normalization:\n",
        "            x = BatchNormalization()(x)\n",
        "        if activation is not None:\n",
        "            x = Activation(activation)(x)\n",
        "        x = conv(x)\n",
        "    return x\n",
        "  \n",
        "  # These operations will be repeated many times and as result \n"
      ],
      "execution_count": 0,
      "outputs": []
    },
    {
      "cell_type": "code",
      "metadata": {
        "id": "lZ1chexLFGwI",
        "colab_type": "code",
        "colab": {}
      },
      "source": [
        "# and this is how the model is put together.\n",
        "  \n",
        "def resnet_v1(input_shape, depth=8, num_classes=10):\n",
        "    \"\"\"ResNet Version 1 Model builder [a]\n",
        "    Adapted from https://keras.io/examples/cifar10_resnet/\n",
        "    Stacks of 2 x (3 x 3) Conv2D-BN-ReLU\n",
        "    Last ReLU is after the shortcut connection.\n",
        "    At the beginning of each stage, the feature map size is halved (downsampled)\n",
        "    by a convolutional layer with strides=2, while the number of filters is\n",
        "    doubled. Within each stage, the layers have the same number filters and the\n",
        "    same number of filters.\n",
        "    Features maps sizes:\n",
        "    stage 0: 32x32, 16\n",
        "    stage 1: 16x16, 32\n",
        "    stage 2:  8x8,  64\n",
        "    The Number of parameters is approx the same as Table 6 of [a]:\n",
        "    ResNet10 0.14M\n",
        "    ResNet20 0.27M\n",
        "    ResNet32 0.46M\n",
        "    ResNet44 0.66M\n",
        "    ResNet56 0.85M\n",
        "    ResNet110 1.7M\n",
        "\n",
        "    # Arguments\n",
        "        input_shape (tensor): shape of input image tensor (dim1,dim2,channels)\n",
        "        depth (int): number of core convolutional layers\n",
        "        num_classes (int): number of classes (CIFAR10 has 10)\n",
        "\n",
        "    # Returns\n",
        "        model (Model): Keras model instance\n",
        "    \"\"\"\n",
        "    # if (depth - 2) % 6 != 0:\n",
        "    #    raise ValueError('depth should be 6n+2 (eg 20, 32, 44 in [a])')\n",
        "    # Start model definition.\n",
        "    num_filters = 16\n",
        "    num_res_blocks = int((depth - 2) / 6)\n",
        "\n",
        "    inputs = Input(shape=input_shape)\n",
        "    x = resnet_layer(inputs=inputs) \n",
        "    # Instantiate the stack of residual units\n",
        "    for stack in range(3):\n",
        "        for res_block in range(num_res_blocks):\n",
        "            strides = 1\n",
        "            if stack > 0 and res_block == 0:  # first layer but not first stack\n",
        "                strides = 2  # downsample\n",
        "            # This defines the first branch in which all the weight layer are. \n",
        "            y = resnet_layer(inputs=x, \n",
        "                             num_filters=num_filters,\n",
        "                             strides=strides)\n",
        "            y = resnet_layer(inputs=y, \n",
        "                             num_filters=num_filters,\n",
        "                             activation=None)\n",
        "            if stack > 0 and res_block == 0:  # first layer but not first stack\n",
        "                # linear projection residual shortcut connection to match\n",
        "                # changed dims\n",
        "                x = resnet_layer(inputs=x,\n",
        "                                 num_filters=num_filters,\n",
        "                                 kernel_size=1,\n",
        "                                 strides=strides,\n",
        "                                 activation=None,\n",
        "                                 batch_normalization=False)\n",
        "            x = keras.layers.add([x, y]) # Here the first branch is added to the residual.\n",
        "            x = Activation('relu')(x)\n",
        "        num_filters *= 2\n",
        "\n",
        "    # Add classifier on top.\n",
        "    # v1 does not use BN after last shortcut connection-ReLU\n",
        "    x = AveragePooling2D(pool_size=8)(x)\n",
        "    y = Flatten()(x)\n",
        "    outputs = Dense(num_classes,\n",
        "                    activation='softmax',\n",
        "                    kernel_initializer='he_normal')(y)\n",
        "\n",
        "    # Instantiate model.\n",
        "    model = Model(inputs=inputs, outputs=outputs)\n",
        "    return model\n",
        "  "
      ],
      "execution_count": 0,
      "outputs": []
    },
    {
      "cell_type": "markdown",
      "metadata": {
        "id": "IoPY3mU-7U8L",
        "colab_type": "text"
      },
      "source": [
        "<font color='darkorange'><b>ToDo:</b></font> Build the model with the functions above (by using the default settings!)\n"
      ]
    },
    {
      "cell_type": "code",
      "metadata": {
        "id": "53LDH0lE7RK5",
        "colab_type": "code",
        "colab": {}
      },
      "source": [
        "# Build the model\n",
        "# FILL\n",
        "model = resnet_v1(input_shape=input_shape)\n",
        "\n",
        "# ... and show the architecture\n",
        "model.summary()"
      ],
      "execution_count": 0,
      "outputs": []
    },
    {
      "cell_type": "markdown",
      "metadata": {
        "id": "gQPtUnh2EuDi",
        "colab_type": "text"
      },
      "source": [
        "Voilà, your model!\n",
        "So what is going on inside of a Resnet-Model?\n",
        "\n",
        "![alt text](https://miro.medium.com/max/1140/1*D0F3UitQ2l5Q0Ak-tjEdJg.png) \n",
        "\n",
        "Above the same operations are shown as a graphic. x refers to the current end of the model, that can be any layer. A weight later would a Conv2D layer. relu refers to the activation function. In our case, this is also integrated in the Conv2D layer (see the activation argument in the resnet layer function). \n",
        "\n",
        "<font color='cornflowerblue'><b>ToThink:</b></font>  Can you see how this schematic fits with the model.summary output? \n",
        "How many of these blocks are there in total? Follow the Add operation!\n",
        "\n"
      ]
    },
    {
      "cell_type": "markdown",
      "metadata": {
        "id": "L7Rzhun7Y2vd",
        "colab_type": "text"
      },
      "source": [
        "ANSWER: There are 3 blocks in total."
      ]
    },
    {
      "cell_type": "markdown",
      "metadata": {
        "id": "33EadtfRY7Fm",
        "colab_type": "text"
      },
      "source": [
        "There are range of different resnet types with varying depths! The depths in the name is determined by the amount of Convolutional and Dense layers.\n",
        "\n",
        "<font color='cornflowerblue'><b>ToThink:</b></font> In the current case, how many convolutional and dense layers are there respectively?\n",
        "\n"
      ]
    },
    {
      "cell_type": "markdown",
      "metadata": {
        "id": "BBiHVndvY7UH",
        "colab_type": "text"
      },
      "source": [
        "ANSWER: There are 9 convolutional and 1 dense layer, making it a 10 layer network."
      ]
    },
    {
      "cell_type": "markdown",
      "metadata": {
        "id": "s6ljLZF_8jIB",
        "colab_type": "text"
      },
      "source": [
        "<font color='limegreen'><b>Tips and Tricks</b></font>: There is a range of models available provided by Keras with pretrained weights on ImageNet that are easy to use such as VGG or Inception. For more info see [here](https://keras.io/applications/#available-models)."
      ]
    },
    {
      "cell_type": "markdown",
      "metadata": {
        "id": "6qU2GpeiKHKU",
        "colab_type": "text"
      },
      "source": [
        "### 1.5 Training options\n",
        "\n",
        "Our model currently has random weights, that means, it has not been trained to do any task. Let's see what that means. For example if we have it classify the CIFAR10 training set.\n",
        "\n",
        "#### 1.5.0 model.compile\n",
        "Before a freshly assembled model can be trained or tested, it first needs to be compiled. That means we add our loss function (e.g. categorical_crossentropy), a training optimizer (remember stochastic gradient descent!) and a metric to compare between the model answer and the true answer (accuracy).\n",
        "\n",
        "\n",
        "<font color='darkorange'><b>ToDo:</b></font> Check out https://keras.io/optimizers/ for an overview of all available optimizers and their defaults. Set up the compile function with categorical crossentropy, stochastic gradient descent and accuracy as a metric!\n"
      ]
    },
    {
      "cell_type": "code",
      "metadata": {
        "id": "xZefbvyGBDV7",
        "colab_type": "code",
        "colab": {}
      },
      "source": [
        "# Fill = keras.selectOptimizers.FILL()\n",
        "# modelCC.compile(loss=FILL, optimizer=FILL, metrics=[FILL]) \n",
        "\n",
        "sgd = keras.optimizers.SGD()\n",
        "model.compile(loss='categorical_crossentropy',optimizer=sgd,metrics=['acc']) \n",
        "scores = model.evaluate(x_train, y_train, verbose=1)\n",
        "\n",
        "print('Training loss:', scores[0])\n",
        "print('Training accuracy:', scores[1])"
      ],
      "execution_count": 0,
      "outputs": []
    },
    {
      "cell_type": "markdown",
      "metadata": {
        "id": "-N4g0xdnO6WA",
        "colab_type": "text"
      },
      "source": [
        "<font color='cornflowerblue'><b>ToThink:</b></font> What does the training loss mean? Is the training accuracy like you would expect and if so, why? \n",
        "\n"
      ]
    },
    {
      "cell_type": "markdown",
      "metadata": {
        "colab_type": "text",
        "id": "R1oOHGHnBql5"
      },
      "source": [
        "#### 1.5.1 Training with standard gradient descent and a large batch size\n",
        "Now let's start with teaching the model the task of distinguishing the 10 different object categories in CIFAR10. \n",
        "\n",
        "In the lecture, we have seen that a big part of successful training is choosing the right batch size, gradient update & learning rate at the right moment in time. Below, we are going to train our model in different ways and change this part in our training. \n",
        "\n",
        "As a result of how we set up our model above (model.compile ...), we accepted the default parameters of the SGD optimizer. The gradient updates will follow the steepest gradient throughout our entire training. \n",
        "\n",
        "<font color='cornflowerblue'><b>ToThink:</b></font> Do you think this is a good strategy?\n",
        "\n"
      ]
    },
    {
      "cell_type": "markdown",
      "metadata": {
        "colab_type": "text",
        "id": "ScXzG44VBqmA"
      },
      "source": [
        "ANSWER: In general, there is nothing wrong about accepting the default values. Yet, as we talked about in the lecture, the basic concept of gradient descent is great but there might be some smarter ways to selet these values. Figuring out which these are, in such a way that the model is not overfitted is a central skill."
      ]
    },
    {
      "cell_type": "markdown",
      "metadata": {
        "colab_type": "text",
        "id": "q0pTAoXDBuL7"
      },
      "source": [
        "<font color='darkorange'><b>ToDo:</b></font> Can you set up the training below with the model.fit() function? Remember, we set aside a validation dataset, to evaluate how well our model will generalize to the test set! Choose a batch-size of 5000 and run it for 30 epochs!\n",
        "\n",
        "<font color='limegreen'><b>Tips and Tricks</b></font>: In the snippet of code there is already a modelcheckpoint set up for you. This will safe the currently best-performing model automatically. "
      ]
    },
    {
      "cell_type": "code",
      "metadata": {
        "colab_type": "code",
        "id": "cYtbK7VXBzuZ",
        "colab": {}
      },
      "source": [
        "# epochs = FILL\n",
        "# batch_size = FILL\n",
        "epochs = 50\n",
        "batch_size = 5000\n",
        "\n",
        "# Training of the model\n",
        "# history_151 = model.fit(FILL, shuffle=True)  \n",
        "history_151 = model.fit(x_train, y_train, batch_size=batch_size, epochs=epochs, validation_data=(x_val, y_val), shuffle=True)\n",
        "\n",
        "# Save the outcomes\n",
        "model.save_weights('/gdrive/My Drive/CCN2019/weights_151.h5')\n",
        "save_pickle(history_151, '/gdrive/My Drive/CCN2019/history_151')"
      ],
      "execution_count": 0,
      "outputs": []
    },
    {
      "cell_type": "markdown",
      "metadata": {
        "colab_type": "text",
        "id": "-gfPV2y-k_AR"
      },
      "source": [
        "The history object contains an overview of the training. With that you can inspect how the training went. "
      ]
    },
    {
      "cell_type": "code",
      "metadata": {
        "colab_type": "code",
        "id": "32f1LYtnk_AV",
        "colab": {}
      },
      "source": [
        "plot_training(history_151, title='1.5.1 Training with a static learning rate, large batch size')"
      ],
      "execution_count": 0,
      "outputs": []
    },
    {
      "cell_type": "markdown",
      "metadata": {
        "colab_type": "text",
        "id": "hr9CDkiAlMkG"
      },
      "source": [
        "So what do we see here? Neither the performance on the training or validation set increased in an impressive maner. \n",
        "\n",
        "<font color='cornflowerblue'><b>ToThink:</b></font> This is an effect of the large batch size. Why?\n",
        "\n",
        "\n",
        "\n",
        "\n",
        "\n"
      ]
    },
    {
      "cell_type": "markdown",
      "metadata": {
        "id": "kAKPaNAIEZNb",
        "colab_type": "text"
      },
      "source": [
        "#### 1.5.2 Training with standard gradient descent and a small batch size\n"
      ]
    },
    {
      "cell_type": "markdown",
      "metadata": {
        "id": "qtZjbmaDZ26P",
        "colab_type": "text"
      },
      "source": [
        "<font color='darkorange'><b>ToDo:</b></font> We will now reduce our batchsize to 36 and evaluate the performance again. Keep, for once, 50 epochs (and get some coffee)."
      ]
    },
    {
      "cell_type": "code",
      "metadata": {
        "id": "RYjBUHIJRWzI",
        "colab_type": "code",
        "colab": {}
      },
      "source": [
        "# epochs = FILL\n",
        "# batch_size = FILL\n",
        "epochs = 50\n",
        "batch_size = 36\n",
        "\n",
        "# Training of the model\n",
        "model.compile(loss='categorical_crossentropy',optimizer=sgd,metrics=['acc']) \n",
        "\n",
        "# history_152 = model.fit(FILL, shuffle=True)  \n",
        "history_152 = model.fit(x_train, y_train, batch_size=batch_size, epochs=epochs, validation_data=(x_val, y_val), shuffle=True)\n",
        "\n",
        "# Save the outcomes\n",
        "model.save_weights('/gdrive/My Drive/CCN2019/weights_152.h5')\n",
        "save_pickle(history_152, '/gdrive/My Drive/CCN2019/history_152')\n"
      ],
      "execution_count": 0,
      "outputs": []
    },
    {
      "cell_type": "markdown",
      "metadata": {
        "id": "gpzWYTQZVkBo",
        "colab_type": "text"
      },
      "source": [
        "The history object contains an overview of the training. With that you can inspect how the training went. "
      ]
    },
    {
      "cell_type": "code",
      "metadata": {
        "id": "l2J0s9yK1aBy",
        "colab_type": "code",
        "colab": {}
      },
      "source": [
        "plot_training(history_152, title='1.5.2 Training with a static learning rate, small batch size')"
      ],
      "execution_count": 0,
      "outputs": []
    },
    {
      "cell_type": "markdown",
      "metadata": {
        "id": "EXfpNB0Mqxt3",
        "colab_type": "text"
      },
      "source": [
        "So what do we see here? While the model continued to fit the training set (contrary to 1.5.1). The corresponding measures on the validation improved substantially less, and also sometimes deteriorated. \n",
        "\n",
        "<font color='cornflowerblue'><b>ToThink:</b></font> Which scenario from the lecture could this correspond to? For later epochs, is the learning rate too small, too big, way too big or equal to the optimal learning rate?\n",
        "\n",
        "\n",
        "\n",
        "\n",
        "\n",
        "\n"
      ]
    },
    {
      "cell_type": "markdown",
      "metadata": {
        "id": "yZbk0U9lbSRn",
        "colab_type": "text"
      },
      "source": [
        "ANSWER: For later epochs, this corresponds to choosing a too big learning rate since the training actually doesn't improve the performance over time. The big jumps in the loss also indicate that it is making too big steps after a single epoch."
      ]
    },
    {
      "cell_type": "markdown",
      "metadata": {
        "id": "Y14HclqC33lZ",
        "colab_type": "text"
      },
      "source": [
        "#### 1.5.3 Training with momentum\n",
        "\n",
        "This went *ok*. But we can do better! Do you remember the difficult landscape from the lecture? There might be smarter ways how we can travel through this landscape! \n",
        "\n",
        "<font color='cornflowerblue'><b>ToThink:</b></font> Can you describe in your own words, how we traveled the landscape in the last training? What does the learning rate mean in this analogy?\n",
        "\n",
        "\n",
        "\n",
        "\n"
      ]
    },
    {
      "cell_type": "markdown",
      "metadata": {
        "id": "rMKdHAt_bd_h",
        "colab_type": "text"
      },
      "source": [
        "ANSWER: In the last training, we have always taken the same step size and followed the steepest slope. The learning rate corresponds to the size of the update, so a distance in the landscape. "
      ]
    },
    {
      "cell_type": "markdown",
      "metadata": {
        "id": "rPmc08JUbcdB",
        "colab_type": "text"
      },
      "source": [
        "A start could be that we develop a better decision rule for which direction to follow. This means that it might not always be the best idea to follow the currently steepest gradient. \n",
        "\n",
        "This is exactly what training stochastic gradient descent with momentum does! The intuition behind is that when there was a certain direction that continuously had a gradient to learn from, this direction gains more weight. This can be imagined like a ball rolling downhill.\n",
        "\n",
        "<font color='darkorange'><b>ToDo:</b></font> Can you set up a new model, compile it with a Nesterov-momentum of 0.9? You can keep all the other parameters the same. Train the model and see how it compares to the other training?"
      ]
    },
    {
      "cell_type": "code",
      "metadata": {
        "id": "zUq8I_SSPh6h",
        "colab_type": "code",
        "colab": {}
      },
      "source": [
        "epochs = 50\n",
        "batch_size = 36\n",
        " \n",
        "# model_153 = FILL\n",
        "# sgd_custom = keras.optimizers.SGD(FILL) \n",
        "# model_153.compile(FILL)\n",
        "  \n",
        "model_153 = resnet_v1(input_shape=input_shape)\n",
        "sgd_custom = keras.optimizers.SGD(lr=0.01, momentum=0.9, nesterov=True) \n",
        "model_153.compile(loss='categorical_crossentropy',optimizer=sgd_custom,metrics=['accuracy'])\n",
        "\n",
        "# history_153 = model.fit(FILL, shuffle=True)  \n",
        "history_153 = model_153.fit(x_train, y_train, batch_size=batch_size, epochs=epochs, validation_data=(x_val, y_val), shuffle=True)\n",
        "\n",
        "# Save the outcomes\n",
        "model.save_weights('/gdrive/My Drive/CCN2019/weights_153.h5')\n",
        "save_pickle(history_153, '/gdrive/My Drive/CCN2019/history_153')"
      ],
      "execution_count": 0,
      "outputs": []
    },
    {
      "cell_type": "code",
      "metadata": {
        "id": "pwlmqSwT1mBd",
        "colab_type": "code",
        "colab": {}
      },
      "source": [
        "plot_training(history_153, title='1.5.3 Training with Nesterov-momentum')\n"
      ],
      "execution_count": 0,
      "outputs": []
    },
    {
      "cell_type": "markdown",
      "metadata": {
        "id": "dv_OdzzHcNqb",
        "colab_type": "text"
      },
      "source": [
        "This went a bit better. Do you remember the adaptive optimizers from the lecture (such as Adam, Adagrad and RMSprop)? These can be a great option as well when you don't know the right hyperparameters yet.\n",
        "\n",
        "Please check out [this website](https://cs231n.github.io/neural-networks-3/#loss) for a insightful description as well as the list of keras optimizers mentioned above."
      ]
    },
    {
      "cell_type": "markdown",
      "metadata": {
        "id": "WRwfDKYjhFCm",
        "colab_type": "text"
      },
      "source": [
        "So taken together, we've seen that adding momentum helps your model to train and optimize.  \n",
        "\n"
      ]
    },
    {
      "cell_type": "markdown",
      "metadata": {
        "id": "f6RPGFsmdgWe",
        "colab_type": "text"
      },
      "source": [
        "#### 1.5.4 Training with learning rate decay\n",
        "\n",
        "Above we saw that we can deal with the bumpy loss landscapes in more optimal ways by using an optimizer to compute the best gradients to follow. However, these gradients are ultimately still bound to the specified learning rate (e.g. 0.01) for performing the update on the weights. Now we are going to explore some ways in which we can adapt the learning rate over time.\n",
        "\n",
        "A sensible way to start could be to reduce the learning rate at every iteration a little bit. This is refferd to as learning rate decay. \n",
        "\n",
        "<font color='darkorange'><b>ToDo:</b></font> Can you set up a new model with learning rate decay with an initial learning rate of 0.01 and a decay of 1e-6? Again, you can keep all the other parameters the same. Train the model and see how it compares to the other training?\n",
        "\n",
        "\n"
      ]
    },
    {
      "cell_type": "code",
      "metadata": {
        "id": "7LlrYg3W7HCc",
        "colab_type": "code",
        "colab": {}
      },
      "source": [
        "# to realise: lr *= (1. / (1. + self.decay * self.iterations))\n",
        "epochs = 50\n",
        "batch_size = 36\n",
        "\n",
        "# model_154 = FILL\n",
        "# sgd_custom = keras.optimizers.SGD(FILL) \n",
        "# model_154.compile(FILL)\n",
        "# history_154 = model_153.fit(FILL, shuffle=True)\n",
        "\n",
        "model_154 = resnet_v1(input_shape=input_shape)\n",
        "sgd_decay = keras.optimizers.SGD(lr=0.01, decay=1e-6, momentum=0.9, nesterov=True) \n",
        "model_154.compile(loss='categorical_crossentropy',optimizer=sgd_decay,metrics=['accuracy'])\n",
        "history_154 = model_154.fit(x_train, y_train,batch_size=batch_size,epochs=epochs,validation_data=(x_val, y_val),shuffle=True)\n",
        "\n",
        "# Save the outcomes\n",
        "model.save_weights('/gdrive/My Drive/CCN2019/weights_154.h5')\n",
        "save_pickle(history_154, '/gdrive/My Drive/CCN2019/history_154')"
      ],
      "execution_count": 0,
      "outputs": []
    },
    {
      "cell_type": "code",
      "metadata": {
        "id": "WtqVx62Lkt2T",
        "colab_type": "code",
        "colab": {}
      },
      "source": [
        "history_154.history['lr'] =  0.01 *  (1. / (1. + 1e-6 * np.arange(1,epochs+1))) \n",
        "plot_training(history_154, title='1.5.4 Training with learning rate decay')\n",
        "\n"
      ],
      "execution_count": 0,
      "outputs": []
    },
    {
      "cell_type": "markdown",
      "metadata": {
        "id": "IthRF3bI8pVr",
        "colab_type": "text"
      },
      "source": [
        "<font color='cornflowerblue'><b>ToThink:</b></font> How does the reduction in learning rate compare to the other scenarios with a fixed learning rate? "
      ]
    },
    {
      "cell_type": "markdown",
      "metadata": {
        "id": "Gdl-dvzVOoTW",
        "colab_type": "text"
      },
      "source": [
        "ANSWER: Based on the training history, we see that they were less strong fluctuations at later epochs of the training. "
      ]
    },
    {
      "cell_type": "markdown",
      "metadata": {
        "id": "DY1PxF-i6kNx",
        "colab_type": "text"
      },
      "source": [
        "#### 1.5.5 Training with a fixed learning rate schedule\n",
        "\n",
        "As we discussed in the lecture, learning rate is one of the crucial hyperparameters, which is subject to optimization. If you in turn would like to replicate another paper, they sometimes mention a learning rate schedule that is optimized for this specific architecture and dataset. \n",
        "\n",
        "<font color='darkorange'><b>ToDo:</b></font> Can you come up with your own learning rate schedule below? Again, you can keep all the other parameters the same. Once, you are done, look at the provided training outcomes!"
      ]
    },
    {
      "cell_type": "code",
      "metadata": {
        "id": "MXHmRxiF-uWw",
        "colab_type": "code",
        "colab": {}
      },
      "source": [
        "epochs = 50\n",
        "batch_size = 36\n",
        "\n",
        "# model_155 = FILL\n",
        "model_155 = resnet_v1(input_shape=input_shape)\n",
        "\n",
        "# We stick to a common optimizer\n",
        "sgd = keras.optimizers.SGD(lr=0.01, momentum=0.9, nesterov=True) \n",
        "  \n",
        "# def step_decay(epoch): \n",
        "#if epoch  < FILL:\n",
        "#lrate=0.1\n",
        "#elif epoch < FILL:\n",
        "#lrate = 0.01\n",
        "#else:\n",
        "# lrate = 0.001\n",
        "#  return lrate\n",
        "\n",
        "def step_decay(epoch): \n",
        "  if epoch  < 10:\n",
        "    lrate=0.1\n",
        "  elif epoch < 30:\n",
        "    lrate = 0.01\n",
        "  else:\n",
        "    lrate = 0.001\n",
        "  return lrate\n",
        "\n",
        "# and we hand the function to the training with acallback.\n",
        "lr_reducer = keras.callbacks.LearningRateScheduler(step_decay)\n",
        "\n",
        "model_155.compile(loss='categorical_crossentropy',optimizer=sgd,metrics=['accuracy'])\n",
        "history_155 = model_155.fit(x_train, y_train,batch_size=batch_size,epochs=epochs,validation_data=(x_val, y_val),shuffle=True, callbacks = [lr_reducer])\n",
        "\n",
        "model_155.save_weights('/gdrive/My Drive/CCN2019/weights_155.h5')\n",
        "save_pickle(history_155, '/gdrive/My Drive/CCN2019/history_155')    "
      ],
      "execution_count": 0,
      "outputs": []
    },
    {
      "cell_type": "code",
      "metadata": {
        "id": "W8sYgwxIndg0",
        "colab_type": "code",
        "colab": {}
      },
      "source": [
        "plot_training(history_155, title='1.5.5 Training with a fixed learning rate schedule')\n"
      ],
      "execution_count": 0,
      "outputs": []
    },
    {
      "cell_type": "markdown",
      "metadata": {
        "id": "6YUGsn6E4-fM",
        "colab_type": "text"
      },
      "source": [
        "<font color='cornflowerblue'><b>ToThink:</b></font> Can you tell from the plot at which epochs the learning rate was changed?"
      ]
    },
    {
      "cell_type": "markdown",
      "metadata": {
        "id": "5vTlkgJF5Fgk",
        "colab_type": "text"
      },
      "source": [
        "ANSWER: Based on the dips and the third plot, you can see that it was changed in the 10th and 30th epoch."
      ]
    },
    {
      "cell_type": "markdown",
      "metadata": {
        "id": "HwokFvBT9k9g",
        "colab_type": "text"
      },
      "source": [
        "<font color='darkorange'><b>ToDo:</b></font> Plot all our training histories in one plot!\n",
        "\n",
        "\n",
        "\n"
      ]
    },
    {
      "cell_type": "code",
      "metadata": {
        "id": "oZe5zLr583LA",
        "colab_type": "code",
        "colab": {}
      },
      "source": [
        "# load_pickle('/gdrive/My Drive/CCN2019/history_151.pickle')\n",
        "# load_pickle('/gdrive/My Drive/CCN2019/history_152.pickle')\n",
        "# load_pickle('/gdrive/My Drive/CCN2019/history_153.pickle')\n",
        "# load_pickle('/gdrive/My Drive/CCN2019/history_154.pickle')\n",
        "# load_pickle('/gdrive/My Drive/CCN2019/history_155.pickle')\n",
        "\n",
        "plot_training(history_151, title='1.5.1 Training with large batch size and a fixed learning rate schedule')\n",
        "plot_training(history_152, title='1.5.2 Training with small batch size and a fixed learning rate schedule')\n",
        "plot_training(history_153, title='1.5.3 Training momentum')\n",
        "plot_training(history_154, title='1.5.4 Training learning rate decay')\n",
        "plot_training(history_155, title='1.5.5 Training fixed learning rate schedule')\n",
        "\n"
      ],
      "execution_count": 0,
      "outputs": []
    },
    {
      "cell_type": "markdown",
      "metadata": {
        "colab_type": "text",
        "id": "DCpuAbhB5IkP"
      },
      "source": [
        "<font color='cornflowerblue'><b>ToThink:</b></font> Which one worked the best?"
      ]
    },
    {
      "cell_type": "markdown",
      "metadata": {
        "id": "EAvqMmncd8dF",
        "colab_type": "text"
      },
      "source": [
        "ANSWER: Based on the comparison, the fixed training schedule seemed to have worked best. This is likely due to the fact that this schedule had a late phase with a very small learing rate, which allowed for very fine adjustments and that this was lacking in the other trainings. Also, this fixed schedule was based on the data-set making it a hyper parameter that has been optimized. "
      ]
    },
    {
      "cell_type": "markdown",
      "metadata": {
        "id": "mw29PHj34jEl",
        "colab_type": "text"
      },
      "source": [
        "### Part 1: Interim conclusion\n",
        "All of the examples above show that while keeping everything else the same, choosing the right hyperparameters can make a world of a difference. Usually, it pays off to invest some time and closely study the original papers and their chosen hyperparameters such as their optimization setup. Most likely, they have been optimized for this specific dataset and architecture!\n",
        "\n",
        "Up next, we will have a look at another remedy against overfitting on your training set!\n",
        "\n",
        "\n",
        "\n"
      ]
    },
    {
      "cell_type": "markdown",
      "metadata": {
        "id": "aqBNXXLH78Fb",
        "colab_type": "text"
      },
      "source": [
        "## Part 2: Data augmentation\n",
        "\n",
        "The logic behing data augmentation is to change the training images in such a way that the signal (in our case the category specific information) stays unchanged but the noise gets varied (e.g. by mirroring an image). Like this the amount of training data get multiplied, which can benefit its generalizability. \n",
        "\n",
        "\n",
        "\n",
        "\n",
        " "
      ]
    },
    {
      "cell_type": "markdown",
      "metadata": {
        "id": "GqBo4X4ALZY3",
        "colab_type": "text"
      },
      "source": [
        "### 2.1 Keras data augmentation techiques \n",
        "There is a whole range of possible manipulations that come 'out of the box' with [keras ]( https://keras.io/preprocessing/image/) like flipping, rotating and normalizing the training images.\n",
        "\n",
        "<font color='darkorange'><b>ToDo:</b></font> Perform a range of different data augmentation techniques on the same image and plot the outcome!"
      ]
    },
    {
      "cell_type": "code",
      "metadata": {
        "id": "ANAUg6WlL4eP",
        "colab_type": "code",
        "colab": {}
      },
      "source": [
        "from keras.preprocessing.image import ImageDataGenerator\n",
        "datagen = ImageDataGenerator(FILL)\n",
        "\n",
        "fig, ax = plt.subplots(1, 5, figsize=(10,5))\n",
        "for c in range(5):\n",
        "  FILL\n",
        "  sample = next(gen) \n",
        "  ax[c].imshow(sample[0]) \n",
        "  ax[c].axis('off')\n",
        "  \n",
        "  "
      ],
      "execution_count": 0,
      "outputs": []
    },
    {
      "cell_type": "code",
      "metadata": {
        "id": "AwFxB6Yz88Nj",
        "colab_type": "code",
        "outputId": "3e8327a8-050a-4007-fc18-ddfa198feaf5",
        "colab": {
          "base_uri": "https://localhost:8080/",
          "height": 127
        }
      },
      "source": [
        "## SOLUTION\n",
        "from keras.preprocessing.image import ImageDataGenerator\n",
        "\n",
        "datagen = ImageDataGenerator(zoom_range=[0.8,1.2], horizontal_flip=True, rotation_range=90)\n",
        "fig, ax = plt.subplots(1, 5, figsize=(10,5))\n",
        "for c in range(5):\n",
        "  gen = datagen.flow(x_train[4:5,:,:,:])\n",
        "  sample = next(gen) \n",
        "  ax[c].imshow(sample[0]) \n",
        "  ax[c].axis('off')"
      ],
      "execution_count": 0,
      "outputs": [
        {
          "output_type": "display_data",
          "data": {
            "image/png": "[encoded data removed]",
            "text/plain": [
              "<Figure size 720x360 with 5 Axes>"
            ]
          },
          "metadata": {
            "tags": []
          }
        }
      ]
    },
    {
      "cell_type": "markdown",
      "metadata": {
        "id": "7KRtHMbRLLWx",
        "colab_type": "text"
      },
      "source": [
        "### 2.2 Data augmentation in the paper\n",
        "The idea of this tutorial is to mimic the ResNet training, which used **random cropping** as well as **horizontal flipping** during training and **central cropping** for testing on the validation set. Additionally, all images were **subtracted by the mean pixel mean** prior to training:\n",
        "\n",
        "\"We follow the simple data augmentation [...] for training: 4 pixels are padded on each side,\n",
        "and a 32×32 crop is randomly sampled from the padded\n",
        "image or its horizontal flip. For testing, we only evaluate\n",
        "the single view of the original 32×32 image.\" (pp. 7, [Resnet paper](https://arxiv.org/pdf/1512.03385.pdf) by He et al. 2015)\n",
        "\n",
        "Unfortunately, Keras does not come with this functionality, so we here give you a set of custom functions to do exactly that.\n",
        " "
      ]
    },
    {
      "cell_type": "code",
      "metadata": {
        "id": "7opxJwARCR2A",
        "colab_type": "code",
        "colab": {}
      },
      "source": [
        "def CIFAR_crop(X, y,batch_size=1, crop = 'random'):\n",
        "\n",
        "    if crop not in [\"center\", \"random\"]:\n",
        "        raise ValueError('Invalid crop method {} specified.', crop)\n",
        "\n",
        "    target_size = (32, 32)\n",
        "\n",
        "    # Resize keeping aspect ratio\n",
        "    # result shold be no smaller than the targer size, include crop fraction overhead\n",
        "    #target_size_before_crop = (X.shape[1] / crop_fraction, X.shape[2] / crop_fraction)\n",
        "    #ratio = max(target_size_before_crop[0] / X.shape[1], target_size_before_crop[1] / X.shape[2])\n",
        "    #target_size_before_crop_keep_ratio = int(X.shape[1] * ratio), int(X.shape[2] * ratio)\n",
        "\n",
        "    counter = 0\n",
        "    while X.shape[0] - counter*batch_size > 0:\n",
        "\n",
        "        X_batch = X[counter * batch_size: (counter + 1) * batch_size, :, :, :]\n",
        "        y_batch = y[counter * batch_size: (counter + 1) * batch_size, :]\n",
        "\n",
        "        X_batch = np.pad(X_batch, ((0,0),(4,4),(4,4),(0,0)), 'reflect')\n",
        "\n",
        "        if crop == \"center\":\n",
        "            left_corner = int(round(X_batch.shape[1] / 2)) - int(round(target_size[0] / 2))\n",
        "            top_corner = int(round(X_batch.shape[2] / 2)) - int(round(target_size[1] / 2))\n",
        "            X_batch = X_batch[:,left_corner: left_corner + target_size[0], top_corner: top_corner + target_size[1], :]\n",
        "\n",
        "        elif crop == \"random\":\n",
        "            left_shift = np.random.randint(0, int((X_batch.shape[1] - target_size[0])))\n",
        "            down_shift = np.random.randint(0, int((X_batch.shape[2] - target_size[1])))\n",
        "\n",
        "            X_batch = X_batch[:, left_shift: left_shift + target_size[0], down_shift: down_shift + target_size[1], :]\n",
        "\n",
        "        # random flip from left to right\n",
        "        idx = np.random.randint(2,size = batch_size)\n",
        "        X_batch[idx==1,:,:,:] = np.flip(X_batch[idx==1,:,:,:],axis=2)\n",
        "\n",
        "        counter = counter + 1\n",
        "        if len(X) - (counter+1) * batch_size< 0: # After very last iterartion\n",
        "            counter = 0\n",
        "\n",
        "        yield X_batch, y_batch\n",
        "        \n",
        " "
      ],
      "execution_count": 0,
      "outputs": []
    },
    {
      "cell_type": "markdown",
      "metadata": {
        "id": "pBqnraTtEQEP",
        "colab_type": "text"
      },
      "source": [
        "<font color='limegreen'><b>Tips and Tricks</b></font>: Generators are a very useful to define routines to be executed for instance on an image dataset\n",
        "\n",
        "`Generator functions allow you to declare a function that behaves like an iterator, i.e. it can be used in a for loop.` [PythonDocs](https://wiki.python.org/moin/Generators)\n"
      ]
    },
    {
      "cell_type": "code",
      "metadata": {
        "id": "2uIbOy91EB_H",
        "colab_type": "code",
        "colab": {}
      },
      "source": [
        "data_generator = CIFAR_crop(x_train, y_train, batch_size=len(x_train))\n"
      ],
      "execution_count": 0,
      "outputs": []
    },
    {
      "cell_type": "markdown",
      "metadata": {
        "id": "PxWq0M01FZw0",
        "colab_type": "text"
      },
      "source": [
        "<font color='darkorange'><b>ToDo:</b></font> Get some samples for the generator and look at the images! "
      ]
    },
    {
      "cell_type": "code",
      "metadata": {
        "id": "PwETE4qB9YeY",
        "colab_type": "code",
        "outputId": "9a6a0e4a-5a04-45ec-a0f4-079e56a02643",
        "colab": {
          "base_uri": "https://localhost:8080/",
          "height": 575
        }
      },
      "source": [
        "## SOLUTION\n",
        "x_sample, y_sample = next(data_generator)\n",
        "# Plot it.\n",
        "fig, ax = plt.subplots(num_examples, num_classes, figsize=(20,10))\n",
        "for c in range(num_classes):\n",
        "  class_idx = np.where(np.where(y_sample ==1)[1] == c)[0] # for a given class\n",
        "  for e in range(num_examples): #pick some random examples from the training set\n",
        "    ax[e,c].imshow(x_sample[class_idx[np.random.randint(len(class_idx))],:,:,:]) \n",
        "    ax[e,c].axis('off')\n",
        "\n"
      ],
      "execution_count": 0,
      "outputs": [
        {
          "output_type": "display_data",
          "data": {
            "image/png": "[encoded data removed]",
            "text/plain": [
              "<Figure size 1440x720 with 50 Axes>"
            ]
          },
          "metadata": {
            "tags": []
          }
        }
      ]
    },
    {
      "cell_type": "markdown",
      "metadata": {
        "id": "bbT3iTl7Fuu9",
        "colab_type": "text"
      },
      "source": [
        "It is common practice to center the dataset so that it will be easier for the network to learn from the distribution of outputs. Centering a dataset means that it has a mean of zeros in every color channel respectively.\n",
        "\n",
        "<font color='darkorange'><b>ToDo:</b></font> We want to subtract the mean pixel value (from the training set) for a given color channnel in both the training and validation set. Write a function that does this!"
      ]
    },
    {
      "cell_type": "code",
      "metadata": {
        "id": "Wr_aZV4QGXiB",
        "colab_type": "code",
        "colab": {}
      },
      "source": [
        "def mean_subtract(x_train, x_test):\n",
        "  FILL\n",
        "  return x_train, x_test"
      ],
      "execution_count": 0,
      "outputs": []
    },
    {
      "cell_type": "code",
      "metadata": {
        "id": "WCoNMHJP9fvI",
        "colab_type": "code",
        "colab": {}
      },
      "source": [
        "## SOLUTION\n",
        "# mean pixel subtraction: \n",
        "\n",
        "def mean_subtract(x_train, x_test):\n",
        "  x_train_mean = np.mean(x_train, axis=0)\n",
        "  x_train -= x_train_mean\n",
        "  x_test -= x_train_mean # note that we are also subtracting the mean of the training set here.\n",
        "  return x_train, x_test"
      ],
      "execution_count": 0,
      "outputs": []
    },
    {
      "cell_type": "markdown",
      "metadata": {
        "id": "hzdNbl-p3sU_",
        "colab_type": "text"
      },
      "source": [
        "### 2.3 Replication of ResNet18 training on CIFAR10  \n",
        "\n",
        "Finally, let's try to directly copy the training in the paper for both the data augmentation mentioned above and combine it with everything you learnt about traning schemes:\n",
        "\n",
        "<font color='darkorange'><b>ToDo:</b></font> Set up the following training scheme:\n",
        "\n",
        "\"We use a weight decay of 0.0001 and momentum of 0.9, [...]. These models are trained with a minibatch size of 128 on two GPUs. We start with a learning rate of 0.1, divide it by 10 at 32k and 48k iterations, and terminate training at 64k iterations, which is determined on a 45k/5k train/val split. \" (pp. 7, [Resnet paper](https://arxiv.org/pdf/1512.03385.pdf))\n",
        "\n",
        "<font color='limegreen'><b>Tips and Tricks</b></font>: \n",
        "\n",
        "*Iteration*: Dataset size divided by batch size. \n",
        "\n",
        "The batch size is specified for both GPUs, so the actual batch size is divided by 2.\n",
        "\n",
        "<font color='darkorange'><b>ToDo:</b></font> Can you combine it with the data augmentation mentioned above?\n",
        "\n",
        "\n"
      ]
    },
    {
      "cell_type": "code",
      "metadata": {
        "id": "epTUn0o5mlE6",
        "colab_type": "code",
        "colab": {}
      },
      "source": [
        "# Define the learning rate schedule\n",
        "# Define the model\n",
        "# Define the compile function\n",
        "  \n",
        "## Data augmentation\n",
        "# Subtract the mean from the datasets\n",
        "x_train_m, x_val_m = mean_subtract(x_train, x_val)\n",
        "  \n",
        "#  the data generator\n",
        "train_generator = CIFAR_crop(x_train_m, y_train, batch_size=batch_size, crop=FILL)\n",
        "val_generator = CIFAR_crop(x_val_m, y_val, batch_size=batch_size, crop=FILL)\n",
        "\n",
        "## train\n",
        "history_230 = model_230.fit_generator(train_generator,\n",
        "                                      steps_per_epoch= x_train.shape[0]//batch_size,\n",
        "                                      epochs=FILL,\n",
        "                                      validation_data=val_generator,\n",
        "                                      validation_steps = x_val.shape[0]//batch_size,\n",
        "                                      shuffle=True, callbacks = [lr_reducer])\n",
        "# Save the results\n",
        "model_230.save_weights('/gdrive/My Drive/CCN2019/weights_230.h5')\n",
        "save_pickle(history_230, '/gdrive/My Drive/CCN2019/history_230')"
      ],
      "execution_count": 0,
      "outputs": []
    },
    {
      "cell_type": "code",
      "metadata": {
        "id": "M9EhlZaP9poM",
        "colab_type": "code",
        "colab": {}
      },
      "source": [
        "## SOLUTION\n",
        "def step_decay(epoch): # based on the paper\n",
        "    if epoch * 351 < 32000:\n",
        "        lrate=0.1\n",
        "    elif epoch * 351 < 48000:\n",
        "        lrate = 0.01\n",
        "    else:\n",
        "        lrate = 0.001\n",
        "    return lrate\n",
        "\n",
        "model_230 = resnet_v1(input_shape=input_shape)\n",
        "lr_reducer = keras.callbacks.LearningRateScheduler(step_decay)\n",
        "\n",
        "sgd = keras.optimizers.SGD(lr=0.1, decay=1e-4, momentum=0.9, nesterov=True) \n",
        "model_230.compile(loss='categorical_crossentropy',optimizer=sgd,\n",
        "              metrics=['accuracy'])\n",
        "x_train_m, x_val_m = mean_subtract(x_train, x_val)\n",
        "\n",
        "train_generator = CIFAR_crop(x_train_m, y_train, batch_size=batch_size)\n",
        "val_generator = CIFAR_crop(x_val_m, y_val, batch_size=batch_size)\n",
        "\n",
        "history_230 = model_230.fit_generator(train_generator, \n",
        "                                      steps_per_epoch= x_train.shape[0]//batch_size,\n",
        "                                      epochs=183,\n",
        "                                      validation_data=val_generator,\n",
        "                                      validation_steps = x_val.shape[0]//batch_size,\n",
        "                                      shuffle=True, callbacks = [lr_reducer])\n",
        "\n",
        "model_230.save_weights('/gdrive/My Drive/CCN2019/weights_230.h5')\n",
        "save_pickle(history_230, '/gdrive/My Drive/CCN2019/history_230')"
      ],
      "execution_count": 0,
      "outputs": []
    },
    {
      "cell_type": "code",
      "metadata": {
        "id": "Ix9JB43K-Ywt",
        "colab_type": "code",
        "colab": {}
      },
      "source": [
        "plot_training(history_230, title='2.3 Replication of ResNet18 training on CIFAR10')"
      ],
      "execution_count": 0,
      "outputs": []
    },
    {
      "cell_type": "markdown",
      "metadata": {
        "id": "1DACG3iNoWdO",
        "colab_type": "text"
      },
      "source": [
        "<font color='cornflowerblue'><b>ToThink:</b></font> If you plot the training history, how does it compare to the paper? Note that the y-axis in the paper is labeled error, which is 1-accuracy.\n",
        "![alt text](data:image/png;base64,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)\n",
        "\n",
        "\n"
      ]
    },
    {
      "cell_type": "markdown",
      "metadata": {
        "id": "6KcGoZol-R0R",
        "colab_type": "text"
      },
      "source": [
        "ANSWER: It looks pretty similar! The validation and training accuracy approximately end up in the same performance level as in the paper!"
      ]
    },
    {
      "cell_type": "markdown",
      "metadata": {
        "id": "att0JQbK-S0o",
        "colab_type": "text"
      },
      "source": [
        "<font color='cornflowerblue'><b>ToThink:</b></font> What do the drops in the loss and accuracy represent?\n",
        "\n"
      ]
    },
    {
      "cell_type": "markdown",
      "metadata": {
        "id": "AqO2DfVZ-Uun",
        "colab_type": "text"
      },
      "source": [
        "ANSWERS: This is again a result of the training schedule. "
      ]
    },
    {
      "cell_type": "markdown",
      "metadata": {
        "id": "fkzkeNHA-VGD",
        "colab_type": "text"
      },
      "source": [
        "<font color='cornflowerblue'><b>ToThink:</b></font> This training regime seems to perform better that the ones we trained in part 1. Why do you think that is?"
      ]
    },
    {
      "cell_type": "markdown",
      "metadata": {
        "id": "S0mSaZqd-WVx",
        "colab_type": "text"
      },
      "source": [
        "ANSWERS: This training not only had more epochs, it also had data augmentation, which prevented it from overfitting the training set. In addition, the authors of this paper have certainly invested a lot of time to find this optimal training schedule."
      ]
    },
    {
      "cell_type": "markdown",
      "metadata": {
        "id": "ACXUEP25-ogH",
        "colab_type": "text"
      },
      "source": [
        "### Part 2: Interim conclusion\n",
        "* Data augmentation is a powerful tool to avoid overfitting!\n",
        "* It is possible to replicate deep learning papers and worth it if you want to achieve the best performance.\n",
        "* You have just trained your first model at the state-of-the-art!\n"
      ]
    },
    {
      "cell_type": "markdown",
      "metadata": {
        "id": "uWQ6JyqTk159",
        "colab_type": "text"
      },
      "source": [
        "## Part 3: Transfer learning\n",
        "\n",
        "The last parts of the tutorial we were training models from scratch, this means, their weights were randomly initialized. While this give you a lot of freedom, for bigger networks training on large-scale dataset, training takes a long time and can easily go wrong. Models that have been pretrained on a broad task (such as object categorization on ImageNet) are a useful way to start!\n",
        "\n",
        "In the next part of the tutorial, we will be using pretrained models and customize them to a new task.\n",
        "\n",
        "\n",
        "\n"
      ]
    },
    {
      "cell_type": "markdown",
      "metadata": {
        "id": "Ox1nqOGisEx8",
        "colab_type": "text"
      },
      "source": [
        "### 3.1 Pre-trained ResNet18 on ImageNet\n",
        "\n"
      ]
    },
    {
      "cell_type": "code",
      "metadata": {
        "id": "aJ2vyTPqr7Cc",
        "colab_type": "code",
        "colab": {}
      },
      "source": [
        "# First we have to download a package containing a range of DCNNs trained on Imagenet\n",
        "!pip install -U image-classifiers==0.2.2 #git+https://github.com/qubvel/classification_models.git\n",
        "# The we load the remaining packages\n",
        "import classification_models\n",
        "from classification_models.resnet import ResNet18"
      ],
      "execution_count": 0,
      "outputs": []
    },
    {
      "cell_type": "code",
      "metadata": {
        "id": "ngTT1ZEGx078",
        "colab_type": "code",
        "colab": {}
      },
      "source": [
        "# Then we can assemble the model and load the weights. \n",
        "# Thanks to this package this is very easy.\n",
        "model = ResNet18((224, 224, 3), weights='imagenet')\n",
        "model.summary()"
      ],
      "execution_count": 0,
      "outputs": []
    },
    {
      "cell_type": "markdown",
      "metadata": {
        "id": "As7K9AIpx4kU",
        "colab_type": "text"
      },
      "source": [
        "<font color='cornflowerblue'><b>ToThink:</b></font> How does this Resnet18 compare to the other one? What do they have in common, what is different? \n",
        "\n",
        "*Hint*: Think about the size of the input images! <br/>\n",
        "*Hint*: Look at the channel depth (last dimension of every layer) and how this changes with network depth.\n"
      ]
    },
    {
      "cell_type": "markdown",
      "metadata": {
        "id": "iRtXH7a_yDWc",
        "colab_type": "text"
      },
      "source": [
        "### 3.2 5-category dataset\n",
        "We are going to fine-tune this Resnet18 to distinguish between 5 categories: bird, cat, fire hydrant, frisbee and suitcase.\n",
        "\n",
        "#### The dataset\n",
        "This dataset was assembled as a part of a project on whether recurrent processing solves the problem of object segmentation during object recognition in humans and deep neural networks. You might wonder now, how can you adress this question with feedforward neural network? The background of this is, that recurrent computations in the brain are argued to represent a very deep feedforward computation that is folded up over time. Noor therefore uses deep neural networks of varying depth and examines how well the network can deal with object segmentation. She is going to tell you much more about that this tomorrow morning.\n",
        "\n",
        "For now, we will finetune a Resnet18 on these object categories to prepare the networks for tomorrow's experiments!\n",
        "\n",
        "As a start, let's build a function that loads in the data from all the directories!"
      ]
    },
    {
      "cell_type": "code",
      "metadata": {
        "id": "oOYHL5eHyfLn",
        "colab_type": "code",
        "colab": {}
      },
      "source": [
        "# Let's load in the images\n",
        "\n",
        "img_dir = '/gdrive/My Drive/image_cat/' # this assumes that you have loaded in the dataset in your local google drive folder.\n",
        "train_dir = img_dir + 'train/'\n",
        "img_generator =  ImageDataGenerator().flow_from_directory(train_dir, \n",
        "                                                          target_size=(224, 224),\n",
        "                                                          batch_size=256,\n",
        "                                                          class_mode='categorical',\n",
        "                                                          shuffle=True)\n",
        "examples = next(img_generator)\n"
      ],
      "execution_count": 0,
      "outputs": []
    },
    {
      "cell_type": "markdown",
      "metadata": {
        "id": "6PbX5sX-zvos",
        "colab_type": "text"
      },
      "source": [
        "<font color='darkorange'><b>ToDo:</b></font> Have a look at the new dataset!"
      ]
    },
    {
      "cell_type": "code",
      "metadata": {
        "id": "Q4QfJjnJzzEA",
        "colab_type": "code",
        "colab": {}
      },
      "source": [
        "FILL"
      ],
      "execution_count": 0,
      "outputs": []
    },
    {
      "cell_type": "code",
      "metadata": {
        "id": "Xh4hMQu8DHtm",
        "colab_type": "code",
        "colab": {}
      },
      "source": [
        "## SOLUTION\n",
        "import numpy as np\n",
        "import matplotlib.pyplot as plt\n",
        "examples = next(img_generator)\n",
        "\n",
        "# How many classes are there?\n",
        "num_classes = 5 \n",
        "# and look at it.\n",
        "num_examples = 5\n",
        "cats = ['Bird','Cat', 'Fire Hydrant', 'Frisbee', 'Suitcase']\n",
        "\n",
        "fig, ax = plt.subplots(num_examples, num_classes, figsize=(12,10))\n",
        "for c in range(num_classes):\n",
        "  class_idx = np.where(np.where(examples[1] == 1)[1] == c)[0]# for a given class\n",
        "\n",
        "  for e in range(num_examples): #pick some random examples from the training set\n",
        "    ax[e,c].imshow(examples[0][class_idx[np.random.randint(0, len(class_idx)-1)],:,:,:]/255.) # We have to rescale the original images in order to display them. \n",
        "    ax[e,c].axis('off')\n",
        "    if e == 0:\n",
        "      ax[e,c].set_title(cats[c])\n",
        "\n",
        "fig.tight_layout()"
      ],
      "execution_count": 0,
      "outputs": []
    },
    {
      "cell_type": "markdown",
      "metadata": {
        "id": "YeC0h0l3z8Lq",
        "colab_type": "text"
      },
      "source": [
        "<font color='limegreen'><b>Tips and Tricks</b></font>: \n",
        "Different researchers perfom different kind of data preprocessing during their training of Imagenet. This makes that there is usually a custom preprocessing associated to the trained weights that shifts the values of the image in the expected range. If you do not transform your images that way, the network will not be able to recognize your images because it wasn't trained in this space.\n",
        "\n",
        "Some researchers subtract the mean value of each color channel (cf. 2.2), some other also normalize it by dividing by the standard deviation of the training set. \n",
        "\n",
        "In our case, the network accepts value from 0-255 and this also happens to be the format in which we load the images in!"
      ]
    },
    {
      "cell_type": "markdown",
      "metadata": {
        "id": "zCJcgkSE1Ki7",
        "colab_type": "text"
      },
      "source": [
        "### 3.3 Test it on naive Resnet18 familiar with Imagenet\n",
        "\n",
        "<font color='darkorange'><b>ToDo:</b></font> Find out (on a couple of images) how well the model predicts this dataset without being retrained.If you want you can plot the images and show the predicted labels.\n",
        "\n",
        "<font color='limegreen'><b>Tips and Tricks</b></font>:  You will find the  keras.applications.imagenet_utils.decode_predictions function useful to make sense of the model predictions.\n",
        "\n"
      ]
    },
    {
      "cell_type": "code",
      "metadata": {
        "id": "RsKXvZqI1S9b",
        "colab_type": "code",
        "colab": {}
      },
      "source": [
        "from keras.applications.imagenet_utils import decode_predictions\n",
        "\n",
        "generator_images =  ImageDataGenerator().flow_from_directory(img_dir + 'val/',\n",
        "                                                          target_size=(224,224),\n",
        "                                                          batch_size=5,\n",
        "                                                          class_mode='categorical',\n",
        "                                                          shuffle=True)\n",
        "\n",
        "imgs = FILL \n",
        "\n",
        "y = model.predict(imgs[0])\n",
        "\n",
        "fig, ax = plt.subplots(1, len(imgs[0]), figsize=(12,7))\n",
        "ax = ax.flatten()\n",
        "for c in range(len(imgs[0])):\n",
        "  ax[c].imshow(imgs[0][c]/255.) \n",
        "  ax[c].axis('off')\n",
        "  ax[c].set_title(decode_predictions(y[c,np.newaxis,:])[0][0][1] +'\\n' +  \n",
        "                  str(decode_predictions(y[c,np.newaxis,:])[0][0][2]))"
      ],
      "execution_count": 0,
      "outputs": []
    },
    {
      "cell_type": "code",
      "metadata": {
        "id": "W8TJW4jfDYT9",
        "colab_type": "code",
        "colab": {}
      },
      "source": [
        "# SOLUTION\n",
        "from keras.applications.imagenet_utils import decode_predictions\n",
        "\n",
        "generator_images =  ImageDataGenerator().flow_from_directory(img_dir + 'val/',\n",
        "                                                          target_size=(224,224),\n",
        "                                                          batch_size=5,\n",
        "                                                          class_mode='categorical',\n",
        "                                                          shuffle=True)\n",
        "imgs = next(generator_images)\n",
        "\n",
        "y = model.predict(imgs[0])\n",
        "\n",
        "fig, ax = plt.subplots(1, len(imgs[0]), figsize=(12,7))\n",
        "ax = ax.flatten()\n",
        "for c in range(len(imgs[0])):\n",
        "  ax[c].imshow(imgs[0][c]/255.) \n",
        "  ax[c].axis('off')\n",
        "  ax[c].set_title(decode_predictions(y[c,np.newaxis,:])[0][0][1] +'\\n' +  \n",
        "                  str(decode_predictions(y[c,np.newaxis,:])[0][0][2]))\n"
      ],
      "execution_count": 0,
      "outputs": []
    },
    {
      "cell_type": "markdown",
      "metadata": {
        "id": "-KffSKdG2DKG",
        "colab_type": "text"
      },
      "source": [
        "<font color='cornflowerblue'><b>ToThink:</b></font> What do you see? And what does the network see? Does the network's classification make sense and is it certain of it? Can we learn from it whether our categories of interest are on the picture?"
      ]
    },
    {
      "cell_type": "markdown",
      "metadata": {
        "id": "r4elKZsYJU0z",
        "colab_type": "text"
      },
      "source": [
        "ANSWER: The network does classify objects that are on the provided images, however usually this does not fall in the categories we want to know about! "
      ]
    },
    {
      "cell_type": "markdown",
      "metadata": {
        "id": "ChKCO3xF2OvU",
        "colab_type": "text"
      },
      "source": [
        "### 3.4 Transfer learning with fine-tuning\n",
        "\n",
        "For performing transfer learning, we will like in the last tutorial <br/>\n",
        "* prepare our data for training & testing. <br/>\n",
        "* setup the optimization & learning rate adaptation <br/>\n",
        "* perform the training\n",
        "\n",
        "In addition, we will also customize our architecture to suit the new target categories (5 vs. 1000)\n",
        "\n",
        "There are also some general differences to the first two parts of this tutorial such as the amount of epochs to train on and the chosen learning rate. I'll comment on these differences below.\n"
      ]
    },
    {
      "cell_type": "markdown",
      "metadata": {
        "id": "_QfUqEIk3Ih9",
        "colab_type": "text"
      },
      "source": [
        "#### 3.4.1 Data augmentation\n",
        "\n",
        "Unfortunately, keras cannot perform random cropping while loading images from a directory. For that reason, we have to create a monkey patch to emulate the load_img function. This in bad practice and I would avoid this under all circumstances."
      ]
    },
    {
      "cell_type": "code",
      "metadata": {
        "id": "wYgpJv2T3DLy",
        "colab_type": "code",
        "colab": {}
      },
      "source": [
        "import keras\n",
        "import random\n",
        "def load_and_crop_img(path, grayscale=False, color_mode='rgb', target_size=None,\n",
        "                      interpolation='nearest'):\n",
        "    \"\"\"Wraps keras_preprocessing.image.utils.loag_img() and adds cropping.\n",
        "    Cropping method enumarated in interpolation\n",
        "    # Arguments\n",
        "        path: Path to image file.\n",
        "        color_mode: One of \"grayscale\", \"rgb\", \"rgba\". Default: \"rgb\".\n",
        "            The desired image format.\n",
        "        target_size: Either `None` (default to original size)\n",
        "            or tuple of ints `(img_height, img_width)`.\n",
        "        interpolation: Interpolation and crop methods used to resample and crop the image\n",
        "            if the target size is different from that of the loaded image.\n",
        "            Methods are delimited by \":\" where first part is interpolation and second is crop\n",
        "            e.g. \"lanczos:random\".\n",
        "            Supported interpolation methods are \"nearest\", \"bilinear\", \"bicubic\", \"lanczos\",\n",
        "            \"box\", \"hamming\" By default, \"nearest\" is used.\n",
        "            Supported crop methods are \"none\", \"center\", \"random\".\n",
        "    # Returns\n",
        "        A PIL Image instance.\n",
        "    # Raises\n",
        "        ImportError: if PIL is not available.\n",
        "        ValueError: if interpolation method is not supported.\n",
        "        \n",
        "    This code is adapted from here: https://gist.github.com/rstml/bbd491287efc24133b90d4f7f3663905\n",
        "    \"\"\"\n",
        "\n",
        "    # Decode interpolation string. Allowed Crop methods: none, center, random\n",
        "    interpolation, crop = interpolation.split(\":\") if \":\" in interpolation else (interpolation, \"none\")\n",
        "    \n",
        "    if crop == \"none\":\n",
        "        return keras.preprocessing.image.load_img(path,grayscale=grayscale,\n",
        "                                                  color_mode=color_mode,\n",
        "                                                  target_size=target_size,\n",
        "                                                  interpolation=interpolation)\n",
        "\n",
        "    # Load original size image using Keras\n",
        "    img = keras.preprocessing.image.load_img(path,grayscale=grayscale,\n",
        "                                             color_mode=color_mode,\n",
        "                                             target_size=None,\n",
        "                                             interpolation=interpolation)\n",
        "\n",
        "    if interpolation not in keras.preprocessing.keras_preprocessing.image.utils._PIL_INTERPOLATION_METHODS:\n",
        "        raise ValueError(\n",
        "            'Invalid interpolation method {} specified. Supported '\n",
        "            'methods are {}'.format(interpolation,\n",
        "                                    \", \".join(\n",
        "                                        keras.preprocessing.image.utils._PIL_INTERPOLATION_METHODS.keys())))\n",
        "\n",
        "    resample = keras.preprocessing.keras_preprocessing.image.utils._PIL_INTERPOLATION_METHODS[interpolation]\n",
        "    \n",
        "    # Check whether the shorter side of the image is at least equal to the target_size\n",
        "    # and if so, resample.\n",
        "    if ((img.width - target_size[1]) < 0) | ((img.height-target_size[0]) < 0):\n",
        "      targetW, targetH = target_size[1],target_size[0]\n",
        "      if img.width < img.height:\n",
        "        targetH = round(img.height / img.width * targetW)\n",
        "      else:\n",
        "        targetW = round(img.width / img.height * targetH)\n",
        "\n",
        "      img = img.resize((targetH, targetW), resample= resample)\n",
        "                                             \n",
        "    if crop == 'random':\n",
        "      x, y = random.randint(0, img.width - target_size[1]), random.randint(0,img.height-target_size[0])\n",
        "      img = img.crop((x, y, x+target_size[1], y+target_size[0]))\n",
        "\n",
        "    elif crop == 'center':\n",
        "      x, y = int(round((img.width - target_size[1]) / 2)) , int(round((img.height-target_size[0])/2))\n",
        "      img = img.crop((x, y, x+target_size[1], y+target_size[0]))\n",
        "    else:\n",
        "      raise ValueError('Invalid crop method specified. Supported are None, random and center')\n",
        "                                                                                      \n",
        "    return img\n",
        "  \n",
        " \n",
        "# Swap the loading function to introduce random cropping with a monkey patch.\n",
        "keras.preprocessing.keras_preprocessing.image.iterator.load_img = load_and_crop_img\n",
        "epochs = 40\n",
        "batch_size = 32\n",
        "# And make the image generators                     \n",
        "train_generator =  ImageDataGenerator(horizontal_flip=True).flow_from_directory(img_dir + 'train/',\n",
        "                                                                                         target_size=(224, 224),\n",
        "                                                                                         interpolation='lanczos:random', #--> This is the argument for the hidden function \n",
        "                                                                                         batch_size=batch_size,\n",
        "                                                                                         class_mode='categorical',\n",
        "                                                                                         shuffle=True)\n",
        "                       \n",
        "val_generator =  ImageDataGenerator().flow_from_directory(img_dir + 'val/',\n",
        "                                                          target_size=(224, 224),\n",
        "                                                          interpolation='lanczos:center', #--> This is the argument for the hidden function \n",
        "                                                          batch_size=batch_size,\n",
        "                                                          class_mode='categorical',\n",
        "                                                          shuffle=True)\n",
        "\n",
        "                       \n",
        "                     "
      ],
      "execution_count": 0,
      "outputs": []
    },
    {
      "cell_type": "markdown",
      "metadata": {
        "id": "sN6OxGa83cDl",
        "colab_type": "text"
      },
      "source": [
        "#### 3.4.2 Adapt the architecture\n",
        "As a start we need to get rid of the layers we wish to replace from the old model.\n",
        "In our case this is the last fully-connected layer including its activation function. So basically we shorten the model up until the AveragePooling operation (model.layers[-3]).\n",
        "\n",
        "As a next step, the model should have as a last output a vector of 512 dimensions.\n",
        "We will add our new layer to read out the output to distinguish the 5 categories."
      ]
    },
    {
      "cell_type": "code",
      "metadata": {
        "id": "tAOWAT313gpg",
        "colab_type": "code",
        "colab": {}
      },
      "source": [
        "from keras.models import Model\n",
        "from keras.layers import Dense\n",
        "\n",
        "model_base = Model(inputs = model.input, outputs = model.layers[-3].output)\n",
        "\n",
        "model_340 = Model(inputs=model_base.input, outputs=Dense(num_classes, activation='softmax')(model_base.output))\n"
      ],
      "execution_count": 0,
      "outputs": []
    },
    {
      "cell_type": "markdown",
      "metadata": {
        "id": "FlTJsq5Q4Eiu",
        "colab_type": "text"
      },
      "source": [
        "<font color='darkorange'><b>ToDo:</b></font> Print the model summary and look what has changed! Also have a look at the total number of units!  "
      ]
    },
    {
      "cell_type": "code",
      "metadata": {
        "id": "mRpOPxpjD9gx",
        "colab_type": "code",
        "colab": {}
      },
      "source": [
        "model_340.summary()"
      ],
      "execution_count": 0,
      "outputs": []
    },
    {
      "cell_type": "markdown",
      "metadata": {
        "id": "crBmsK7U4hbs",
        "colab_type": "text"
      },
      "source": [
        "#### 3.4.3 Setup the optimization & learning rate adaptation\n",
        "\n",
        "When we set up the optimizer, we will pick an inital learning rate that is much smaller than training from scratch (0.001 vs. 0.1). Also, we turn the decay from 0.0001 to 0.00001.\n",
        "\n",
        "<font color='cornflowerblue'><b>ToThink:</b></font> Why do you think we are using a smaller learning rate and decay?\n",
        "\n",
        "\n"
      ]
    },
    {
      "cell_type": "markdown",
      "metadata": {
        "colab_type": "text",
        "id": "Lj86OyQ36_MG"
      },
      "source": [
        "ANSWER: The network already learnt a lot in its past training and by using a larger learning rate we reduce the risk that the network will move too far away from its initial weights. We are using a smaller weight decay because our initial learning rate is already very small and if we keep the same increments, we would very quickly end up with something very small. \n"
      ]
    },
    {
      "cell_type": "markdown",
      "metadata": {
        "id": "0Zauh7ENSbV9",
        "colab_type": "text"
      },
      "source": [
        "If you are training a larger model, it pays off to also setup an checkpointer.\n",
        "This is observing the performance on a specified quantity such as validation \n",
        "loss or accuracy and will save the thus far best performing model.\n"
      ]
    },
    {
      "cell_type": "code",
      "metadata": {
        "id": "U4Il-dwH4u_8",
        "colab_type": "code",
        "colab": {}
      },
      "source": [
        "optimizer = keras.optimizers.SGD(lr=0.001, decay=1e-6, momentum=0.9, nesterov=True) \n",
        "model_340.compile(loss='categorical_crossentropy',optimizer=optimizer, metrics=['accuracy'])\n",
        "\n",
        "# This creates a new directory in your drive.\n",
        "%mkdir \"/gdrive/My Drive/CCN2019/transfer1/\"\n"
      ],
      "execution_count": 0,
      "outputs": []
    },
    {
      "cell_type": "markdown",
      "metadata": {
        "id": "gqmFUY8P5JI1",
        "colab_type": "text"
      },
      "source": [
        "#### 3.4.4 Perform the fine-tuning\n",
        "\n"
      ]
    },
    {
      "cell_type": "code",
      "metadata": {
        "id": "3hYCahGc54a_",
        "colab_type": "code",
        "colab": {}
      },
      "source": [
        "history_340 = model_340.fit_generator(train_generator,\n",
        "                                      steps_per_epoch=len(train_generator.labels)//batch_size, \n",
        "                                      epochs=epochs,\n",
        "                                      validation_data=val_generator,\n",
        "                                      validation_steps=len(val_generator.labels)//batch_size,\n",
        "                                      nb_worker=2) # This argument says that two workers in parallel will preprocess the images on the CPU cores\n",
        "\n",
        "model_340.save_weights('/gdrive/My Drive/CCN2019/transfer1/weights_340.h5')\n",
        "save_pickle(history_340, '/gdrive/My Drive/CCN2019/transfer1/history_340')\n"
      ],
      "execution_count": 0,
      "outputs": []
    },
    {
      "cell_type": "markdown",
      "metadata": {
        "id": "rhrnvIJq6ckV",
        "colab_type": "text"
      },
      "source": [
        "We will now plot the training performance! \n",
        "\n"
      ]
    },
    {
      "cell_type": "code",
      "metadata": {
        "id": "1UV_Tg9REdlc",
        "colab_type": "code",
        "colab": {}
      },
      "source": [
        "plot_training(history_340)"
      ],
      "execution_count": 0,
      "outputs": []
    },
    {
      "cell_type": "markdown",
      "metadata": {
        "id": "8B_jV6p5Jz8r",
        "colab_type": "text"
      },
      "source": [
        "<font color='cornflowerblue'><b>ToThink:</b></font> How did the training go? What are the differences to training it from scratch?\n",
        "\n"
      ]
    },
    {
      "cell_type": "markdown",
      "metadata": {
        "id": "YvMfsNhoJ2g6",
        "colab_type": "text"
      },
      "source": [
        "ANSWER: The model learnt within one epoch to classify the validation set at ca. 60% accuracy. This indicates that the pretrained weights already had a lot of useful features to distinguish between the classes. The improvement over time is also much smaller that in the earlier trainings because the learning rate is very small."
      ]
    },
    {
      "cell_type": "markdown",
      "metadata": {
        "id": "a8WVj5GlJ29d",
        "colab_type": "text"
      },
      "source": [
        "<font color='cornflowerblue'><b>ToThinkAdvanced:</b></font> How can the validation accuracy be higher than the training accuracy? Hint: Consider data augmentation"
      ]
    },
    {
      "cell_type": "markdown",
      "metadata": {
        "id": "9i2ISGbWJ3f-",
        "colab_type": "text"
      },
      "source": [
        "ANSWER: The validation dataset is preprocessed with a center crop and the training dataset with a random crop. The pretrained weights have an easier time classifying the center cropped images than the training images, since the central part of the image is usually the most informative. Because of that the model is always better at classifying the validation dataset. However over time the weights are being adjusted to also deal with the random crop, which shows in the increase of training accuracy over the training."
      ]
    },
    {
      "cell_type": "markdown",
      "metadata": {
        "id": "njEq1nuo7J4c",
        "colab_type": "text"
      },
      "source": [
        "### 3.5 Transfer learning with finetuning of the output layer\n",
        "\n",
        "Here, we follow the same steps as with the other transfer learning method. The only difference is in how we set up the network. Namely, in addition to replacing the output layer we are also going to **freeze** the rest of the weights. This means that they will not be adjusted during training. "
      ]
    },
    {
      "cell_type": "markdown",
      "metadata": {
        "id": "dyACy6gZ7ok7",
        "colab_type": "text"
      },
      "source": [
        "#### 3.5.1 Adapt the architecture.\n",
        "This is essentially the same as in the last section: We first replace the output layer with one suitable for 5 output target categories. After that is done, we also freeze the weight by setting the layer.trainable argument to false."
      ]
    },
    {
      "cell_type": "code",
      "metadata": {
        "id": "36ARui1v7SB1",
        "colab_type": "code",
        "colab": {}
      },
      "source": [
        "# 2. adapt the architecture\n",
        "from keras.models import Model\n",
        "from keras.layers import Dense\n",
        "\n",
        "# The first part is identical to above.\n",
        "model_base = Model(inputs = model.input, outputs = model.layers[-3].output)\n",
        "model_350 = Model(inputs=model_base.input, outputs=Dense(num_classes, activation='softmax')(model_base.output))\n",
        "# Now comes the freezing:\n",
        "\n",
        "for l in range(len(model_350.layers[:-3])):\n",
        "  model_350.layers[l].trainable = False\n"
      ],
      "execution_count": 0,
      "outputs": []
    },
    {
      "cell_type": "markdown",
      "metadata": {
        "id": "1o8Fa3Gf8NVg",
        "colab_type": "text"
      },
      "source": [
        "<font color='darkorange'><b>ToDo:</b></font> Print the model summary and look what has changed! Also have a look at the total number of units and also those that are trainable. Did the freezing work?\n",
        "\n",
        "\n",
        "\n"
      ]
    },
    {
      "cell_type": "code",
      "metadata": {
        "id": "cHa_BgMdBPos",
        "colab_type": "code",
        "colab": {}
      },
      "source": [
        "FILL"
      ],
      "execution_count": 0,
      "outputs": []
    },
    {
      "cell_type": "code",
      "metadata": {
        "id": "Em0ZOjrtEhg1",
        "colab_type": "code",
        "colab": {}
      },
      "source": [
        "## SOLUTION\n",
        "model_350.summary()"
      ],
      "execution_count": 0,
      "outputs": []
    },
    {
      "cell_type": "markdown",
      "metadata": {
        "id": "eHGPMEL08sL5",
        "colab_type": "text"
      },
      "source": [
        "#### 3.5.2 Setup\n",
        "For the rest of the transfer learning, we can recycle all of the other components from the other setup of 3.4"
      ]
    },
    {
      "cell_type": "code",
      "metadata": {
        "id": "QDbD8DQ58hCF",
        "colab_type": "code",
        "colab": {}
      },
      "source": [
        "%mkdir \"/gdrive/My Drive/CCN2019/transfer2/\"\n",
        "weight_path = '/gdrive/My Drive/CCN2019/transfer2/weights.{epoch:02d}-{val_acc:.4f}.h5'\n",
        "checkpoint2 = keras.callbacks.ModelCheckpoint(weight_path, monitor='val_acc', verbose=1, save_best_only=True)\n",
        "\n",
        "model_350.compile(loss='categorical_crossentropy',optimizer=optimizer, metrics=['accuracy'])"
      ],
      "execution_count": 0,
      "outputs": []
    },
    {
      "cell_type": "markdown",
      "metadata": {
        "id": "Gp7ctYv88-Wo",
        "colab_type": "text"
      },
      "source": [
        "#### 3.5.3 Perform the feature extraction\n",
        "\n",
        "And then we already ready for the training!\n"
      ]
    },
    {
      "cell_type": "code",
      "metadata": {
        "id": "de0bLUFR9G4d",
        "colab_type": "code",
        "colab": {}
      },
      "source": [
        "history_350 = model_350.fit_generator(train_generator, \n",
        "                                   steps_per_epoch=len(train_generator.labels)//batch_size, \n",
        "                                   epochs=epochs,\n",
        "                                   validation_data=val_generator,\n",
        "                                   validation_steps=len(val_generator.labels)//batch_size,\n",
        "                                   callbacks=[checkpoint2], \n",
        "                                   nb_worker=2) \n",
        "\n",
        "model_350.save_weights('/gdrive/My Drive/CCN2019/transfer2/weights_350.h5')\n",
        "save_pickle(history_350, '/gdrive/My Drive/CCN2019/transfer2/history_350')\n",
        "\n"
      ],
      "execution_count": 0,
      "outputs": []
    },
    {
      "cell_type": "markdown",
      "metadata": {
        "id": "Q_MH8sOE9RQU",
        "colab_type": "text"
      },
      "source": [
        "<font color='darkorange'><b>ToDo:</b></font> Plot both of the training performances and compare!\n",
        "\n"
      ]
    },
    {
      "cell_type": "code",
      "metadata": {
        "id": "SmHvNr0lEnKn",
        "colab_type": "code",
        "colab": {}
      },
      "source": [
        "fig, ax = plt.subplots(1, 4, figsize=(20,5))\n",
        "ax = ax.flatten()\n",
        "for history in [history_340,history_350]:\n",
        "\n",
        "    ax[0].plot(np.arange(epochs), np.transpose(history.history['loss']))\n",
        "    ax[0].set_xlabel('epochs')\n",
        "    ax[0].set_ylabel('loss')\n",
        "    ax[0].set_ylim([0,3])\n",
        "    #ax[0].legend(['training', 'validation'])\n",
        "    \n",
        "    ax[1].plot(np.arange(epochs), np.transpose(history.history['val_loss']))\n",
        "    ax[1].set_xlabel('epochs')\n",
        "    ax[1].set_ylabel('val_loss')\n",
        "    ax[1].set_ylim([0,3])\n",
        "  \n",
        "\n",
        "    ax[2].plot(np.arange(epochs), np.transpose(history.history['acc']))\n",
        "    ax[2].set_xlabel('epochs')\n",
        "    ax[2].set_ylabel('accuracy')\n",
        "    ax[2].set_ylim([0,1])\n",
        "                                                \n",
        "    ax[3].plot(np.arange(epochs), np.transpose(history.history['val_acc']))\n",
        "    ax[3].set_xlabel('epochs')\n",
        "    ax[3].set_ylabel('val_accuracy')\n",
        "    ax[3].set_ylim([0,1])\n",
        "    \n",
        "ax[3].legend(['Fine-tuning', 'Feature extraction'])"
      ],
      "execution_count": 0,
      "outputs": []
    },
    {
      "cell_type": "markdown",
      "metadata": {
        "id": "ldbwZgdwfMpG",
        "colab_type": "text"
      },
      "source": [
        "<font color='cornflowerblue'><b>ToThink:</b></font> What is the difference between the approaches for the current dataset and network architecture?"
      ]
    },
    {
      "cell_type": "markdown",
      "metadata": {
        "id": "Xzwre1l8fMx5",
        "colab_type": "text"
      },
      "source": [
        "ANSWER: In this scenario, it does not seem to make a difference at all, which tells us that the pre-trained features were already very suitable to distinguish these five categories!"
      ]
    },
    {
      "cell_type": "markdown",
      "metadata": {
        "id": "xpDbYE2E9pLH",
        "colab_type": "text"
      },
      "source": [
        "### Part 3: Interim conclusion\n",
        "\n",
        "* Fine-tuning and using a pre-trained DCNN is relatively straight forward.\n",
        "* This allows you to use DCNNs on novel tasks and datasets.\n",
        "\n",
        "In the next tutorial you will apply this knowledge!\n",
        "\n",
        "<font color='darkorange'><b>Well done!</b></font>\n"
      ]
    },
    {
      "cell_type": "markdown",
      "metadata": {
        "id": "HY6UBcDjU3w6",
        "colab_type": "text"
      },
      "source": [
        "## Part 4: Finding the best AlexNet\n"
      ]
    },
    {
      "cell_type": "markdown",
      "metadata": {
        "id": "MxFyF7wfyqcU",
        "colab_type": "text"
      },
      "source": [
        "Find the best alexnet (performance on the validation set), given the following contraints:\n",
        "\n",
        "only 50 epochs.\n",
        "you cannot change the number of layers of Alexnet\n",
        "you cannot change the Cifar10 set as defined directly below:"
      ]
    },
    {
      "cell_type": "code",
      "metadata": {
        "id": "XCFNxBLjxFhi",
        "colab_type": "code",
        "outputId": "80367eec-dea0-436a-da78-d8ce7918b403",
        "colab": {
          "base_uri": "https://localhost:8080/",
          "height": 51
        }
      },
      "source": [
        "# Reload Cifar10 again\n",
        "(x_train, y_train), (x_test, y_test) = cifar10.load_data()\n",
        "num_classes = 10\n",
        "x_train = x_train.astype('float32') / 255\n",
        "x_test = x_test.astype('float32') / 255\n",
        "y_train = keras.utils.to_categorical(y_train, num_classes)\n",
        "y_test = keras.utils.to_categorical(y_test, num_classes)\n",
        "x_train, x_val, y_train, y_val = train_test_split(x_train, y_train, test_size=0.25, random_state=3) # 30k train, 10k val"
      ],
      "execution_count": 0,
      "outputs": [
        {
          "output_type": "stream",
          "text": [
            "Downloading data from https://www.cs.toronto.edu/~kriz/cifar-10-python.tar.gz\n",
            "170500096/170498071 [==============================] - 3s 0us/step\n"
          ],
          "name": "stdout"
        }
      ]
    },
    {
      "cell_type": "code",
      "metadata": {
        "id": "5vLsYURZaQ9m",
        "colab_type": "code",
        "colab": {}
      },
      "source": [
        "from keras.models import Sequential\n",
        "from keras.layers import Dropout,MaxPool2D\n",
        "\n",
        "# setup AlexNet\n",
        "AlexNet = Sequential()\n",
        "#Layer 1 \n",
        "AlexNet.add( Conv2D(48, kernel_size=(3,3),strides=(1,1), activation='relu', padding='same', input_shape=x_train.shape[1:] ) )\n",
        "AlexNet.add( MaxPool2D(pool_size=(2,2),strides=(2,2)) )\n",
        "#Layer 2\n",
        "AlexNet.add( Conv2D(96, kernel_size=(3,3), activation='relu', padding='same') )\n",
        "AlexNet.add( MaxPool2D(pool_size=(2,2),strides=(2,2)))\n",
        "#Layer 3\n",
        "AlexNet.add( Conv2D(192, kernel_size=(3,3), activation='relu', padding='same') )\n",
        "#Layer 4\n",
        "AlexNet.add( Conv2D(192, kernel_size=(3,3), activation='relu', padding='same') )\n",
        "AlexNet.add( MaxPool2D(pool_size=(2,2),strides=(2,2)) )\n",
        "AlexNet.add(Flatten())\n",
        "#Layer 6\n",
        "AlexNet.add(Dense(512, activation='tanh'))\n",
        "#Layer 7 \n",
        "AlexNet.add(Dense(256, activation='tanh'))\n",
        "#Prediction\n",
        "AlexNet.add(Dense(10, activation='softmax'))\n",
        "AlexNet.summary()\n",
        "\n",
        "sgd = keras.optimizers.SGD()\n",
        "\n",
        "epochs = 50\n",
        "batch_size = 36\n",
        "AlexNet.compile(loss='categorical_crossentropy',optimizer=sgd,metrics=['acc']) \n",
        "hist2 = AlexNet.fit(x_train, y_train,epochs=epochs,batch_size= batch_size,validation_data=(x_val, y_val),shuffle=True)"
      ],
      "execution_count": 0,
      "outputs": []
    }
  ]
}